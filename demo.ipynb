{
 "cells": [
  {
   "cell_type": "markdown",
   "id": "3639e010",
   "metadata": {},
   "source": [
    "# NLP Pipelines\n",
    "\n",
    "This package is designed to generalize the fit/predict to entire end to end pipelines for text. It can be used as individual methods or as a pipeline object to manage execution of training and/or testing. See README.md for an overview of which methods are in here.\n",
    "\n",
    "## This Demo Set\n",
    "\n",
    "This set of demos walks through:\n",
    "\n",
    "* **Basic Usage Demos** Using abstract/toy datasets to show how to use this library.\n",
    "  * **Usage of the library as individual methods**: Using each of the methods manually to get results.\n",
    "  * **Usage of the pipeline constructor**: A reimplementaiton of the examples above using the pipeline object.\n",
    "  * **Saving and loading trained pipelines**: Quick guidance on how to separate training and running/prediction.\n",
    "* **Practical Demos**: With real data and justifying decisions on pipeline design.\n",
    "  * **Practical Demo: Clustering**: A real end-to-end example on clustering, where \"clustering\" is picking some set of groups without explicit mapping to classes.\n",
    "  * **Practical Demo: Classification**: A real end-to-end example on classification, where \"classificaiton\" is picking which of a set of classes best apply to a document.\n",
    "  * **Practical Demo: Extractive Labeling**: A real end-to-end example on extractive labeling, where \"extractive labeling\" is picking which words or phrases in a document \"seem important\", like automatic keyword extraction.\n",
    "  * **Practical Demo: Extractive Labeling**: A real end-to-end example on predictive labeling, where a set of possible labels is chosen a prioro, and between none and all of the possible labels may apply to a document.\n",
    "  * **(WIP) Practical Demo: Mixing Methods**:  A real end-to-end example on using different kinds of methods together to get simpler results.\n",
    "\n",
    "NOTE that this is not intended to be an exhaustive demo of all of the different methods: `test_demos.ipynb` may be a better choice for that."
   ]
  },
  {
   "cell_type": "markdown",
   "id": "751ad3c6",
   "metadata": {},
   "source": [
    "## Setup Dependncies\n",
    "For portability, this is included to install dependencies for this library and notebook itself."
   ]
  },
  {
   "cell_type": "code",
   "execution_count": 1,
   "id": "bc01a498",
   "metadata": {},
   "outputs": [
    {
     "name": "stdout",
     "output_type": "stream",
     "text": [
      "Requirement already satisfied: scikit-learn in /opt/homebrew/Caskroom/miniconda/base/envs/spade/lib/python3.12/site-packages (from -r requirements.txt (line 1)) (1.7.1)\n",
      "Requirement already satisfied: nltk in /opt/homebrew/Caskroom/miniconda/base/envs/spade/lib/python3.12/site-packages (from -r requirements.txt (line 2)) (3.9.1)\n",
      "Requirement already satisfied: spacy in /opt/homebrew/Caskroom/miniconda/base/envs/spade/lib/python3.12/site-packages (from -r requirements.txt (line 3)) (3.8.7)\n",
      "Requirement already satisfied: numpy in /opt/homebrew/Caskroom/miniconda/base/envs/spade/lib/python3.12/site-packages (from -r requirements.txt (line 4)) (2.2.6)\n",
      "Requirement already satisfied: pandas in /opt/homebrew/Caskroom/miniconda/base/envs/spade/lib/python3.12/site-packages (from -r requirements.txt (line 5)) (2.3.1)\n",
      "Requirement already satisfied: fasttext in /opt/homebrew/Caskroom/miniconda/base/envs/spade/lib/python3.12/site-packages (from -r requirements.txt (line 6)) (0.9.3)\n",
      "Requirement already satisfied: sentence_transformers in /opt/homebrew/Caskroom/miniconda/base/envs/spade/lib/python3.12/site-packages (from -r requirements.txt (line 7)) (5.0.0)\n",
      "Requirement already satisfied: rank_bm25 in /opt/homebrew/Caskroom/miniconda/base/envs/spade/lib/python3.12/site-packages (from -r requirements.txt (line 10)) (0.2.2)\n",
      "Requirement already satisfied: keybert in /opt/homebrew/Caskroom/miniconda/base/envs/spade/lib/python3.12/site-packages (from -r requirements.txt (line 11)) (0.9.0)\n",
      "Requirement already satisfied: multi_rake in /opt/homebrew/Caskroom/miniconda/base/envs/spade/lib/python3.12/site-packages (from -r requirements.txt (line 12)) (0.0.2)\n",
      "Requirement already satisfied: yake in /opt/homebrew/Caskroom/miniconda/base/envs/spade/lib/python3.12/site-packages (from -r requirements.txt (line 13)) (0.6.0)\n",
      "Requirement already satisfied: torch in /opt/homebrew/Caskroom/miniconda/base/envs/spade/lib/python3.12/site-packages (from -r requirements.txt (line 14)) (2.7.1)\n",
      "Requirement already satisfied: networkx in /opt/homebrew/Caskroom/miniconda/base/envs/spade/lib/python3.12/site-packages (from -r requirements.txt (line 15)) (3.5)\n",
      "Requirement already satisfied: xgboost in /opt/homebrew/Caskroom/miniconda/base/envs/spade/lib/python3.12/site-packages (from -r requirements.txt (line 16)) (3.0.2)\n",
      "Requirement already satisfied: transformers in /opt/homebrew/Caskroom/miniconda/base/envs/spade/lib/python3.12/site-packages (from -r requirements.txt (line 17)) (4.54.1)\n",
      "Requirement already satisfied: hdbscan in /opt/homebrew/Caskroom/miniconda/base/envs/spade/lib/python3.12/site-packages (from -r requirements.txt (line 18)) (0.8.40)\n",
      "Requirement already satisfied: umap in /opt/homebrew/Caskroom/miniconda/base/envs/spade/lib/python3.12/site-packages (from -r requirements.txt (line 19)) (0.1.1)\n",
      "Requirement already satisfied: pyarrow in /opt/homebrew/Caskroom/miniconda/base/envs/spade/lib/python3.12/site-packages (from -r requirements.txt (line 20)) (21.0.0)\n",
      "Requirement already satisfied: bertopic in /opt/homebrew/Caskroom/miniconda/base/envs/spade/lib/python3.12/site-packages (from -r requirements.txt (line 21)) (0.17.3)\n",
      "Requirement already satisfied: umap-learn in /opt/homebrew/Caskroom/miniconda/base/envs/spade/lib/python3.12/site-packages (from -r requirements.txt (line 22)) (0.5.9.post2)\n",
      "Requirement already satisfied: scipy in /opt/homebrew/Caskroom/miniconda/base/envs/spade/lib/python3.12/site-packages (from -r requirements.txt (line 24)) (1.16.1)\n",
      "Requirement already satisfied: joblib>=1.2.0 in /opt/homebrew/Caskroom/miniconda/base/envs/spade/lib/python3.12/site-packages (from scikit-learn->-r requirements.txt (line 1)) (1.5.1)\n",
      "Requirement already satisfied: threadpoolctl>=3.1.0 in /opt/homebrew/Caskroom/miniconda/base/envs/spade/lib/python3.12/site-packages (from scikit-learn->-r requirements.txt (line 1)) (3.6.0)\n",
      "Requirement already satisfied: click in /opt/homebrew/Caskroom/miniconda/base/envs/spade/lib/python3.12/site-packages (from nltk->-r requirements.txt (line 2)) (8.1.7)\n",
      "Requirement already satisfied: regex>=2021.8.3 in /opt/homebrew/Caskroom/miniconda/base/envs/spade/lib/python3.12/site-packages (from nltk->-r requirements.txt (line 2)) (2025.7.29)\n",
      "Requirement already satisfied: tqdm in /opt/homebrew/Caskroom/miniconda/base/envs/spade/lib/python3.12/site-packages (from nltk->-r requirements.txt (line 2)) (4.67.1)\n",
      "Requirement already satisfied: spacy-legacy<3.1.0,>=3.0.11 in /opt/homebrew/Caskroom/miniconda/base/envs/spade/lib/python3.12/site-packages (from spacy->-r requirements.txt (line 3)) (3.0.12)\n",
      "Requirement already satisfied: spacy-loggers<2.0.0,>=1.0.0 in /opt/homebrew/Caskroom/miniconda/base/envs/spade/lib/python3.12/site-packages (from spacy->-r requirements.txt (line 3)) (1.0.5)\n",
      "Requirement already satisfied: murmurhash<1.1.0,>=0.28.0 in /opt/homebrew/Caskroom/miniconda/base/envs/spade/lib/python3.12/site-packages (from spacy->-r requirements.txt (line 3)) (1.0.13)\n",
      "Requirement already satisfied: cymem<2.1.0,>=2.0.2 in /opt/homebrew/Caskroom/miniconda/base/envs/spade/lib/python3.12/site-packages (from spacy->-r requirements.txt (line 3)) (2.0.11)\n",
      "Requirement already satisfied: preshed<3.1.0,>=3.0.2 in /opt/homebrew/Caskroom/miniconda/base/envs/spade/lib/python3.12/site-packages (from spacy->-r requirements.txt (line 3)) (3.0.10)\n",
      "Requirement already satisfied: thinc<8.4.0,>=8.3.4 in /opt/homebrew/Caskroom/miniconda/base/envs/spade/lib/python3.12/site-packages (from spacy->-r requirements.txt (line 3)) (8.3.6)\n",
      "Requirement already satisfied: wasabi<1.2.0,>=0.9.1 in /opt/homebrew/Caskroom/miniconda/base/envs/spade/lib/python3.12/site-packages (from spacy->-r requirements.txt (line 3)) (1.1.3)\n",
      "Requirement already satisfied: srsly<3.0.0,>=2.4.3 in /opt/homebrew/Caskroom/miniconda/base/envs/spade/lib/python3.12/site-packages (from spacy->-r requirements.txt (line 3)) (2.5.1)\n",
      "Requirement already satisfied: catalogue<2.1.0,>=2.0.6 in /opt/homebrew/Caskroom/miniconda/base/envs/spade/lib/python3.12/site-packages (from spacy->-r requirements.txt (line 3)) (2.0.10)\n",
      "Requirement already satisfied: weasel<0.5.0,>=0.1.0 in /opt/homebrew/Caskroom/miniconda/base/envs/spade/lib/python3.12/site-packages (from spacy->-r requirements.txt (line 3)) (0.4.1)\n",
      "Requirement already satisfied: typer<1.0.0,>=0.3.0 in /opt/homebrew/Caskroom/miniconda/base/envs/spade/lib/python3.12/site-packages (from spacy->-r requirements.txt (line 3)) (0.16.0)\n",
      "Requirement already satisfied: requests<3.0.0,>=2.13.0 in /opt/homebrew/Caskroom/miniconda/base/envs/spade/lib/python3.12/site-packages (from spacy->-r requirements.txt (line 3)) (2.32.4)\n",
      "Requirement already satisfied: pydantic!=1.8,!=1.8.1,<3.0.0,>=1.7.4 in /opt/homebrew/Caskroom/miniconda/base/envs/spade/lib/python3.12/site-packages (from spacy->-r requirements.txt (line 3)) (2.11.7)\n",
      "Requirement already satisfied: jinja2 in /opt/homebrew/Caskroom/miniconda/base/envs/spade/lib/python3.12/site-packages (from spacy->-r requirements.txt (line 3)) (3.0.3)\n",
      "Requirement already satisfied: setuptools in /opt/homebrew/Caskroom/miniconda/base/envs/spade/lib/python3.12/site-packages (from spacy->-r requirements.txt (line 3)) (75.8.0)\n",
      "Requirement already satisfied: packaging>=20.0 in /opt/homebrew/Caskroom/miniconda/base/envs/spade/lib/python3.12/site-packages (from spacy->-r requirements.txt (line 3)) (25.0)\n",
      "Requirement already satisfied: langcodes<4.0.0,>=3.2.0 in /opt/homebrew/Caskroom/miniconda/base/envs/spade/lib/python3.12/site-packages (from spacy->-r requirements.txt (line 3)) (3.5.0)\n",
      "Requirement already satisfied: python-dateutil>=2.8.2 in /opt/homebrew/Caskroom/miniconda/base/envs/spade/lib/python3.12/site-packages (from pandas->-r requirements.txt (line 5)) (2.9.0.post0)\n",
      "Requirement already satisfied: pytz>=2020.1 in /opt/homebrew/Caskroom/miniconda/base/envs/spade/lib/python3.12/site-packages (from pandas->-r requirements.txt (line 5)) (2022.1)\n",
      "Requirement already satisfied: tzdata>=2022.7 in /opt/homebrew/Caskroom/miniconda/base/envs/spade/lib/python3.12/site-packages (from pandas->-r requirements.txt (line 5)) (2025.2)\n",
      "Requirement already satisfied: pybind11>=2.2 in /opt/homebrew/Caskroom/miniconda/base/envs/spade/lib/python3.12/site-packages (from fasttext->-r requirements.txt (line 6)) (3.0.0)\n",
      "Requirement already satisfied: huggingface-hub>=0.20.0 in /opt/homebrew/Caskroom/miniconda/base/envs/spade/lib/python3.12/site-packages (from sentence_transformers->-r requirements.txt (line 7)) (0.34.3)\n",
      "Requirement already satisfied: Pillow in /opt/homebrew/Caskroom/miniconda/base/envs/spade/lib/python3.12/site-packages (from sentence_transformers->-r requirements.txt (line 7)) (11.3.0)\n",
      "Requirement already satisfied: typing_extensions>=4.5.0 in /opt/homebrew/Caskroom/miniconda/base/envs/spade/lib/python3.12/site-packages (from sentence_transformers->-r requirements.txt (line 7)) (4.14.1)\n",
      "Requirement already satisfied: rich>=10.4.0 in /opt/homebrew/Caskroom/miniconda/base/envs/spade/lib/python3.12/site-packages (from keybert->-r requirements.txt (line 11)) (14.0.0)\n",
      "Requirement already satisfied: pycld2>=0.41 in /opt/homebrew/Caskroom/miniconda/base/envs/spade/lib/python3.12/site-packages (from multi_rake->-r requirements.txt (line 12)) (0.42)\n",
      "Requirement already satisfied: pyrsistent>=0.14.2 in /opt/homebrew/Caskroom/miniconda/base/envs/spade/lib/python3.12/site-packages (from multi_rake->-r requirements.txt (line 12)) (0.20.0)\n",
      "Requirement already satisfied: jellyfish in /opt/homebrew/Caskroom/miniconda/base/envs/spade/lib/python3.12/site-packages (from yake->-r requirements.txt (line 13)) (1.2.0)\n",
      "Requirement already satisfied: segtok in /opt/homebrew/Caskroom/miniconda/base/envs/spade/lib/python3.12/site-packages (from yake->-r requirements.txt (line 13)) (1.5.11)\n",
      "Requirement already satisfied: tabulate in /opt/homebrew/Caskroom/miniconda/base/envs/spade/lib/python3.12/site-packages (from yake->-r requirements.txt (line 13)) (0.9.0)\n",
      "Requirement already satisfied: filelock in /opt/homebrew/Caskroom/miniconda/base/envs/spade/lib/python3.12/site-packages (from torch->-r requirements.txt (line 14)) (3.18.0)\n",
      "Requirement already satisfied: sympy>=1.13.3 in /opt/homebrew/Caskroom/miniconda/base/envs/spade/lib/python3.12/site-packages (from torch->-r requirements.txt (line 14)) (1.14.0)\n",
      "Requirement already satisfied: fsspec in /opt/homebrew/Caskroom/miniconda/base/envs/spade/lib/python3.12/site-packages (from torch->-r requirements.txt (line 14)) (2025.7.0)\n",
      "Requirement already satisfied: pyyaml>=5.1 in /opt/homebrew/Caskroom/miniconda/base/envs/spade/lib/python3.12/site-packages (from transformers->-r requirements.txt (line 17)) (6.0.2)\n",
      "Requirement already satisfied: tokenizers<0.22,>=0.21 in /opt/homebrew/Caskroom/miniconda/base/envs/spade/lib/python3.12/site-packages (from transformers->-r requirements.txt (line 17)) (0.21.4)\n",
      "Requirement already satisfied: safetensors>=0.4.3 in /opt/homebrew/Caskroom/miniconda/base/envs/spade/lib/python3.12/site-packages (from transformers->-r requirements.txt (line 17)) (0.5.3)\n",
      "Requirement already satisfied: plotly>=4.7.0 in /opt/homebrew/Caskroom/miniconda/base/envs/spade/lib/python3.12/site-packages (from bertopic->-r requirements.txt (line 21)) (6.2.0)\n",
      "Requirement already satisfied: llvmlite>0.36.0 in /opt/homebrew/Caskroom/miniconda/base/envs/spade/lib/python3.12/site-packages (from bertopic->-r requirements.txt (line 21)) (0.44.0)\n",
      "Requirement already satisfied: numba>=0.51.2 in /opt/homebrew/Caskroom/miniconda/base/envs/spade/lib/python3.12/site-packages (from umap-learn->-r requirements.txt (line 22)) (0.61.2)\n",
      "Requirement already satisfied: pynndescent>=0.5 in /opt/homebrew/Caskroom/miniconda/base/envs/spade/lib/python3.12/site-packages (from umap-learn->-r requirements.txt (line 22)) (0.5.13)\n",
      "Requirement already satisfied: hf-xet<2.0.0,>=1.1.3 in /opt/homebrew/Caskroom/miniconda/base/envs/spade/lib/python3.12/site-packages (from huggingface-hub>=0.20.0->sentence_transformers->-r requirements.txt (line 7)) (1.1.5)\n",
      "Requirement already satisfied: language-data>=1.2 in /opt/homebrew/Caskroom/miniconda/base/envs/spade/lib/python3.12/site-packages (from langcodes<4.0.0,>=3.2.0->spacy->-r requirements.txt (line 3)) (1.3.0)\n",
      "Requirement already satisfied: narwhals>=1.15.1 in /opt/homebrew/Caskroom/miniconda/base/envs/spade/lib/python3.12/site-packages (from plotly>=4.7.0->bertopic->-r requirements.txt (line 21)) (2.0.1)\n",
      "Requirement already satisfied: annotated-types>=0.6.0 in /opt/homebrew/Caskroom/miniconda/base/envs/spade/lib/python3.12/site-packages (from pydantic!=1.8,!=1.8.1,<3.0.0,>=1.7.4->spacy->-r requirements.txt (line 3)) (0.7.0)\n",
      "Requirement already satisfied: pydantic-core==2.33.2 in /opt/homebrew/Caskroom/miniconda/base/envs/spade/lib/python3.12/site-packages (from pydantic!=1.8,!=1.8.1,<3.0.0,>=1.7.4->spacy->-r requirements.txt (line 3)) (2.33.2)\n",
      "Requirement already satisfied: typing-inspection>=0.4.0 in /opt/homebrew/Caskroom/miniconda/base/envs/spade/lib/python3.12/site-packages (from pydantic!=1.8,!=1.8.1,<3.0.0,>=1.7.4->spacy->-r requirements.txt (line 3)) (0.4.1)\n",
      "Requirement already satisfied: six>=1.5 in /opt/homebrew/Caskroom/miniconda/base/envs/spade/lib/python3.12/site-packages (from python-dateutil>=2.8.2->pandas->-r requirements.txt (line 5)) (1.17.0)\n",
      "Requirement already satisfied: charset_normalizer<4,>=2 in /opt/homebrew/Caskroom/miniconda/base/envs/spade/lib/python3.12/site-packages (from requests<3.0.0,>=2.13.0->spacy->-r requirements.txt (line 3)) (3.4.2)\n",
      "Requirement already satisfied: idna<4,>=2.5 in /opt/homebrew/Caskroom/miniconda/base/envs/spade/lib/python3.12/site-packages (from requests<3.0.0,>=2.13.0->spacy->-r requirements.txt (line 3)) (3.10)\n",
      "Requirement already satisfied: urllib3<3,>=1.21.1 in /opt/homebrew/Caskroom/miniconda/base/envs/spade/lib/python3.12/site-packages (from requests<3.0.0,>=2.13.0->spacy->-r requirements.txt (line 3)) (2.5.0)\n",
      "Requirement already satisfied: certifi>=2017.4.17 in /opt/homebrew/Caskroom/miniconda/base/envs/spade/lib/python3.12/site-packages (from requests<3.0.0,>=2.13.0->spacy->-r requirements.txt (line 3)) (2025.7.14)\n",
      "Requirement already satisfied: markdown-it-py>=2.2.0 in /opt/homebrew/Caskroom/miniconda/base/envs/spade/lib/python3.12/site-packages (from rich>=10.4.0->keybert->-r requirements.txt (line 11)) (3.0.0)\n",
      "Requirement already satisfied: pygments<3.0.0,>=2.13.0 in /opt/homebrew/Caskroom/miniconda/base/envs/spade/lib/python3.12/site-packages (from rich>=10.4.0->keybert->-r requirements.txt (line 11)) (2.19.1)\n",
      "Requirement already satisfied: mpmath<1.4,>=1.1.0 in /opt/homebrew/Caskroom/miniconda/base/envs/spade/lib/python3.12/site-packages (from sympy>=1.13.3->torch->-r requirements.txt (line 14)) (1.3.0)\n",
      "Requirement already satisfied: blis<1.4.0,>=1.3.0 in /opt/homebrew/Caskroom/miniconda/base/envs/spade/lib/python3.12/site-packages (from thinc<8.4.0,>=8.3.4->spacy->-r requirements.txt (line 3)) (1.3.0)\n",
      "Requirement already satisfied: confection<1.0.0,>=0.0.1 in /opt/homebrew/Caskroom/miniconda/base/envs/spade/lib/python3.12/site-packages (from thinc<8.4.0,>=8.3.4->spacy->-r requirements.txt (line 3)) (0.1.5)\n",
      "Requirement already satisfied: shellingham>=1.3.0 in /opt/homebrew/Caskroom/miniconda/base/envs/spade/lib/python3.12/site-packages (from typer<1.0.0,>=0.3.0->spacy->-r requirements.txt (line 3)) (1.5.4)\n",
      "Requirement already satisfied: cloudpathlib<1.0.0,>=0.7.0 in /opt/homebrew/Caskroom/miniconda/base/envs/spade/lib/python3.12/site-packages (from weasel<0.5.0,>=0.1.0->spacy->-r requirements.txt (line 3)) (0.21.1)\n",
      "Requirement already satisfied: smart-open<8.0.0,>=5.2.1 in /opt/homebrew/Caskroom/miniconda/base/envs/spade/lib/python3.12/site-packages (from weasel<0.5.0,>=0.1.0->spacy->-r requirements.txt (line 3)) (7.3.0.post1)\n",
      "Requirement already satisfied: MarkupSafe>=2.0 in /opt/homebrew/Caskroom/miniconda/base/envs/spade/lib/python3.12/site-packages (from jinja2->spacy->-r requirements.txt (line 3)) (3.0.2)\n",
      "Requirement already satisfied: marisa-trie>=1.1.0 in /opt/homebrew/Caskroom/miniconda/base/envs/spade/lib/python3.12/site-packages (from language-data>=1.2->langcodes<4.0.0,>=3.2.0->spacy->-r requirements.txt (line 3)) (1.2.1)\n",
      "Requirement already satisfied: mdurl~=0.1 in /opt/homebrew/Caskroom/miniconda/base/envs/spade/lib/python3.12/site-packages (from markdown-it-py>=2.2.0->rich>=10.4.0->keybert->-r requirements.txt (line 11)) (0.1.2)\n",
      "Requirement already satisfied: wrapt in /opt/homebrew/Caskroom/miniconda/base/envs/spade/lib/python3.12/site-packages (from smart-open<8.0.0,>=5.2.1->weasel<0.5.0,>=0.1.0->spacy->-r requirements.txt (line 3)) (1.17.2)\n",
      "Note: you may need to restart the kernel to use updated packages.\n"
     ]
    }
   ],
   "source": [
    "# install dependencies\n",
    "%pip install -r requirements.txt "
   ]
  },
  {
   "cell_type": "code",
   "execution_count": 2,
   "id": "a81ab1ee",
   "metadata": {},
   "outputs": [],
   "source": [
    "# common imports to be used later\n",
    "import copy\n",
    "import matplotlib.pyplot as plt\n",
    "from collections import Counter"
   ]
  },
  {
   "cell_type": "markdown",
   "id": "c6366d56",
   "metadata": {},
   "source": [
    "# Basic Usage Demos"
   ]
  },
  {
   "cell_type": "markdown",
   "id": "71427222",
   "metadata": {},
   "source": [
    "## Datasets\n",
    "\n",
    "We should make different datasets for different pipelines. For this basic usage section, the datasets are fake and chosen unrealistically to demonstrate the shape of the inputs and outputs of the steps and pipelines. We'll need a dataset with no truths (true labels are called \"truths\" in this library) for clustering and extractive labeling, one with classes for classification, and one with lists of labels as truths for labeling."
   ]
  },
  {
   "cell_type": "code",
   "execution_count": 3,
   "id": "0e188325",
   "metadata": {},
   "outputs": [],
   "source": [
    "from nlp_pipelines.dataset import Dataset\n",
    "\n",
    "# methods which do not need truths of any form get the unlabeled_dataset.\n",
    "# \"activities\" dataset, using for clustering and extractive labeling\n",
    "texts_1 = [\n",
    "    \"I love hiking in the mountains.\",\n",
    "    \"The sun is shining bright today.\",\n",
    "    \"Reading books is my favorite hobby.\",\n",
    "    \"I enjoy outdoor activities like camping.\",\n",
    "    \"It's a beautiful day for a walk in the park.\",\n",
    "    \"I prefer staying indoors and watching movies.\",\n",
    "    \"Cooking new recipes is always fun.\"\n",
    "]\n",
    "\n",
    "unlabeled_dataset = Dataset(texts_1)\n",
    "\n",
    "# methods which need truth clases (exactly one per document) get the classed_dataset.\n",
    "# \"movies\" dataset, using for classification\n",
    "texts_2 = [\n",
    "    \"I love this movie\",\n",
    "    \"This is terrible\",\n",
    "    \"Fantastic work\",\n",
    "    \"Awful experience\",\n",
    "    \"My favorite film ever\",\n",
    "    \"A waste of my time\",\n",
    "    \"Not enough people have seen this masterpiece\"\n",
    "    ]\n",
    "classes = [\n",
    "    \"positive\",\n",
    "    \"negative\",\n",
    "    \"positive\",\n",
    "    \"negative\",\n",
    "    \"positive\",\n",
    "    \"negative\",\n",
    "    \"positive\"\n",
    "    ]\n",
    "classed_dataset = Dataset(texts_2, classes)\n",
    "\n",
    "# methods which need truth label sets (0 to n per document) get the labeled_dataset.\n",
    "# used for predictive labeling (multi class)\n",
    "texts_3 = [\n",
    "    \"I love baking with things from my garden.\",\n",
    "    \"Here's a recipe for lasagna.\",\n",
    "    \"I enjoy hiking in the mountains and camping.\",\n",
    "    \"I have recenly learned how to cook good food when hiking.\",\n",
    "    \"I spent the weekend building a treehouse.\",\n",
    "    \"Cooking dinner with fresh ingredients is a joy.\",\n",
    "    \"I often take long walks in the park during summer to get inspired on what I should plant.\"\n",
    "]\n",
    "\n",
    "possible_labels = [\"gardening\", \"cooking\", \"outdoors\"]\n",
    "\n",
    "labels = [\n",
    "    [\"cooking\", \"gardening\"],\n",
    "    [\"cooking\"],\n",
    "    [\"outdoors\"],\n",
    "    [\"outdoors\", \"cooking\"],\n",
    "    [\"outdoors\"],\n",
    "    [\"cooking\"],\n",
    "    [\"outdoors\", \"gardening\"]\n",
    "]\n",
    "\n",
    "labeled_dataset = Dataset(texts_3, labels)\n",
    "\n",
    "\n",
    "\n"
   ]
  },
  {
   "cell_type": "markdown",
   "id": "191f8f8c",
   "metadata": {},
   "source": [
    "## Usage of the library as individual methods\n",
    "\n",
    "Now, let's try to get some results for our toy data.\n",
    "\n"
   ]
  },
  {
   "cell_type": "markdown",
   "id": "d8311467",
   "metadata": {},
   "source": [
    "### Clustering\n",
    "As a reminder, we want to apply clusters on the unlabeled dataset. There's no ground truth, and we're trying to put each document into one and only one class. The classes are not predefined, clustering is looking to find latent patterns in a dataset."
   ]
  },
  {
   "cell_type": "code",
   "execution_count": 4,
   "id": "2dc54522",
   "metadata": {},
   "outputs": [
    {
     "name": "stderr",
     "output_type": "stream",
     "text": [
      "/opt/homebrew/Caskroom/miniconda/base/envs/spade/lib/python3.12/site-packages/tqdm/auto.py:21: TqdmWarning: IProgress not found. Please update jupyter and ipywidgets. See https://ipywidgets.readthedocs.io/en/stable/user_install.html\n",
      "  from .autonotebook import tqdm as notebook_tqdm\n"
     ]
    },
    {
     "name": "stdout",
     "output_type": "stream",
     "text": [
      "initial data: <Dataset with 7 texts\n",
      "Texts: ['I love hiking in the mountains.', 'The sun is shining bright today.']... +5 more>\n",
      "dataset after stopword remove: <Dataset with 7 texts\n",
      "Texts: ['love hiking mountains', 'sun shining bright today']... +5 more>\n",
      "all texts ['love hiking mountains', 'sun shining bright today', 'Reading books favorite hobby', 'enjoy outdoor activities like camping', 'beautiful day walk park', 'prefer staying indoors watching movies', 'Cooking new recipes fun'] \n",
      "\n",
      "dataset after stemming: <Dataset with 7 texts\n",
      "Texts: ['love hike mountain', 'sun shine bright today']... +5 more>\n",
      "all texts ['love hike mountain', 'sun shine bright today', 'read book favorit hobbi', 'enjoy outdoor activ like camp', 'beauti day walk park', 'prefer stay indoor watch movi', 'cook new recip fun'] \n",
      "\n",
      "dataset after vectorization: <Dataset with 7 texts, vectors: 384-dim\n",
      "Texts: ['love hike mountain', 'sun shine bright today']... +5 more>\n",
      "all vectors [[-0.13409571 -0.008285    0.02116843 ... -0.01936261  0.01713305\n",
      "  -0.0909147 ]\n",
      " [-0.00182896  0.11011387  0.10065813 ... -0.01920953 -0.04799552\n",
      "   0.01889171]\n",
      " [ 0.00449698  0.07479469 -0.06301159 ... -0.01046814 -0.02555852\n",
      "   0.00956246]\n",
      " ...\n",
      " [ 0.00017735  0.05777533  0.06615058 ... -0.06258599 -0.03044749\n",
      "  -0.05044145]\n",
      " [-0.00903855 -0.03168115  0.00936492 ... -0.01697654 -0.07931575\n",
      "   0.03336983]\n",
      " [-0.03941787 -0.12811784  0.02446229 ...  0.07771917 -0.02589475\n",
      "  -0.0794154 ]] \n",
      "\n",
      "dataset after k-means: <Dataset with 7 texts, vectors: 384-dim, results: 7 items\n",
      "Texts: ['love hike mountain', 'sun shine bright today']... +5 more\n",
      "Results: [1 1]... +5 more>\n",
      "all results [1 1 1 0 1 0 0] \n",
      "\n",
      "\n",
      " Before and after:\n",
      "original text: ['I love hiking in the mountains.', 'The sun is shining bright today.', 'Reading books is my favorite hobby.', 'I enjoy outdoor activities like camping.', \"It's a beautiful day for a walk in the park.\", 'I prefer staying indoors and watching movies.', 'Cooking new recipes is always fun.']\n",
      "cluster results: [1 1 1 0 1 0 0]\n"
     ]
    },
    {
     "name": "stderr",
     "output_type": "stream",
     "text": [
      "/opt/homebrew/Caskroom/miniconda/base/envs/spade/lib/python3.12/site-packages/torch/nn/modules/module.py:1762: FutureWarning: `encoder_attention_mask` is deprecated and will be removed in version 4.55.0 for `BertSdpaSelfAttention.forward`.\n",
      "  return forward_call(*args, **kwargs)\n",
      "huggingface/tokenizers: The current process just got forked, after parallelism has already been used. Disabling parallelism to avoid deadlocks...\n",
      "To disable this warning, you can either:\n",
      "\t- Avoid using `tokenizers` before the fork if possible\n",
      "\t- Explicitly set the environment variable TOKENIZERS_PARALLELISM=(true | false)\n"
     ]
    }
   ],
   "source": [
    "\n",
    "# let's make a copy of our data as not to interfere with any other runs\n",
    "cluster_dataset = copy.deepcopy(unlabeled_dataset)\n",
    "\n",
    "#Our goal is to see which clusters the data is in, rather than to use the clusters to classify new data, so we can use the same data to fit and predict without splitting, just using cluster_dataset\n",
    "\n",
    "# we need a vectorizer to put this into a form which we can do math on. So we can use one thing for all, we'll use the sentence embedding model ('all-MiniLM-L6-v2)\n",
    "\n",
    "# import\n",
    "from nlp_pipelines.vectorizer import SentenceEmbedding\n",
    "\n",
    "# initialize\n",
    "embedding_model = SentenceEmbedding(model_name='all-MiniLM-L6-v2') # \"all-MiniLM-L6-v2\" is the default for this method, but let's make it explicit\n",
    "# this is a pretrained embedding model which uses context to take a chunk of text and return a vector which is meant to represent the text in some high dimensional space. See (https://huggingface.co/sentence-transformers/all-MiniLM-L6-v2) for details of this particular model; the website should also have other options for sentence embeddings, which may be more well suited to particular tasks, possibly with computational tradeoffs.\n",
    "\n",
    "# while sentence embeddings typically do well with the full sentence uncleaned, we'll also remove uninformative words and stem, to make the sentences simpler.\n",
    "\n",
    "# import\n",
    "from nlp_pipelines.preprocess import StopwordRemove, Stem\n",
    "\n",
    "# initalize\n",
    "stopword_remover = StopwordRemove() # remove uninformative words\n",
    "stemmer = Stem() # find the roots of words\n",
    "\n",
    "# let's use k-means with k=2 for the clustering\n",
    "\n",
    "#import\n",
    "from nlp_pipelines.clusterer import Kmeans\n",
    "\n",
    "# initalize\n",
    "kmeans_model = Kmeans(num_clusters=2, random_state=101) # picks 2 points in embedding space as centroids; documents are assigned to closest centroid\n",
    "\n",
    "# ok, now we need to run these on the dataset in order. Preprocess, then vectorize, then cluster.\n",
    "\n",
    "# each of the methods needs to be fit and transoformed/predicted on the data.\n",
    "print(\"initial data:\", cluster_dataset)\n",
    "\n",
    "# remove stopwords\n",
    "stopword_remover.fit(cluster_dataset)\n",
    "cluster_dataset = stopword_remover.transform(cluster_dataset) # keep working on this object \"cluster_dataset\" step by step\n",
    "print(\"dataset after stopword remove:\", cluster_dataset)\n",
    "print(\"all texts\", cluster_dataset.texts ,\"\\n\")\n",
    "\n",
    "# then we stem\n",
    "stemmer.fit(cluster_dataset)\n",
    "cluster_dataset = stemmer.transform(cluster_dataset)\n",
    "print(\"dataset after stemming:\", cluster_dataset)\n",
    "print(\"all texts\", cluster_dataset.texts ,\"\\n\")\n",
    "\n",
    "# then we embed/vectorize\n",
    "embedding_model.fit(cluster_dataset)\n",
    "cluster_dataset = embedding_model.transform(cluster_dataset)\n",
    "print(\"dataset after vectorization:\", cluster_dataset)\n",
    "print(\"all vectors\", cluster_dataset.vectors ,\"\\n\")\n",
    "\n",
    "# then we can use the kmeans model\n",
    "kmeans_model.fit(cluster_dataset)\n",
    "cluster_dataset = kmeans_model.predict(cluster_dataset)\n",
    "print(\"dataset after k-means:\", cluster_dataset)\n",
    "print(\"all results\", cluster_dataset.results ,\"\\n\")\n",
    "\n",
    "print(\"\\n\", \"Before and after:\")\n",
    "# finally, let's just look at the results and original texts side by side\n",
    "print(\"original text:\", cluster_dataset.original_texts)\n",
    "print(\"cluster results:\", cluster_dataset.results)\n"
   ]
  },
  {
   "cell_type": "markdown",
   "id": "a37b388e",
   "metadata": {},
   "source": [
    "### Extractive Labeling (Keyword Extraction)\n",
    "\n",
    "Labeling is getting 0+ \"labels\" per document. the simpler version of this is extractive labeling, more commonly referred to as keyword extraction. The problem is usually framed as having a large text and wanting to get especially important/informative keywords. These are not picked from a user-supplied set, and are extracted from the text. Since the text is extracted, and there are multiple labels per document, I've called this extractive labeling for internal naming consistency.\n",
    "\n",
    "Anyway, we can do the same preprocessing as we did, but we don't need to vectorize, since this method works on the text itself, rather than in an embedding space. We could reuse the same dataset which already has these transformations and overwrite the results, but for now, let's do it from scratch for clarity."
   ]
  },
  {
   "cell_type": "code",
   "execution_count": 5,
   "id": "dd299d41",
   "metadata": {},
   "outputs": [
    {
     "name": "stdout",
     "output_type": "stream",
     "text": [
      "initial data: <Dataset with 7 texts\n",
      "Texts: ['I love hiking in the mountains.', 'The sun is shining bright today.']... +5 more> \n",
      "\n",
      "after stopword remove: <Dataset with 7 texts\n",
      "Texts: ['love hiking mountains', 'sun shining bright today']... +5 more>\n",
      "all texts ['love hiking mountains', 'sun shining bright today', 'Reading books favorite hobby', 'enjoy outdoor activities like camping', 'beautiful day walk park', 'prefer staying indoors watching movies', 'Cooking new recipes fun'] \n",
      "\n",
      "after stemming: <Dataset with 7 texts\n",
      "Texts: ['love hike mountain', 'sun shine bright today']... +5 more>\n",
      "all texts ['love hike mountain', 'sun shine bright today', 'read book favorit hobbi', 'enjoy outdoor activ like camp', 'beauti day walk park', 'prefer stay indoor watch movi', 'cook new recip fun'] \n",
      "\n",
      "after labeling: <Dataset with 7 texts, results: 7 items\n",
      "Texts: ['love hike mountain', 'sun shine bright today']... +5 more\n",
      "Results: [['love', 'mountain'], ['bright today', 'sun shine']]... +5 more>\n",
      "all results [['love', 'mountain'], ['bright today', 'sun shine'], ['read book', 'book'], ['activ', 'camp'], ['day walk park', 'walk park'], ['watch movi', 'stay indoor'], ['cook new recip', 'new']] \n",
      "\n",
      "all original texts ['I love hiking in the mountains.', 'The sun is shining bright today.', 'Reading books is my favorite hobby.', 'I enjoy outdoor activities like camping.', \"It's a beautiful day for a walk in the park.\", 'I prefer staying indoors and watching movies.', 'Cooking new recipes is always fun.'] \n",
      "\n"
     ]
    }
   ],
   "source": [
    "# preprocessing methods were already imported above, let's re-initialize them for clarity (agin we don't need to do this, we could simply fit to overwrite any information the methods got during preprocessing [in this case there's none]).\n",
    "\n",
    "stopword_remover = StopwordRemove() # remove uninformative words\n",
    "stemmer = Stem() # find the roots of words\n",
    "\n",
    "# TfidfTopN is a method which uses Term Frequency Inverse Document (corpus) frequency to find informative words, then just picks the top N on that score.\n",
    "# more or less, think of this mathod as returning words which are rare across the corpus but generally but show up in this document a lot.\n",
    "\n",
    "from nlp_pipelines.labeler import TfidfTopN\n",
    "\n",
    "# initalize\n",
    "tfidf_labeler = TfidfTopN(top_k=2, ngram_range=(1,3)) # 2 keywords per thing, up to 3gram keywords\n",
    "\n",
    "# a fresh copy of the source dataset again\n",
    "extractive_dataset = copy.deepcopy(unlabeled_dataset)\n",
    "\n",
    "# fit and transform/predict each method\n",
    "\n",
    "print(\"initial data:\", extractive_dataset, \"\\n\")\n",
    "\n",
    "stopword_remover.fit(extractive_dataset)\n",
    "extractive_dataset = stopword_remover.transform(extractive_dataset) # keep working on this object \"cluster_dataset\" step by step\n",
    "print(\"after stopword remove:\", extractive_dataset)\n",
    "print(\"all texts\", extractive_dataset.texts ,\"\\n\")\n",
    "\n",
    "stemmer.fit(extractive_dataset)\n",
    "extractive_dataset = stemmer.transform(extractive_dataset)\n",
    "print(\"after stemming:\", extractive_dataset)\n",
    "print(\"all texts\", extractive_dataset.texts ,\"\\n\")\n",
    "\n",
    "tfidf_labeler.fit(extractive_dataset)\n",
    "extractive_dataset = tfidf_labeler.predict(extractive_dataset)\n",
    "print(\"after labeling:\", extractive_dataset)\n",
    "print(\"all results\", extractive_dataset.results ,\"\\n\")\n",
    "\n",
    "# and for comparison\n",
    "print(\"all original texts\", extractive_dataset.original_texts ,\"\\n\")"
   ]
  },
  {
   "cell_type": "markdown",
   "id": "e0496f4c",
   "metadata": {},
   "source": [
    "### Classification\n",
    "\n",
    "Classification is deciding on a set of classes ahead of time and then deciding which one each document belongs to.\n",
    "\n",
    "These are (usually) supervised methods, so this also means we should split the dataset into test and train."
   ]
  },
  {
   "cell_type": "code",
   "execution_count": 6,
   "id": "977c4034",
   "metadata": {},
   "outputs": [
    {
     "name": "stdout",
     "output_type": "stream",
     "text": [
      "original text for test split: ['I love this movie', 'Fantastic work', 'Awful experience', 'A waste of my time']\n",
      "results from label propagation:  ['negative' 'negative' 'negative' 'negative']\n",
      "comparison: set truths ['positive', 'positive', 'negative', 'negative']\n",
      "Result evaluation {'accuracy': 0.5, 'precision_macro': 0.25, 'recall_macro': 0.5, 'f1_macro': 0.3333333333333333}\n"
     ]
    }
   ],
   "source": [
    "train, test = classed_dataset.split(count=3, seed=101) # 3 in train, the other four in test\n",
    "\n",
    "# we've already seen preprocessing, but once more:\n",
    "stopword_remover = StopwordRemove() # remove uninformative words\n",
    "stemmer = Stem() # find the roots of words\n",
    "\n",
    "# let's use a bag of words embedding this time. This is not pretrained, so fit will actually learn something about the data. This does, however, mean that words/tokens in the test/predict data which were not in the train data will essentially be ignored under embedding. In real applciations, use a well-rounded train set.\n",
    "\n",
    "from nlp_pipelines.vectorizer import BagOfWords\n",
    "\n",
    "bag_of_words_embed = BagOfWords() # no arguments, just counts! Bag of words assigns each word/token an index for all vectors, and its value is the number of times it appears.\n",
    "\n",
    "# let's use label propogation. This is usually referred to as semi-supervised, but we can fit it on the train data then use the space of those labeled documents in the vector space to label the new documents.\n",
    "\n",
    "from nlp_pipelines.classifier import LabelProp\n",
    "\n",
    "label_prop_model = LabelProp(n_neighbors=2, kernel=\"rbf\") #by default, the kernel is knn which is probably good enough, but we're customizing here to show how to do so\n",
    "\n",
    "# ok, let's fit the train data.\n",
    "stopword_remover.fit(train)\n",
    "train = stopword_remover.transform(train)\n",
    "stemmer.fit(train)\n",
    "train = stemmer.transform(train)\n",
    "bag_of_words_embed.fit(train)\n",
    "train = bag_of_words_embed.transform(train)\n",
    "label_prop_model.fit(train)\n",
    "# no point in transforming, each would map to itself.\n",
    "\n",
    "# now we have each of these fit, we run it again for the test data\n",
    "test = stopword_remover.transform(test)\n",
    "test = stemmer.transform(test)\n",
    "test = bag_of_words_embed.transform(test)\n",
    "test = label_prop_model.predict(test)\n",
    "\n",
    "# look at the results\n",
    "print(\"original text for test split:\", test.original_texts)\n",
    "print(\"results from label propagation: \", test.results)\n",
    "print(\"comparison: set truths\", test.truths)\n",
    "\n",
    "# also, we can evaluate, since our results and truths are speaking the same language \n",
    "\n",
    "from nlp_pipelines.evaluate import evaluate\n",
    "\n",
    "print(\"Result evaluation\", evaluate(test))\n"
   ]
  },
  {
   "cell_type": "markdown",
   "id": "691ced61",
   "metadata": {},
   "source": [
    "## Usage of the pipeline constructor"
   ]
  },
  {
   "cell_type": "markdown",
   "id": "5113e00f",
   "metadata": {},
   "source": [
    "In the last part, we had a series of operations which needed to be fit then transformed. That's workable when we have all of the data at once, but we'd probably like to be able to do more later. We should save our method! However, this means that we'd have to save every step, and when we wanted to use it again, we'd need to use them in the same order. Remember that our methods which rely on a particular embedding space would likely break under a different embedding space.\n",
    "\n",
    "To solve this, and also to make using this easier, a helper class \"Pipeline\" is used. This makes saving/loading pretrained pipelines much more workable. Also, I think it's easier to read and does not distract from the core of what the pipeline is doing.\n",
    "\n",
    "For a quick demo, let's remake the previous pipelines using Pipeline objects."
   ]
  },
  {
   "cell_type": "code",
   "execution_count": 7,
   "id": "26cacf66",
   "metadata": {},
   "outputs": [
    {
     "name": "stdout",
     "output_type": "stream",
     "text": [
      "original text: ['I love hiking in the mountains.', 'The sun is shining bright today.', 'Reading books is my favorite hobby.', 'I enjoy outdoor activities like camping.', \"It's a beautiful day for a walk in the park.\", 'I prefer staying indoors and watching movies.', 'Cooking new recipes is always fun.']\n",
      "preprocessed text: ['love hike mountain', 'sun shine bright today', 'read book favorit hobbi', 'enjoy outdoor activ like camp', 'beauti day walk park', 'prefer stay indoor watch movi', 'cook new recip fun']\n",
      "resulting clusters: [1 1 1 0 1 0 0]\n"
     ]
    }
   ],
   "source": [
    "from nlp_pipelines.pipeline import Pipeline\n",
    "\n",
    "# clustering from previous subsecton reproduced!\n",
    "\n",
    "cluster_pipeline = Pipeline([\n",
    "    {\"name\": \"preprocess_1\", \"method\": \"preprocess.StopwordRemove\"}, # each line has the method,  the name field is just for readability\n",
    "    {\"name\": \"preprocess_2\", \"method\": \"preprocess.Stem\"}, # the method names are very similar to how the methods were imported; from nlp_pipelines.X import Y becomes X.Y for X and Y. The methods are listed in README.md\n",
    "    {\"name\": \"vectorize\", \"method\":\"vectorizer.SentenceEmbedding\", \"params\":{\"model_name\":'all-MiniLM-L6-v2'}}, # the parameters passed when initializing the method are passed as \"params\" if needed\n",
    "    {\"name\": \"kmeans\", \"method\": \"clusterer.Kmeans\", \"params\":{\"num_clusters\":2, \"random_state\":101}}\n",
    "])\n",
    "\n",
    "cluster_dataset = copy.deepcopy(unlabeled_dataset)\n",
    "\n",
    "cluster_pipeline.set_data(train_data=cluster_dataset, run_data=cluster_dataset) # same train and run data for now\n",
    "\n",
    "# run it! This is an alias for .fit and .predict\n",
    "cluster_pipeline.run()\n",
    "# get the results from the run_data\n",
    "print(\"original text:\", cluster_pipeline.run_data.original_texts)\n",
    "print(\"preprocessed text:\", cluster_pipeline.run_data.texts)\n",
    "print(\"resulting clusters:\", cluster_pipeline.run_data.results)"
   ]
  },
  {
   "cell_type": "code",
   "execution_count": 8,
   "id": "166ccf9a",
   "metadata": {},
   "outputs": [
    {
     "name": "stdout",
     "output_type": "stream",
     "text": [
      "original text: ['I love hiking in the mountains.', 'The sun is shining bright today.', 'Reading books is my favorite hobby.', 'I enjoy outdoor activities like camping.', \"It's a beautiful day for a walk in the park.\", 'I prefer staying indoors and watching movies.', 'Cooking new recipes is always fun.']\n",
      "preprocessed text: ['love hike mountain', 'sun shine bright today', 'read book favorit hobbi', 'enjoy outdoor activ like camp', 'beauti day walk park', 'prefer stay indoor watch movi', 'cook new recip fun']\n",
      "resulting keyword sets: [['love', 'day walk'], ['today', 'sun'], ['watching movies', 'day walk'], ['like', 'outdoor'], ['day walk', 'walk park'], ['prefer', 'watching movies'], ['new', 'fun']]\n"
     ]
    }
   ],
   "source": [
    "# extractive labeling from previous subsecton reproduced!\n",
    "\n",
    "extract_pipeline = Pipeline([\n",
    "    {\"name\": \"preprocess_1\", \"method\": \"preprocess.StopwordRemove\"},\n",
    "    {\"name\": \"preprocess_2\", \"method\": \"preprocess.Stem\"},\n",
    "    {\"name\": \"tfidf keyword extract\", \"method\": \"labeler.TfidfTopN\", \"params\":{\"top_k\":2, \"ngram_range\":(1,3)}}\n",
    "])\n",
    "\n",
    "extractive_dataset = copy.deepcopy(unlabeled_dataset)\n",
    "\n",
    "extract_pipeline.set_data(train_data=extractive_dataset, run_data=extractive_dataset) # same train and run data for now, again since no split\n",
    "\n",
    "# run it! This is an alias for .fit and .predict\n",
    "extract_pipeline.run()\n",
    "# get the results from the run_data\n",
    "print(\"original text:\", extract_pipeline.run_data.original_texts)\n",
    "print(\"preprocessed text:\", extract_pipeline.run_data.texts)\n",
    "print(\"resulting keyword sets:\", extract_pipeline.run_data.results)"
   ]
  },
  {
   "cell_type": "markdown",
   "id": "55810042",
   "metadata": {},
   "source": [
    "## Saving and loading trained pipeline\n",
    "\n",
    "For the classifier, we had to fit a lot! It's a good case to save and load a pipeline: there's seprate data, and both the vectorizer and the model have changed from .fit. Let's do the same thing this time though let's pretend we're picking it up after some time and save/load the pipeline."
   ]
  },
  {
   "cell_type": "code",
   "execution_count": 9,
   "id": "2672cad0",
   "metadata": {},
   "outputs": [
    {
     "name": "stdout",
     "output_type": "stream",
     "text": [
      "original text: ['I love this movie', 'Fantastic work', 'Awful experience', 'A waste of my time']\n",
      "preprocessed text: ['love movi', 'fantast work', 'aw experi', 'wast time']\n",
      "resulting classes: ['negative' 'negative' 'negative' 'negative']\n",
      "true classes: ['positive', 'positive', 'negative', 'negative']\n",
      "evaluation of classes: {'accuracy': 0.5, 'precision_macro': 0.25, 'recall_macro': 0.5, 'f1_macro': 0.3333333333333333}\n"
     ]
    }
   ],
   "source": [
    "# classification from previous subsecton reproduced!\n",
    "\n",
    "extract_pipeline = Pipeline([\n",
    "    {\"name\": \"preprocess_1\", \"method\": \"preprocess.StopwordRemove\"},\n",
    "    {\"name\": \"preprocess_2\", \"method\": \"preprocess.Stem\"},\n",
    "    {\"name\": \"bow vectorize\", \"method\": \"vectorizer.BagOfWords\"},\n",
    "    {\"name\": \"classifier labelprop\", \"method\": \"classifier.LabelProp\", \"params\":{\"n_neighbors\":2, \"kernel\":\"rbf\"}}\n",
    "])\n",
    "\n",
    "train, test = classed_dataset.split(count=3, seed=101)\n",
    "\n",
    "extract_pipeline.set_data(train_data=train) # just need train data to train\n",
    "extract_pipeline.train()\n",
    "\n",
    "extract_pipeline.save(\"./demo_data/toy_classifier.pickle\")\n",
    "\n",
    "# let's load it\n",
    "loaded_pipeline = Pipeline.load(\"./demo_data/toy_classifier.pickle\")\n",
    "# now let's load the test data and run the saved pretrained pipeline on that\n",
    "loaded_pipeline.set_data(run_data=test)\n",
    "loaded_pipeline.predict()\n",
    "\n",
    "# get the results from the run_data\n",
    "print(\"original text:\", loaded_pipeline.run_data.original_texts)\n",
    "print(\"preprocessed text:\", loaded_pipeline.run_data.texts)\n",
    "print(\"resulting classes:\", loaded_pipeline.run_data.results)\n",
    "print(\"true classes:\", loaded_pipeline.run_data.truths)\n",
    "\n",
    "# and again, evaluate\n",
    "print(\"evaluation of classes:\", evaluate(loaded_pipeline.run_data))\n",
    "\n",
    "# see, just the same! but easier!"
   ]
  },
  {
   "cell_type": "markdown",
   "id": "e3d4fef7",
   "metadata": {},
   "source": [
    "# Practical Demos"
   ]
  },
  {
   "cell_type": "markdown",
   "id": "ca9b1df5",
   "metadata": {},
   "source": [
    "Let's load some real data (`./demo_data`)\n",
    "\n",
    "`sample_5_newsgroup_text.parquet` contains text posted in 5 newsgroups, with labels; adapted from [SetFit/20_newsgroups](https://huggingface.co/datasets/SetFit/20_newsgroups). The text is a given post in the group, and the class is the source newsgroup. There are some semantic overlaps (e.g. multiple are about computers), so it's more challenging than an artificial clean dataset.\n",
    "\n",
    "`springer-127-parsed.json` contains abstracts and keywords from the journal [Social Psychiatry and Psychiatric Epidemiology](https://link.springer.com/journal/127). There are a number of abstract terms, and as a result the assigned keywords are likely to be much broader than subsets we consider, though preprocessing the labels could help with that.\n",
    "\n",
    "Unlike the above, these demos are not as much to show how to use the methods, but are more of a real-time attempt at genuine problemsolving."
   ]
  },
  {
   "cell_type": "code",
   "execution_count": 10,
   "id": "4fdacbe4",
   "metadata": {},
   "outputs": [],
   "source": [
    "# the newsgroups are in a parquet file, which is like a compressed csv but not directly human readable.\n",
    "newsgroups = Dataset.from_parquet(\"./demo_data/sample_5_newsgroup_text.parquet\", text_field=\"text\", truth_field=\"label_text\")\n",
    "\n",
    "# the abstracts are in a json file, which is a usual web serialization\n",
    "abstracts = Dataset.from_json(\"./demo_data/springer-127-parsed.json\", text_field=\"abstract\", truth_field=\"keywords\")"
   ]
  },
  {
   "cell_type": "markdown",
   "id": "c8c09249",
   "metadata": {},
   "source": [
    "## Clustering"
   ]
  },
  {
   "cell_type": "markdown",
   "id": "6430981a",
   "metadata": {},
   "source": [
    "A reminder of the kind of problem that clustering is: we pick some number of clusters ahead of time, but do not prescribe anything else about the clusters. Each document is assigned to one and only one cluster. \n",
    "\n",
    "This fits the newsgroups data quite well. We'll use the number of newsgroups as our number of clusters.\n",
    "\n",
    "Clustering is generally not trained on data with known truth, but we can still evaluate how well we've done with labeled data by creating a mapping between clusters to classes.\n",
    "\n",
    "One of the motivations for this big pipeline library is to be able to mix and match components, especially embeddings, easily. How helpful are the pretrained embeddings versus training our own bag of words?\n",
    "\n",
    "To figure out, let's use a very simple clustering method: K-means, trained and evaluated on the same dataset but of course these different embedding spaces."
   ]
  },
  {
   "cell_type": "markdown",
   "id": "927b3a22",
   "metadata": {},
   "source": []
  },
  {
   "cell_type": "code",
   "execution_count": 11,
   "id": "9cf74134",
   "metadata": {},
   "outputs": [
    {
     "name": "stdout",
     "output_type": "stream",
     "text": [
      "Embed Pipeline Results: \n",
      " {'adjusted_rand_index': 0.5836570036205047, 'normalized_mutual_info': 0.5889319444134291, 'v_measure': 0.588931944413429, 'fowlkes_mallows': 0.6669401782295032, 'accuracy': 0.805, 'f1_macro': 0.8023618280211465} \n",
      "\n",
      "Bag of words Pipeline Results: \n",
      " {'adjusted_rand_index': 0.000167280812336369, 'normalized_mutual_info': 0.01939704337462054, 'v_measure': 0.01939704337462054, 'fowlkes_mallows': 0.4423714935493105, 'accuracy': 0.235, 'f1_macro': 0.08537887631325178} \n",
      "\n"
     ]
    }
   ],
   "source": [
    "# the split function has the option to remove unlabeled documents from the train and test portions independently.\n",
    "# these are done before the split logic, so it's still as close to the ratio selected as possible.\n",
    "# labeled=True means the train portion only includes labeled documents\n",
    "# splitLabeled=True means the test portion only includes labeled documents.\n",
    "train, test = newsgroups.split(ratio=0.8, labeled=True, splitLabeled=True, seed=101) # discard all non-labeled data, from both train and test.\n",
    "\n",
    "# also, I think python copies by reference, and these pipelines will both want to write to .results. Let's make a copy for each. \n",
    "train_1 = copy.deepcopy(train)\n",
    "test_1 = copy.deepcopy(test)\n",
    "train_2 = copy.deepcopy(train)\n",
    "test_2 = copy.deepcopy(test)\n",
    "\n",
    "embed_pipeline = Pipeline([\n",
    "    {\"name\": \"vectorize\", \"method\":\"vectorizer.SentenceEmbedding\", \"params\":{\"model_name\":'all-MiniLM-L6-v2'}},\n",
    "    {\"name\": \"kmeans\", \"method\": \"clusterer.Kmeans\", \"params\":{\"num_clusters\":5, \"random_state\":101}}\n",
    "])\n",
    "\n",
    "embed_pipeline.set_data(train_data=train_1, run_data=test_1)\n",
    "\n",
    "bow_pipeline = Pipeline([\n",
    "    {\"name\": \"preprocess_1\", \"method\": \"preprocess.StopwordRemove\"},\n",
    "    {\"name\": \"preprocess_2\", \"method\": \"preprocess.Stem\"},\n",
    "    {\"name\": \"bow vectorize\", \"method\": \"vectorizer.BagOfWords\"},\n",
    "    {\"name\": \"kmeans\", \"method\": \"clusterer.Kmeans\", \"params\":{\"num_clusters\":5, \"random_state\":101}}\n",
    "])\n",
    "\n",
    "bow_pipeline.set_data(train_data=train_2, run_data=test_2)\n",
    "\n",
    "embed_pipeline.run()\n",
    "bow_pipeline.run()\n",
    "\n",
    "print(\"Embed Pipeline Results: \\n\", evaluate(embed_pipeline.run_data, cluster_mode=True), \"\\n\")\n",
    "print(\"Bag of words Pipeline Results: \\n\", evaluate(bow_pipeline.run_data, cluster_mode=True), \"\\n\")"
   ]
  },
  {
   "cell_type": "markdown",
   "id": "9f40a2aa",
   "metadata": {},
   "source": [
    "Wow, honestly I thought it'd be a little closer!\n",
    "\n",
    "In any case, we have some new and old metrics. We needn't focus on all of them practically, but as a review:\n",
    "\n",
    "* Expected Metrics\n",
    "  * accuracy: How many were right?\n",
    "  * f1_macro: the average across each class of the f1 scores, where the f1 score is the harmonic mean of precision and recall.\n",
    "* Cluster Metrics\n",
    "  * Adjusted Rand Index (ARI): How similar the results are to the truths, adjusted such that the expectation of ARI for random assignment is 0 (so it can be negative if worse than expected by random chance!). Quick way to tell how the results compare to random noise.\n",
    "  * Normalized Mutual Information (NMI): Shared information between clusrters, also normalized (but still [0,1]).\n",
    "  * V measure: The harmonic mean of two quantities: homogeneity (how well a cluster contains instances of a single class) and completeness (how well each class is fully represented within clusters). It offers a generalization of clustering purity.\n",
    "  * Fowlkes-Mallows: The geometric mean of precision and recall for clustering pairs of elements. This metric provides a compact way to evaluate how well pairs of points are correctly clustered together or separated."
   ]
  },
  {
   "cell_type": "markdown",
   "id": "885856c8",
   "metadata": {},
   "source": [
    "## Classification"
   ]
  },
  {
   "cell_type": "markdown",
   "id": "ffbbd3fb",
   "metadata": {},
   "source": [
    "I want to take this as an opportunity to contextualize prior results to a (reasonably simple) deep learning model. We haven't had much data here, but NNs can be powerful. Let's compare a simple NN (new class: two layer NN with a dropout term) to both label propagation and the xgboost method. Using the same embedding with no major preprocessing."
   ]
  },
  {
   "cell_type": "code",
   "execution_count": 12,
   "id": "749e0d40",
   "metadata": {},
   "outputs": [
    {
     "name": "stdout",
     "output_type": "stream",
     "text": [
      "['comp.graphics', 'sci.space', 'talk.politics.guns', 'rec.autos', 'comp.sys.mac.hardware']\n"
     ]
    }
   ],
   "source": [
    "# first, let's get the possible labels for this dataset\n",
    "\n",
    "newsgroup_labels = list(set(newsgroups.truths)) # quick way to get all unique labels in a flat list!\n",
    "print(newsgroup_labels)"
   ]
  },
  {
   "cell_type": "code",
   "execution_count": 13,
   "id": "70b6ccf7",
   "metadata": {},
   "outputs": [],
   "source": [
    "# again, out of an abundance of caution making copies.\n",
    "train_3 = copy.deepcopy(train)\n",
    "test_3 = copy.deepcopy(test)\n",
    "train_4 = copy.deepcopy(train)\n",
    "test_4 = copy.deepcopy(test)\n",
    "train_5 = copy.deepcopy(train)\n",
    "test_5 = copy.deepcopy(test)\n",
    "\n",
    "nn_pipeline = Pipeline([\n",
    "    {\"name\": \"vectorize\", \"method\":\"vectorizer.SentenceEmbedding\", \"params\":{\"model_name\":'all-MiniLM-L6-v2'}},\n",
    "    {\"name\": \"nn\", \"method\": \"classifier.SimpleNNClassifier\"}\n",
    "])\n",
    "\n",
    "nn_pipeline.set_data(train_data=train_3, run_data=test_3, possible_labels=newsgroup_labels)\n",
    "\n",
    "labelprop_pipeline = Pipeline([\n",
    "    {\"name\": \"vectorize\", \"method\":\"vectorizer.SentenceEmbedding\", \"params\":{\"model_name\":'all-MiniLM-L6-v2'}},\n",
    "    {\"name\": \"labelprop\", \"method\": \"classifier.LabelProp\"}\n",
    "])\n",
    "\n",
    "labelprop_pipeline.set_data(train_data=train_4, run_data=test_4, possible_labels=newsgroup_labels)\n",
    "\n",
    "xgboost_pipeline = Pipeline([\n",
    "    {\"name\": \"vectorize\", \"method\":\"vectorizer.SentenceEmbedding\", \"params\":{\"model_name\":'all-MiniLM-L6-v2'}},\n",
    "    {\"name\": \"xgboost\", \"method\": \"classifier.Xgboost\"}\n",
    "])\n",
    "\n",
    "xgboost_pipeline.set_data(train_data=train_5, run_data=test_5, possible_labels=newsgroup_labels)\n",
    "\n",
    "\n",
    "nn_pipeline.run()\n",
    "labelprop_pipeline.run()\n",
    "xgboost_pipeline.run()"
   ]
  },
  {
   "cell_type": "code",
   "execution_count": 14,
   "id": "f62be199",
   "metadata": {},
   "outputs": [
    {
     "name": "stdout",
     "output_type": "stream",
     "text": [
      "Neural Net Pipeline Results: \n",
      " {'accuracy': 0.5575, 'precision_macro': 0.7230793774061398, 'recall_macro': 0.5671046947568688, 'f1_macro': 0.47479915827741914} \n",
      "\n",
      "Label Propagation Pipeline Results: \n",
      " {'accuracy': 0.7625, 'precision_macro': 0.7786128740012235, 'recall_macro': 0.7654396508309552, 'f1_macro': 0.7624544524195012} \n",
      "\n",
      "Xgboost Pipeline Results: \n",
      " {'accuracy': 0.6475, 'precision_macro': 0.6477712904911181, 'recall_macro': 0.6449753231492362, 'f1_macro': 0.6424181929441555} \n",
      "\n"
     ]
    }
   ],
   "source": [
    "print(\"Neural Net Pipeline Results: \\n\", evaluate(nn_pipeline.run_data), \"\\n\")\n",
    "print(\"Label Propagation Pipeline Results: \\n\", evaluate(labelprop_pipeline.run_data), \"\\n\")\n",
    "print(\"Xgboost Pipeline Results: \\n\", evaluate(xgboost_pipeline.run_data), \"\\n\")"
   ]
  },
  {
   "cell_type": "markdown",
   "id": "1bb6d793",
   "metadata": {},
   "source": [
    "(And again, _macro means we averaged across classes, not just documents.)"
   ]
  },
  {
   "cell_type": "markdown",
   "id": "925cd745",
   "metadata": {},
   "source": [
    "## Extractive Labeling"
   ]
  },
  {
   "cell_type": "markdown",
   "id": "f295b3f1",
   "metadata": {},
   "source": [
    "Extractive labeling is simply picking words from a document which seem especially important. It's typically used for keyword extraction, and could be seen as a special kind of summarization. Extractive labeling does not let you choose possible labels (see predictive labeling for that).\n",
    "\n",
    "This is a good fit for the abstracts dataset, as there are defined keywords which the author chose, which could likely also be represented in the abstract.\n",
    "\n",
    "Thus, we'll use the abstracts dataset here."
   ]
  },
  {
   "cell_type": "code",
   "execution_count": 15,
   "id": "f0cdbc7b",
   "metadata": {},
   "outputs": [
    {
     "data": {
      "text/plain": [
       "<Dataset with 500 texts, results: 500 items\n",
       "Texts: ['purpose Disparities mental health sexual orientation group young adult long discuss aim cross sectional study investigate moderate effect sexual orientation association social factor depressive symptom suicidal ideation young adult method study include participant age 18–25y French EpiCov cohort outcome variable depressive symptom suicidal ideation Poisson regression robust error variance perform investigate association social factor outcome accord sexual orientation lesbian gay bisexual defining accord sexuality sexual minority SM heterosexual wishing answer belong SM NSM result prevalence depressive symptom suicidal ideation high SM NSM group depressive symptom significant moderate effect sexual orientation observe female vs male sex NSM adjust prevalence ratio apr 1.58[1.28–1.95 SM apr 1.03[0.78–1.36 age category 22–25y vs 21y nsm apr 1.32[1.05–1.67 sm apr 0.78[0.59–1.03 suicidal ideation significant moderate effect observe vs relationship NSM apr 1.55[1.14–2.12 SM apr 0.82[0.59–1.13 conclusion study conduct know social risk factor mental problem explain high prevalence depressive symptom suicidal ideation young SM group study need understand specific challenge face young people', 'background Sleep duration physical activity associate internalize problem genetic confound measurement error introduce bias assess genetic confound association modifiable lifestyle internalize problem device base questionnaire assessment estimate share genetic risk different assessment adolescent Methods preregistere study Adolescents Brain Cognitive Development cohort include european adolescent self report device base sleep duration N = moderate vigorous physical activity MVPA day week n = Brief Problem Monitor assess self report internalize problem score genetic sensitivity analysis conduct assess genetic confound combine polygenic score molecular base heritability internalize problem result long sleep duration associate lower internalize problem self report sd SE = SD objective sd SE = SD assessment frequent mvpa associate lower internalize problem self report sd SE = sd device base SD SE = SD assessment substantial genetic confounding find self report sleep duration internalize problem predominantly boy clear evidence genetic confound find association device base sleep duration measure mvpa internalize problem Conclusion observe negative relationship report child sleep duration internalize problem partly genetic confound particularly boy genetic influence likely capture reporting measurement error share method variance impact adolescent sleep duration internalize problem overestimate self report especially boy association physical activity genetically confound']... +498 more\n",
       "Truths: [['Depressive symptoms', 'Epidemiology', 'Sexual orientation', 'Social factors', 'Suicidal ideation', 'Young adults'], ['Genetic confounding', 'Modifiable lifestyle', 'Shared method variance', 'Adolescent internalizing problems']]... +498 more\n",
       "Results: [['sm', 'apr', 'nsm', 'depressive symptom', 'suicidal ideation'], ['problem', 'genetic', 'sleep duration', 'sd', 'base']]... +498 more>"
      ]
     },
     "execution_count": 15,
     "metadata": {},
     "output_type": "execute_result"
    }
   ],
   "source": [
    "# make copies of abstracts\n",
    "abstracts_1 = copy.deepcopy(abstracts)\n",
    "abstracts_2 = copy.deepcopy(abstracts)\n",
    "\n",
    "# pipeline 1: out of the box keybert\n",
    "keybert_pipeline = Pipeline([\n",
    "    {\"name\": \"keywords\", \"method\": \"labeler.KeyBert\"}\n",
    "])\n",
    "\n",
    "keybert_pipeline.set_data(train_data=abstracts_1, run_data=abstracts_1)\n",
    "\n",
    "# pipeline 2: filter out some kinds of words, lemmatize, keyword extract\n",
    "tfidf_pipeline = Pipeline([\n",
    "    {\"name\": \"filter\", \"method\":\"preprocess.TokenFilter\", \"params\":{\"remove_if\":[\"is_stop\", \"is_punct\", \"is_space\", \"like_num\", \"like_url\"]}}, # see https://spacy.io/api/token/#attributes\n",
    "    {\"name\": \"lemmatize\", \"method\":\"preprocess.Lemmatize\"},\n",
    "    {\"name\": \"keywords\", \"method\": \"labeler.TfidfTopN\", \"params\":{\"top_k\":5, \"ngram_range\":(1,4)}} # seems to somewhat align with the chosen keywords\n",
    "])\n",
    "\n",
    "tfidf_pipeline.set_data(train_data=abstracts_2, run_data=abstracts_2)\n",
    "\n",
    "keybert_pipeline.run()\n",
    "tfidf_pipeline.run()\n"
   ]
  },
  {
   "cell_type": "markdown",
   "id": "be1346ad",
   "metadata": {},
   "source": [
    "Ok, now let's look at these pipelines comared to each other, and to the true labels. \n",
    "\n",
    "This is a lot of code to do a kind of visual/heuristic inspection. There will be metrics afterwards, but since there are many specific labels, and the current evaluation code looks for exact match, the metrics are likely to look worse than the methods actually are.\n"
   ]
  },
  {
   "cell_type": "code",
   "execution_count": 16,
   "id": "ea8108db",
   "metadata": {},
   "outputs": [
    {
     "name": "stdout",
     "output_type": "stream",
     "text": [
      "Number of keywords only in Keybert Results: 394\n",
      "Number of keywords only in Tfidf Results: 1002\n",
      "Number of keywords only in Truths: 1039\n",
      "Number of keywords in both Keybert Results and Truths: 219\n",
      "Number of keywords in both Keybert Results and Tfidf Results: 324\n",
      "Number of keywords in both Truths and Tfidf Results: 310\n",
      "\n",
      "Top keywords in Keybert Results by count:\n",
      "depression: 79\n",
      "depressive: 47\n",
      "suicide: 42\n",
      "adolescents: 40\n",
      "psychiatric: 40\n",
      "anxiety: 38\n",
      "psychosis: 34\n",
      "health: 33\n",
      "social: 33\n",
      "schizophrenia: 33\n",
      "\n",
      "Top keywords in Tfidf Results by count:\n",
      "symptom: 29\n",
      "ϐ_adj 24 95 ci: 28\n",
      "ed attended fold range: 28\n",
      "ed attended: 28\n",
      "ed admissions inpatient admissions: 28\n",
      "ed admissions inpatient: 28\n",
      "patient: 17\n",
      "loneliness: 17\n",
      "depressive symptom: 16\n",
      "woman: 14\n",
      "\n",
      "Top keywords in Truths by count:\n",
      "mental health: 75\n",
      "depression: 65\n",
      "schizophrenia: 32\n",
      "covid-19: 29\n",
      "suicide: 29\n",
      "anxiety: 26\n",
      "loneliness: 23\n",
      "psychosis: 19\n",
      "epidemiology: 18\n",
      "mental disorders: 17\n"
     ]
    },
    {
     "data": {
      "image/png": "[encoded data removed]",
      "text/plain": [
       "<Figure size 1200x600 with 3 Axes>"
      ]
     },
     "metadata": {},
     "output_type": "display_data"
    }
   ],
   "source": [
    "# Flatten the lists of lists into single lists, make lowercase\n",
    "flat_a = [item.lower() for sublist in keybert_pipeline.run_data.results for item in sublist]\n",
    "flat_b = [item.lower() for sublist in tfidf_pipeline.run_data.results for item in sublist]\n",
    "flat_c = [item.lower() for sublist in keybert_pipeline.run_data.truths for item in sublist]\n",
    "\n",
    "\n",
    "set_a = set(flat_a)\n",
    "set_b = set(flat_b)\n",
    "set_c = set(flat_c) \n",
    "\n",
    "# Intersections between the sets\n",
    "intersection_ac = set_a & set_c\n",
    "intersection_bc = set_b & set_c\n",
    "intersection_ab = set_a & set_b \n",
    "\n",
    "# Keywords unique to each set\n",
    "only_a = set_a - set_b - set_c\n",
    "only_b = set_b - set_a - set_c\n",
    "only_c = set_c - set_a - set_b\n",
    "\n",
    "# Output the counts for each case\n",
    "print(f\"Number of keywords only in Keybert Results: {len(only_a)}\")\n",
    "print(f\"Number of keywords only in Tfidf Results: {len(only_b)}\")\n",
    "print(f\"Number of keywords only in Truths: {len(only_c)}\")\n",
    "\n",
    "print(f\"Number of keywords in both Keybert Results and Truths: {len(intersection_ac)}\")\n",
    "print(f\"Number of keywords in both Keybert Results and Tfidf Results: {len(intersection_ab)}\")\n",
    "print(f\"Number of keywords in both Truths and Tfidf Results: {len(intersection_bc)}\\n\")\n",
    "\n",
    "\n",
    "# Count occurrences of keywords\n",
    "count_a = Counter(flat_a)\n",
    "count_b = Counter(flat_b)\n",
    "count_c = Counter(flat_c)\n",
    "\n",
    "n = 10\n",
    "\n",
    "# Display the top n keywords by count for results\n",
    "print(\"Top keywords in Keybert Results by count:\")\n",
    "top_a = count_a.most_common(n)\n",
    "for keyword, count in top_a:\n",
    "    print(f\"{keyword}: {count}\")\n",
    "\n",
    "# Display the top 5 keywords by count for truths\n",
    "print(\"\\nTop keywords in Tfidf Results by count:\")\n",
    "top_b = count_b.most_common(n)\n",
    "for keyword, count in top_b:\n",
    "    print(f\"{keyword}: {count}\")\n",
    "\n",
    "print(\"\\nTop keywords in Truths by count:\")\n",
    "top_c = count_c.most_common(n)\n",
    "for keyword, count in top_c:\n",
    "    print(f\"{keyword}: {count}\")\n",
    "\n",
    "# Create bar charts for top 5 keywords in each\n",
    "fig, ax = plt.subplots(3,1, figsize=(12, 6))\n",
    "\n",
    "# Plot for each list\n",
    "ax[0].bar([item[0] for item in top_a], [item[1] for item in top_a], color='blue')\n",
    "ax[0].set_title(f\"Top {n} Keywords in Keybert Results\")\n",
    "ax[0].set_xlabel(\"Keyword\")\n",
    "ax[0].set_ylabel(\"Count\")\n",
    "\n",
    "ax[1].bar([item[0] for item in top_b], [item[1] for item in top_b], color='green')\n",
    "ax[1].set_title(f\"Top {n} Keywords in Tfidf Results\")\n",
    "ax[1].set_xlabel(\"Keyword\")\n",
    "ax[1].set_ylabel(\"Count\")\n",
    "\n",
    "ax[2].bar([item[0] for item in top_c], [item[1] for item in top_c], color='purple')\n",
    "ax[2].set_title(f\"Top {n} Keywords in Truths\")\n",
    "ax[2].set_xlabel(\"Keyword\")\n",
    "ax[2].set_ylabel(\"Count\")\n",
    "\n",
    "# Show the plots\n",
    "plt.tight_layout()\n",
    "plt.show()\n"
   ]
  },
  {
   "cell_type": "code",
   "execution_count": 17,
   "id": "b1493226",
   "metadata": {},
   "outputs": [
    {
     "name": "stdout",
     "output_type": "stream",
     "text": [
      "Keybert Metrics:\n",
      "{'precision_macro': 0.0, 'recall_macro': 0.0, 'f1_macro': 0.0, 'jaccard': 0.052, 'exact_match_ratio': 0.052}\n",
      "\n",
      "\n",
      "TFIDF Top N Metrics:\n",
      "{'precision_macro': 0.0, 'recall_macro': 0.0, 'f1_macro': 0.0, 'jaccard': 0.0, 'exact_match_ratio': 0.0}\n"
     ]
    }
   ],
   "source": [
    "# we can also evaluate, even though having thousands of source keywords means probably bad results\n",
    "\n",
    "print(\"Keybert Metrics:\")\n",
    "print(evaluate(keybert_pipeline.run_data))\n",
    "print(\"\\n\")\n",
    "\n",
    "print(\"TFIDF Top N Metrics:\")\n",
    "print(evaluate(tfidf_pipeline.run_data))"
   ]
  },
  {
   "cell_type": "markdown",
   "id": "cc54c0c8",
   "metadata": {},
   "source": [
    "## Predictive Labeling"
   ]
  },
  {
   "cell_type": "markdown",
   "id": "fbc01ea8",
   "metadata": {},
   "source": [
    "From the above tests, we at least have a pretty good picture of the top 10 keywords in the \"truths\". since we're trying to match the truths in our performance metrics, let's use those as our possible labels.\n",
    "\n",
    "Also, we haven't tested the new predictive labeling tools much yet. How does the MultiLogistic compare to the deep learning labeler? (Omitting the threshold vector similarity method for now since I haven't picked a good way to do threshold automatically yet).\n"
   ]
  },
  {
   "cell_type": "code",
   "execution_count": null,
   "id": "c942e722",
   "metadata": {},
   "outputs": [
    {
     "name": "stdout",
     "output_type": "stream",
     "text": [
      "<Dataset with 100 texts\n",
      "Texts: ['Purpose This longitudinal cohort study evaluates whether lifestyle and psychosocial factors are associated with psychological resilience at two time points of COVID-19 pandemic. Moreover, we investigated the mediating role of perceived stress on these associations. Methods A total of 677 cognitively unimpaired (CU) older adults at increased risk of Alzheimer’s disease (AD) completed the Hospital Anxiety and Depression Scale (HADS). Based on the Reliable Change Index (RCI), HADS trajectories were defined at two intervals: (1) pre-pandemic-confinement (follow-up =\\u20092,28\\u2009±\\u20090,84 years); (2) confinement-post-confinement (follow-up =\\u20091,49\\u2009±\\u20090,12 years). Then, 4 trajectory groups were defined: Psychological Resilience ( n \\u2009=\\u2009448, stable or improve at both intervals), Descending ( n \\u2009=\\u200984, stable/improve [interval 1]-worsen [interval 2]), Recovery ( n \\u2009=\\u200959, worsening [interval 1], improvement [interval 2] ) and Non-resilient ( n \\u2009=\\u200986, worsening at both intervals). Logistic regression models (LRM) were applied considering lifestyle (physical and leisure activities, sleep) and psychosocial factors (social relationships and emotional support) as predictors of psychological resilience trajectory (i.e., outcome) at both intervals. Finally, mediation analyses were carried out to test the effect of perceived stress on the relationships between the predictive factors and psychological resilience. Results Our finding showed that most participants followed a psychological resilient trajectory (66,1%). LRMs indicated that higher physical activity level, a greater number of social interactions and longer sleep duration were significantly associated with a psychological resilience trajectory both at confinement and at the 1.5 years follow-up. Lastly, the mediation analyses suggested that these factors influence psychological resilience through the mitigation of perceived stress. Conclusion These findings underscore the role of physical activity, social interactions and sleep quality to strengthen individuals’ capacity to cope with stress during prolonged crisis such as the COVID-19 pandemic. These lifestyle and psychological factors may be valuable targets for public health strategies aimed to prevent mental health problems.', 'Purpose Serviced Housing for Older People (SHOP) in Japan offers barrier-free living environments and supportive services to enhance the health and well-being of older adults. This study aimed to compare the health and well-being of SHOP residents with community-dwelling older adults and to compare factors that may influence them. Methods This cross-sectional study utilized propensity score matching to compare the health and well-being of 1,080 SHOP residents (69.4% female; mean age: 83.9 years) with 7,560 community-dwelling older adults (67.8% female; mean age: 84.1 years) from the Japan Gerontological Evaluation Study. Health and well-being were assessed using nine items. Additionally, social behaviours and social factors such as laughing frequency, regular outings, hobbies, depression, participation in preventive care activities, meeting friends frequently, emotional support, and eating with others, were compared. Results SHOP residents exhibited significantly higher levels of happiness, life satisfaction, and physical health compared to community-dwelling older adults. They were more engaged in activities like regular outings, attending preventive care activities, meeting friends, and eating with others. They also reported higher frequencies of laughter and received emotional support. Conclusion SHOP may improve the health and well-being of older adults. These findings can help in developing age-friendly housing initiatives to address the challenges of an aging society.']... +98 more\n",
      "Truths: [['covid-19', 'mental health', 'depression'], ['mental health']]... +98 more>\n",
      "<Dataset with 149 texts\n",
      "Texts: ['Purpose Disparities in mental health across sexual orientation groups and among young adults have long been discussed. The aim of this cross-sectional study was to investigate the moderating effects of sexual orientation on the associations between social factors and depressive symptoms as well as suicidal ideation in young adults. Methods The study included 6,337 participants aged 18–25y in 2022 from the French EpiCov cohort. The outcome variables were depressive symptoms and suicidal ideation. Poisson regressions with robust error variance were performed to investigate the associations between social factors and outcomes according to sexual orientation (lesbian, gay, bisexual, other, or not defining themselves according to their sexuality: sexual minority (SM); heterosexual or not wishing to answer: Not belonging to SM (NSM)). Results The prevalence of depressive symptoms and suicidal ideation was higher in the SM than in the NSM group. Regarding depressive symptoms, significant moderating effects of sexual orientation were observed for female vs male sex (NSM: adjusted Prevalence Ratio (aPR) 1.58[1.28–1.95], SM: aPR 1.03[0.78–1.36]) and age category 22–25y vs 18-21y (NSM: aPR 1.32[1.05–1.67], SM: aPR 0.78[0.59–1.03]). Regarding suicidal ideation, significant moderating effect was observed for not being vs being in a relationship (NSM: aPR 1.55[1.14–2.12], SM: aPR 0.82[0.59–1.13]). Conclusion In this study conducted in 2022, well-known social risk factors of mental problems do not explain the higher prevalence of depressive symptoms and suicidal ideation among young SM group. Further studies are needed to understand the specific challenges faced by these young people.', 'Background During the COVID-19 pandemic, the global population was exposed to a significant psychological stress, which had an impact on the mental health in individuals with pre-existing mental disorders. Despite their heightened vulnerability, subgroups within this population demonstrated resilient outcomes throughout the pandemic. This study aims to identify predictors of long-term, sustained resilient outcomes among people with a history of mental disorder during the first two years of the pandemic. Methods In this international 2-year, 5-wave longitudinal online survey, the Patient Health Questionnaire-9, the Generalized Anxiety Disorder Scale, and the PTSD Checklist DSM-5 were used for a proxy measure of psychological distress. As possible predictors of sustained resilient outcomes, we investigated socio-demographic characteristics, economic and housing status, pandemic-related issues, chronic diseases, social support, fear of contamination and personal values which were investigated respectively through the Oslo Social Support Scale, the Padua Inventory, and the Portrait Values Questionnaire. Data were analysed with a Mover-Stayer Latent Transition Analysis model. Results Nine-hundred and forty-three participants with a mental disorder were included in the analysis. Variables associated with a higher chance of sustained resilient outcomes were older age, maintaining a job, and having more people in the household. In contrast, female gender, losing job, difficulty in meeting basic needs, higher fear of contamination, hedonism, less social support and loneliness resulted in a lower likelihood of presenting sustained resilient outcomes. Conclusion This study identified factors that predictsustained resilience in people with mental disorders. The newly discovered predictors could prove invaluable in developing strategies to enhance the resilience of people with mental disorders during times of crises, such as pandemics.']... +147 more\n",
      "Truths: [['epidemiology'], ['mental disorders']]... +147 more>\n"
     ]
    },
    {
     "ename": "NameError",
     "evalue": "name 'sim' is not defined",
     "output_type": "error",
     "traceback": [
      "\u001b[31m---------------------------------------------------------------------------\u001b[39m",
      "\u001b[31mNameError\u001b[39m                                 Traceback (most recent call last)",
      "\u001b[36mCell\u001b[39m\u001b[36m \u001b[39m\u001b[32mIn[19]\u001b[39m\u001b[32m, line 53\u001b[39m\n\u001b[32m     51\u001b[39m logistic_pipeline.run()\n\u001b[32m     52\u001b[39m nn_pipeline.run()\n\u001b[32m---> \u001b[39m\u001b[32m53\u001b[39m \u001b[43mthreshold_sim_pipeline\u001b[49m\u001b[43m.\u001b[49m\u001b[43mrun\u001b[49m\u001b[43m(\u001b[49m\u001b[43m)\u001b[49m\n\u001b[32m     55\u001b[39m \u001b[38;5;28mprint\u001b[39m(\u001b[33m\"\u001b[39m\u001b[33mLogistic Regression Results\u001b[39m\u001b[33m\"\u001b[39m)\n\u001b[32m     56\u001b[39m \u001b[38;5;28mprint\u001b[39m(evaluate(logistic_pipeline.run_data))\n",
      "\u001b[36mFile \u001b[39m\u001b[32m~/Documents/nlp_pipelines/nlp_pipelines/pipeline/Pipeline.py:140\u001b[39m, in \u001b[36mPipeline.run\u001b[39m\u001b[34m(self)\u001b[39m\n\u001b[32m    138\u001b[39m \u001b[38;5;28;01mif\u001b[39;00m \u001b[38;5;129;01mnot\u001b[39;00m \u001b[38;5;28mall\u001b[39m(\u001b[38;5;28mgetattr\u001b[39m(step[\u001b[33m\"\u001b[39m\u001b[33mmethod\u001b[39m\u001b[33m\"\u001b[39m], \u001b[33m\"\u001b[39m\u001b[33mis_fit\u001b[39m\u001b[33m\"\u001b[39m, \u001b[38;5;28;01mFalse\u001b[39;00m) \u001b[38;5;28;01mfor\u001b[39;00m step \u001b[38;5;129;01min\u001b[39;00m \u001b[38;5;28mself\u001b[39m.steps):\n\u001b[32m    139\u001b[39m     \u001b[38;5;28mself\u001b[39m.train()\n\u001b[32m--> \u001b[39m\u001b[32m140\u001b[39m \u001b[38;5;28;01mreturn\u001b[39;00m \u001b[38;5;28;43mself\u001b[39;49m\u001b[43m.\u001b[49m\u001b[43mpredict\u001b[49m\u001b[43m(\u001b[49m\u001b[43m)\u001b[49m\n",
      "\u001b[36mFile \u001b[39m\u001b[32m~/Documents/nlp_pipelines/nlp_pipelines/pipeline/Pipeline.py:128\u001b[39m, in \u001b[36mPipeline.predict\u001b[39m\u001b[34m(self)\u001b[39m\n\u001b[32m    125\u001b[39m     \u001b[38;5;28;01mraise\u001b[39;00m \u001b[38;5;167;01mRuntimeError\u001b[39;00m(\u001b[33mf\u001b[39m\u001b[33m\"\u001b[39m\u001b[33mStep \u001b[39m\u001b[33m'\u001b[39m\u001b[38;5;132;01m{\u001b[39;00mstep[\u001b[33m'\u001b[39m\u001b[33mname\u001b[39m\u001b[33m'\u001b[39m]\u001b[38;5;132;01m}\u001b[39;00m\u001b[33m'\u001b[39m\u001b[33m not trained. Call `train()` or `run()` first.\u001b[39m\u001b[33m\"\u001b[39m)\n\u001b[32m    127\u001b[39m \u001b[38;5;28;01mif\u001b[39;00m \u001b[38;5;28mhasattr\u001b[39m(method, \u001b[33m\"\u001b[39m\u001b[33mpredict\u001b[39m\u001b[33m\"\u001b[39m):\n\u001b[32m--> \u001b[39m\u001b[32m128\u001b[39m     dataset = \u001b[43mmethod\u001b[49m\u001b[43m.\u001b[49m\u001b[43mpredict\u001b[49m\u001b[43m(\u001b[49m\u001b[43mdataset\u001b[49m\u001b[43m)\u001b[49m\n\u001b[32m    129\u001b[39m \u001b[38;5;28;01melif\u001b[39;00m \u001b[38;5;28mhasattr\u001b[39m(method, \u001b[33m\"\u001b[39m\u001b[33mtransform\u001b[39m\u001b[33m\"\u001b[39m):\n\u001b[32m    130\u001b[39m     dataset = method.transform(dataset)\n",
      "\u001b[36mFile \u001b[39m\u001b[32m~/Documents/nlp_pipelines/nlp_pipelines/labeler/predictive/ThresholdSim.py:102\u001b[39m, in \u001b[36mThresholdSim.predict\u001b[39m\u001b[34m(self, dataset)\u001b[39m\n\u001b[32m     98\u001b[39m     \u001b[38;5;66;03m# Sort keywords by their similarity scores\u001b[39;00m\n\u001b[32m     99\u001b[39m     sorted_keywords = \u001b[38;5;28msorted\u001b[39m(keyword_scores, key=\u001b[38;5;28;01mlambda\u001b[39;00m x: x[\u001b[32m1\u001b[39m], reverse=\u001b[38;5;28;01mTrue\u001b[39;00m)\n\u001b[32m    101\u001b[39m     filtered_keywords = [\n\u001b[32m--> \u001b[39m\u001b[32m102\u001b[39m         kw \u001b[38;5;28;01mfor\u001b[39;00m kw, _ \u001b[38;5;129;01min\u001b[39;00m sorted_keywords \u001b[38;5;28;01mif\u001b[39;00m \u001b[43msim\u001b[49m >= \u001b[38;5;28mself\u001b[39m.learned_threshold\n\u001b[32m    103\u001b[39m     ]\n\u001b[32m    104\u001b[39m     keywords.append(filtered_keywords)\n\u001b[32m    105\u001b[39m dataset.results = keywords\n",
      "\u001b[31mNameError\u001b[39m: name 'sim' is not defined"
     ]
    }
   ],
   "source": [
    "# top 10 true keywords\n",
    "possible_labels = [\"mental health\", \"depression\", \"schizophrenia\",\n",
    " \"covid-19\", \"suicide\", \"anxiety\", \"loneliness\",\n",
    " \"psychosis\", \"epidemiology\", \"mental disorders\"]\n",
    "\n",
    "# keep only keywords in this list, in a derived dataset from abstracts\n",
    "\n",
    "abstracts_labels = copy.deepcopy(abstracts)\n",
    "\n",
    "abstracts_labels.truths = [[item.lower() for item in sublist if item.lower() in possible_labels] for sublist in abstracts_labels.truths]\n",
    "\n",
    "# test and train split, remove ones with now empty keyword lists too!\n",
    "train, test = abstracts_labels.split(ratio=0.8, seed=101, labeled=True, splitLabeled=True)\n",
    "\n",
    "print(train)\n",
    "print(test)\n",
    "\n",
    "train_3 = copy.deepcopy(train)\n",
    "test_3 = copy.deepcopy(test)\n",
    "train_4 = copy.deepcopy(train)\n",
    "test_4 = copy.deepcopy(test)\n",
    "train_5 = copy.deepcopy(train)\n",
    "test_5 = copy.deepcopy(test)\n",
    "\n",
    "# logistic regression pipeline\n",
    "\n",
    "logistic_pipeline = Pipeline([\n",
    "    {\"name\": \"lemmatize\", \"method\":\"preprocess.Lemmatize\"},\n",
    "    {\"name\": \"vectorize\", \"method\":\"vectorizer.SentenceEmbedding\", \"params\":{\"model_name\":'all-MiniLM-L6-v2'}},\n",
    "    {\"name\": \"logistic\", \"method\": \"labeler.MultiLogistic\"}\n",
    "])\n",
    "\n",
    "logistic_pipeline.set_data(train_data=train_3, run_data=test_3, possible_labels=possible_labels)\n",
    "\n",
    "nn_pipeline = Pipeline([\n",
    "    {\"name\": \"lemmatize\", \"method\":\"preprocess.Lemmatize\"},\n",
    "    {\"name\": \"vectorize\", \"method\":\"vectorizer.SentenceEmbedding\", \"params\":{\"model_name\":'all-MiniLM-L6-v2'}},\n",
    "    {\"name\": \"logistic\", \"method\": \"labeler.SimpleNNLabeler\", \"params\":{\"threshold\": 0.15}}\n",
    "])\n",
    "\n",
    "nn_pipeline.set_data(train_data=train_4, run_data=test_4, possible_labels=possible_labels)\n",
    "\n",
    "threshold_sim_pipeline = Pipeline([\n",
    "    {\"name\": \"lemmatize\", \"method\":\"preprocess.Lemmatize\"},\n",
    "    {\"name\": \"vectorize\", \"method\":\"vectorizer.SentenceEmbedding\", \"params\":{\"model_name\":'all-MiniLM-L6-v2'}},\n",
    "    {\"name\": \"threshold_sim\", \"method\": \"labeler.ThresholdSim\"}\n",
    "])\n",
    "\n",
    "threshold_sim_pipeline.set_data(train_data=train_5, run_data=test_5, possible_labels=possible_labels)\n",
    "\n",
    "logistic_pipeline.run()\n",
    "nn_pipeline.run()\n",
    "threshold_sim_pipeline.run()\n",
    "\n",
    "print(\"Logistic Regression Results\")\n",
    "print(evaluate(logistic_pipeline.run_data))\n",
    "\n",
    "print(\"\\nThreshold Similarity Results\")\n",
    "print(evaluate(threshold_sim_pipeline.run_data))\n",
    "\n",
    "print(\"\\nNeural Net Results\")\n",
    "print(evaluate(nn_pipeline.run_data))\n",
    "print()\n",
    "print(nn_pipeline.run_data.results[0:3])\n",
    "print(nn_pipeline.run_data.truths[0:3])"
   ]
  },
  {
   "cell_type": "code",
   "execution_count": null,
   "id": "4ef02a98",
   "metadata": {},
   "outputs": [],
   "source": [
    "()"
   ]
  }
 ],
 "metadata": {
  "kernelspec": {
   "display_name": "spade",
   "language": "python",
   "name": "python3"
  },
  "language_info": {
   "codemirror_mode": {
    "name": "ipython",
    "version": 3
   },
   "file_extension": ".py",
   "mimetype": "text/x-python",
   "name": "python",
   "nbconvert_exporter": "python",
   "pygments_lexer": "ipython3",
   "version": "3.12.9"
  }
 },
 "nbformat": 4,
 "nbformat_minor": 5
}
