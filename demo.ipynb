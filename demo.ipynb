{
 "cells": [
  {
   "cell_type": "markdown",
   "id": "3639e010",
   "metadata": {},
   "source": [
    "# NLP Pipelines\n",
    "\n",
    "This package is designed to generalize the fit/predict to entire end to end pipelines for text. It can be used as individual methods or as a pipeline object to manage execution of training and/or testing. See README.md for an overview of which methods are in here.\n",
    "\n",
    "## This Demo Set\n",
    "\n",
    "This set of demos walks through:\n",
    "\n",
    "* **Basic Usage Demos** Using abstract/toy datasets to show how to use this library.\n",
    "  * **Usage of the library as individual methods**: Using each of the methods manually to get results.\n",
    "  * **Usage of the pipeline constructor**: A reimplementaiton of the examples above using the pipeline object.\n",
    "  * **Saving and loading trained pipelines**: Quick guidance on how to separate training and running/prediction.\n",
    "* **Practical Demos**: With real data and justifying decisions on pipeline design.\n",
    "  * **Practical Demo: Clustering**: A real end-to-end example on clustering, where \"clustering\" is picking some set of groups without explicit mapping to classes.\n",
    "  * **Practical Demo: Classification**: A real end-to-end example on classification, where \"classificaiton\" is picking which of a set of classes best apply to a document.\n",
    "  * **Practical Demo: Extractive Labeling**: A real end-to-end example on extractive labeling, where \"extractive labeling\" is picking which words or phrases in a document \"seem important\", like automatic keyword extraction.\n",
    "  * **Practical Demo: Extractive Labeling**: A real end-to-end example on predictive labeling, where a set of possible labels is chosen a prioro, and between none and all of the possible labels may apply to a document.\n",
    "  * **(WIP) Practical Demo: Mixing Methods**:  A real end-to-end example on using different kinds of methods together to get simpler results.\n",
    "\n",
    "NOTE that this is not intended to be an exhaustive demo of all of the different methods: `test_demos.ipynb` may be a better choice for that."
   ]
  },
  {
   "cell_type": "markdown",
   "id": "751ad3c6",
   "metadata": {},
   "source": [
    "## Setup Dependncies\n",
    "For portability, this is included to install dependencies for this library and notebook itself."
   ]
  },
  {
   "cell_type": "code",
   "execution_count": 1,
   "id": "bc01a498",
   "metadata": {},
   "outputs": [
    {
     "name": "stdout",
     "output_type": "stream",
     "text": [
      "Requirement already satisfied: scikit-learn in /opt/homebrew/Caskroom/miniconda/base/envs/spade/lib/python3.12/site-packages (from -r requirements.txt (line 1)) (1.7.1)\n",
      "Requirement already satisfied: nltk in /opt/homebrew/Caskroom/miniconda/base/envs/spade/lib/python3.12/site-packages (from -r requirements.txt (line 2)) (3.9.1)\n",
      "Requirement already satisfied: spacy in /opt/homebrew/Caskroom/miniconda/base/envs/spade/lib/python3.12/site-packages (from -r requirements.txt (line 3)) (3.8.7)\n",
      "Requirement already satisfied: numpy in /opt/homebrew/Caskroom/miniconda/base/envs/spade/lib/python3.12/site-packages (from -r requirements.txt (line 4)) (2.2.6)\n",
      "Requirement already satisfied: pandas in /opt/homebrew/Caskroom/miniconda/base/envs/spade/lib/python3.12/site-packages (from -r requirements.txt (line 5)) (2.3.1)\n",
      "Requirement already satisfied: fasttext in /opt/homebrew/Caskroom/miniconda/base/envs/spade/lib/python3.12/site-packages (from -r requirements.txt (line 6)) (0.9.3)\n",
      "Requirement already satisfied: sentence_transformers in /opt/homebrew/Caskroom/miniconda/base/envs/spade/lib/python3.12/site-packages (from -r requirements.txt (line 7)) (5.0.0)\n",
      "Requirement already satisfied: rank_bm25 in /opt/homebrew/Caskroom/miniconda/base/envs/spade/lib/python3.12/site-packages (from -r requirements.txt (line 10)) (0.2.2)\n",
      "Requirement already satisfied: keybert in /opt/homebrew/Caskroom/miniconda/base/envs/spade/lib/python3.12/site-packages (from -r requirements.txt (line 11)) (0.9.0)\n",
      "Requirement already satisfied: multi_rake in /opt/homebrew/Caskroom/miniconda/base/envs/spade/lib/python3.12/site-packages (from -r requirements.txt (line 12)) (0.0.2)\n",
      "Requirement already satisfied: yake in /opt/homebrew/Caskroom/miniconda/base/envs/spade/lib/python3.12/site-packages (from -r requirements.txt (line 13)) (0.6.0)\n",
      "Requirement already satisfied: torch in /opt/homebrew/Caskroom/miniconda/base/envs/spade/lib/python3.12/site-packages (from -r requirements.txt (line 14)) (2.7.1)\n",
      "Requirement already satisfied: networkx in /opt/homebrew/Caskroom/miniconda/base/envs/spade/lib/python3.12/site-packages (from -r requirements.txt (line 15)) (3.5)\n",
      "Requirement already satisfied: xgboost in /opt/homebrew/Caskroom/miniconda/base/envs/spade/lib/python3.12/site-packages (from -r requirements.txt (line 16)) (3.0.2)\n",
      "Requirement already satisfied: transformers in /opt/homebrew/Caskroom/miniconda/base/envs/spade/lib/python3.12/site-packages (from -r requirements.txt (line 17)) (4.54.1)\n",
      "Requirement already satisfied: hdbscan in /opt/homebrew/Caskroom/miniconda/base/envs/spade/lib/python3.12/site-packages (from -r requirements.txt (line 18)) (0.8.40)\n",
      "Requirement already satisfied: umap in /opt/homebrew/Caskroom/miniconda/base/envs/spade/lib/python3.12/site-packages (from -r requirements.txt (line 19)) (0.1.1)\n",
      "Requirement already satisfied: pyarrow in /opt/homebrew/Caskroom/miniconda/base/envs/spade/lib/python3.12/site-packages (from -r requirements.txt (line 20)) (21.0.0)\n",
      "Requirement already satisfied: bertopic in /opt/homebrew/Caskroom/miniconda/base/envs/spade/lib/python3.12/site-packages (from -r requirements.txt (line 21)) (0.17.3)\n",
      "Requirement already satisfied: umap-learn in /opt/homebrew/Caskroom/miniconda/base/envs/spade/lib/python3.12/site-packages (from -r requirements.txt (line 22)) (0.5.9.post2)\n",
      "Requirement already satisfied: scipy in /opt/homebrew/Caskroom/miniconda/base/envs/spade/lib/python3.12/site-packages (from -r requirements.txt (line 24)) (1.16.1)\n",
      "Requirement already satisfied: joblib>=1.2.0 in /opt/homebrew/Caskroom/miniconda/base/envs/spade/lib/python3.12/site-packages (from scikit-learn->-r requirements.txt (line 1)) (1.5.1)\n",
      "Requirement already satisfied: threadpoolctl>=3.1.0 in /opt/homebrew/Caskroom/miniconda/base/envs/spade/lib/python3.12/site-packages (from scikit-learn->-r requirements.txt (line 1)) (3.6.0)\n",
      "Requirement already satisfied: click in /opt/homebrew/Caskroom/miniconda/base/envs/spade/lib/python3.12/site-packages (from nltk->-r requirements.txt (line 2)) (8.1.7)\n",
      "Requirement already satisfied: regex>=2021.8.3 in /opt/homebrew/Caskroom/miniconda/base/envs/spade/lib/python3.12/site-packages (from nltk->-r requirements.txt (line 2)) (2025.7.29)\n",
      "Requirement already satisfied: tqdm in /opt/homebrew/Caskroom/miniconda/base/envs/spade/lib/python3.12/site-packages (from nltk->-r requirements.txt (line 2)) (4.67.1)\n",
      "Requirement already satisfied: spacy-legacy<3.1.0,>=3.0.11 in /opt/homebrew/Caskroom/miniconda/base/envs/spade/lib/python3.12/site-packages (from spacy->-r requirements.txt (line 3)) (3.0.12)\n",
      "Requirement already satisfied: spacy-loggers<2.0.0,>=1.0.0 in /opt/homebrew/Caskroom/miniconda/base/envs/spade/lib/python3.12/site-packages (from spacy->-r requirements.txt (line 3)) (1.0.5)\n",
      "Requirement already satisfied: murmurhash<1.1.0,>=0.28.0 in /opt/homebrew/Caskroom/miniconda/base/envs/spade/lib/python3.12/site-packages (from spacy->-r requirements.txt (line 3)) (1.0.13)\n",
      "Requirement already satisfied: cymem<2.1.0,>=2.0.2 in /opt/homebrew/Caskroom/miniconda/base/envs/spade/lib/python3.12/site-packages (from spacy->-r requirements.txt (line 3)) (2.0.11)\n",
      "Requirement already satisfied: preshed<3.1.0,>=3.0.2 in /opt/homebrew/Caskroom/miniconda/base/envs/spade/lib/python3.12/site-packages (from spacy->-r requirements.txt (line 3)) (3.0.10)\n",
      "Requirement already satisfied: thinc<8.4.0,>=8.3.4 in /opt/homebrew/Caskroom/miniconda/base/envs/spade/lib/python3.12/site-packages (from spacy->-r requirements.txt (line 3)) (8.3.6)\n",
      "Requirement already satisfied: wasabi<1.2.0,>=0.9.1 in /opt/homebrew/Caskroom/miniconda/base/envs/spade/lib/python3.12/site-packages (from spacy->-r requirements.txt (line 3)) (1.1.3)\n",
      "Requirement already satisfied: srsly<3.0.0,>=2.4.3 in /opt/homebrew/Caskroom/miniconda/base/envs/spade/lib/python3.12/site-packages (from spacy->-r requirements.txt (line 3)) (2.5.1)\n",
      "Requirement already satisfied: catalogue<2.1.0,>=2.0.6 in /opt/homebrew/Caskroom/miniconda/base/envs/spade/lib/python3.12/site-packages (from spacy->-r requirements.txt (line 3)) (2.0.10)\n",
      "Requirement already satisfied: weasel<0.5.0,>=0.1.0 in /opt/homebrew/Caskroom/miniconda/base/envs/spade/lib/python3.12/site-packages (from spacy->-r requirements.txt (line 3)) (0.4.1)\n",
      "Requirement already satisfied: typer<1.0.0,>=0.3.0 in /opt/homebrew/Caskroom/miniconda/base/envs/spade/lib/python3.12/site-packages (from spacy->-r requirements.txt (line 3)) (0.16.0)\n",
      "Requirement already satisfied: requests<3.0.0,>=2.13.0 in /opt/homebrew/Caskroom/miniconda/base/envs/spade/lib/python3.12/site-packages (from spacy->-r requirements.txt (line 3)) (2.32.4)\n",
      "Requirement already satisfied: pydantic!=1.8,!=1.8.1,<3.0.0,>=1.7.4 in /opt/homebrew/Caskroom/miniconda/base/envs/spade/lib/python3.12/site-packages (from spacy->-r requirements.txt (line 3)) (2.11.7)\n",
      "Requirement already satisfied: jinja2 in /opt/homebrew/Caskroom/miniconda/base/envs/spade/lib/python3.12/site-packages (from spacy->-r requirements.txt (line 3)) (3.0.3)\n",
      "Requirement already satisfied: setuptools in /opt/homebrew/Caskroom/miniconda/base/envs/spade/lib/python3.12/site-packages (from spacy->-r requirements.txt (line 3)) (75.8.0)\n",
      "Requirement already satisfied: packaging>=20.0 in /opt/homebrew/Caskroom/miniconda/base/envs/spade/lib/python3.12/site-packages (from spacy->-r requirements.txt (line 3)) (25.0)\n",
      "Requirement already satisfied: langcodes<4.0.0,>=3.2.0 in /opt/homebrew/Caskroom/miniconda/base/envs/spade/lib/python3.12/site-packages (from spacy->-r requirements.txt (line 3)) (3.5.0)\n",
      "Requirement already satisfied: python-dateutil>=2.8.2 in /opt/homebrew/Caskroom/miniconda/base/envs/spade/lib/python3.12/site-packages (from pandas->-r requirements.txt (line 5)) (2.9.0.post0)\n",
      "Requirement already satisfied: pytz>=2020.1 in /opt/homebrew/Caskroom/miniconda/base/envs/spade/lib/python3.12/site-packages (from pandas->-r requirements.txt (line 5)) (2022.1)\n",
      "Requirement already satisfied: tzdata>=2022.7 in /opt/homebrew/Caskroom/miniconda/base/envs/spade/lib/python3.12/site-packages (from pandas->-r requirements.txt (line 5)) (2025.2)\n",
      "Requirement already satisfied: pybind11>=2.2 in /opt/homebrew/Caskroom/miniconda/base/envs/spade/lib/python3.12/site-packages (from fasttext->-r requirements.txt (line 6)) (3.0.0)\n",
      "Requirement already satisfied: huggingface-hub>=0.20.0 in /opt/homebrew/Caskroom/miniconda/base/envs/spade/lib/python3.12/site-packages (from sentence_transformers->-r requirements.txt (line 7)) (0.34.3)\n",
      "Requirement already satisfied: Pillow in /opt/homebrew/Caskroom/miniconda/base/envs/spade/lib/python3.12/site-packages (from sentence_transformers->-r requirements.txt (line 7)) (11.3.0)\n",
      "Requirement already satisfied: typing_extensions>=4.5.0 in /opt/homebrew/Caskroom/miniconda/base/envs/spade/lib/python3.12/site-packages (from sentence_transformers->-r requirements.txt (line 7)) (4.14.1)\n",
      "Requirement already satisfied: rich>=10.4.0 in /opt/homebrew/Caskroom/miniconda/base/envs/spade/lib/python3.12/site-packages (from keybert->-r requirements.txt (line 11)) (14.0.0)\n",
      "Requirement already satisfied: pycld2>=0.41 in /opt/homebrew/Caskroom/miniconda/base/envs/spade/lib/python3.12/site-packages (from multi_rake->-r requirements.txt (line 12)) (0.42)\n",
      "Requirement already satisfied: pyrsistent>=0.14.2 in /opt/homebrew/Caskroom/miniconda/base/envs/spade/lib/python3.12/site-packages (from multi_rake->-r requirements.txt (line 12)) (0.20.0)\n",
      "Requirement already satisfied: jellyfish in /opt/homebrew/Caskroom/miniconda/base/envs/spade/lib/python3.12/site-packages (from yake->-r requirements.txt (line 13)) (1.2.0)\n",
      "Requirement already satisfied: segtok in /opt/homebrew/Caskroom/miniconda/base/envs/spade/lib/python3.12/site-packages (from yake->-r requirements.txt (line 13)) (1.5.11)\n",
      "Requirement already satisfied: tabulate in /opt/homebrew/Caskroom/miniconda/base/envs/spade/lib/python3.12/site-packages (from yake->-r requirements.txt (line 13)) (0.9.0)\n",
      "Requirement already satisfied: filelock in /opt/homebrew/Caskroom/miniconda/base/envs/spade/lib/python3.12/site-packages (from torch->-r requirements.txt (line 14)) (3.18.0)\n",
      "Requirement already satisfied: sympy>=1.13.3 in /opt/homebrew/Caskroom/miniconda/base/envs/spade/lib/python3.12/site-packages (from torch->-r requirements.txt (line 14)) (1.14.0)\n",
      "Requirement already satisfied: fsspec in /opt/homebrew/Caskroom/miniconda/base/envs/spade/lib/python3.12/site-packages (from torch->-r requirements.txt (line 14)) (2025.7.0)\n",
      "Requirement already satisfied: pyyaml>=5.1 in /opt/homebrew/Caskroom/miniconda/base/envs/spade/lib/python3.12/site-packages (from transformers->-r requirements.txt (line 17)) (6.0.2)\n",
      "Requirement already satisfied: tokenizers<0.22,>=0.21 in /opt/homebrew/Caskroom/miniconda/base/envs/spade/lib/python3.12/site-packages (from transformers->-r requirements.txt (line 17)) (0.21.4)\n",
      "Requirement already satisfied: safetensors>=0.4.3 in /opt/homebrew/Caskroom/miniconda/base/envs/spade/lib/python3.12/site-packages (from transformers->-r requirements.txt (line 17)) (0.5.3)\n",
      "Requirement already satisfied: plotly>=4.7.0 in /opt/homebrew/Caskroom/miniconda/base/envs/spade/lib/python3.12/site-packages (from bertopic->-r requirements.txt (line 21)) (6.2.0)\n",
      "Requirement already satisfied: llvmlite>0.36.0 in /opt/homebrew/Caskroom/miniconda/base/envs/spade/lib/python3.12/site-packages (from bertopic->-r requirements.txt (line 21)) (0.44.0)\n",
      "Requirement already satisfied: numba>=0.51.2 in /opt/homebrew/Caskroom/miniconda/base/envs/spade/lib/python3.12/site-packages (from umap-learn->-r requirements.txt (line 22)) (0.61.2)\n",
      "Requirement already satisfied: pynndescent>=0.5 in /opt/homebrew/Caskroom/miniconda/base/envs/spade/lib/python3.12/site-packages (from umap-learn->-r requirements.txt (line 22)) (0.5.13)\n",
      "Requirement already satisfied: hf-xet<2.0.0,>=1.1.3 in /opt/homebrew/Caskroom/miniconda/base/envs/spade/lib/python3.12/site-packages (from huggingface-hub>=0.20.0->sentence_transformers->-r requirements.txt (line 7)) (1.1.5)\n",
      "Requirement already satisfied: language-data>=1.2 in /opt/homebrew/Caskroom/miniconda/base/envs/spade/lib/python3.12/site-packages (from langcodes<4.0.0,>=3.2.0->spacy->-r requirements.txt (line 3)) (1.3.0)\n",
      "Requirement already satisfied: narwhals>=1.15.1 in /opt/homebrew/Caskroom/miniconda/base/envs/spade/lib/python3.12/site-packages (from plotly>=4.7.0->bertopic->-r requirements.txt (line 21)) (2.0.1)\n",
      "Requirement already satisfied: annotated-types>=0.6.0 in /opt/homebrew/Caskroom/miniconda/base/envs/spade/lib/python3.12/site-packages (from pydantic!=1.8,!=1.8.1,<3.0.0,>=1.7.4->spacy->-r requirements.txt (line 3)) (0.7.0)\n",
      "Requirement already satisfied: pydantic-core==2.33.2 in /opt/homebrew/Caskroom/miniconda/base/envs/spade/lib/python3.12/site-packages (from pydantic!=1.8,!=1.8.1,<3.0.0,>=1.7.4->spacy->-r requirements.txt (line 3)) (2.33.2)\n",
      "Requirement already satisfied: typing-inspection>=0.4.0 in /opt/homebrew/Caskroom/miniconda/base/envs/spade/lib/python3.12/site-packages (from pydantic!=1.8,!=1.8.1,<3.0.0,>=1.7.4->spacy->-r requirements.txt (line 3)) (0.4.1)\n",
      "Requirement already satisfied: six>=1.5 in /opt/homebrew/Caskroom/miniconda/base/envs/spade/lib/python3.12/site-packages (from python-dateutil>=2.8.2->pandas->-r requirements.txt (line 5)) (1.17.0)\n",
      "Requirement already satisfied: charset_normalizer<4,>=2 in /opt/homebrew/Caskroom/miniconda/base/envs/spade/lib/python3.12/site-packages (from requests<3.0.0,>=2.13.0->spacy->-r requirements.txt (line 3)) (3.4.2)\n",
      "Requirement already satisfied: idna<4,>=2.5 in /opt/homebrew/Caskroom/miniconda/base/envs/spade/lib/python3.12/site-packages (from requests<3.0.0,>=2.13.0->spacy->-r requirements.txt (line 3)) (3.10)\n",
      "Requirement already satisfied: urllib3<3,>=1.21.1 in /opt/homebrew/Caskroom/miniconda/base/envs/spade/lib/python3.12/site-packages (from requests<3.0.0,>=2.13.0->spacy->-r requirements.txt (line 3)) (2.5.0)\n",
      "Requirement already satisfied: certifi>=2017.4.17 in /opt/homebrew/Caskroom/miniconda/base/envs/spade/lib/python3.12/site-packages (from requests<3.0.0,>=2.13.0->spacy->-r requirements.txt (line 3)) (2025.7.14)\n",
      "Requirement already satisfied: markdown-it-py>=2.2.0 in /opt/homebrew/Caskroom/miniconda/base/envs/spade/lib/python3.12/site-packages (from rich>=10.4.0->keybert->-r requirements.txt (line 11)) (3.0.0)\n",
      "Requirement already satisfied: pygments<3.0.0,>=2.13.0 in /opt/homebrew/Caskroom/miniconda/base/envs/spade/lib/python3.12/site-packages (from rich>=10.4.0->keybert->-r requirements.txt (line 11)) (2.19.1)\n",
      "Requirement already satisfied: mpmath<1.4,>=1.1.0 in /opt/homebrew/Caskroom/miniconda/base/envs/spade/lib/python3.12/site-packages (from sympy>=1.13.3->torch->-r requirements.txt (line 14)) (1.3.0)\n",
      "Requirement already satisfied: blis<1.4.0,>=1.3.0 in /opt/homebrew/Caskroom/miniconda/base/envs/spade/lib/python3.12/site-packages (from thinc<8.4.0,>=8.3.4->spacy->-r requirements.txt (line 3)) (1.3.0)\n",
      "Requirement already satisfied: confection<1.0.0,>=0.0.1 in /opt/homebrew/Caskroom/miniconda/base/envs/spade/lib/python3.12/site-packages (from thinc<8.4.0,>=8.3.4->spacy->-r requirements.txt (line 3)) (0.1.5)\n",
      "Requirement already satisfied: shellingham>=1.3.0 in /opt/homebrew/Caskroom/miniconda/base/envs/spade/lib/python3.12/site-packages (from typer<1.0.0,>=0.3.0->spacy->-r requirements.txt (line 3)) (1.5.4)\n",
      "Requirement already satisfied: cloudpathlib<1.0.0,>=0.7.0 in /opt/homebrew/Caskroom/miniconda/base/envs/spade/lib/python3.12/site-packages (from weasel<0.5.0,>=0.1.0->spacy->-r requirements.txt (line 3)) (0.21.1)\n",
      "Requirement already satisfied: smart-open<8.0.0,>=5.2.1 in /opt/homebrew/Caskroom/miniconda/base/envs/spade/lib/python3.12/site-packages (from weasel<0.5.0,>=0.1.0->spacy->-r requirements.txt (line 3)) (7.3.0.post1)\n",
      "Requirement already satisfied: MarkupSafe>=2.0 in /opt/homebrew/Caskroom/miniconda/base/envs/spade/lib/python3.12/site-packages (from jinja2->spacy->-r requirements.txt (line 3)) (3.0.2)\n",
      "Requirement already satisfied: marisa-trie>=1.1.0 in /opt/homebrew/Caskroom/miniconda/base/envs/spade/lib/python3.12/site-packages (from language-data>=1.2->langcodes<4.0.0,>=3.2.0->spacy->-r requirements.txt (line 3)) (1.2.1)\n",
      "Requirement already satisfied: mdurl~=0.1 in /opt/homebrew/Caskroom/miniconda/base/envs/spade/lib/python3.12/site-packages (from markdown-it-py>=2.2.0->rich>=10.4.0->keybert->-r requirements.txt (line 11)) (0.1.2)\n",
      "Requirement already satisfied: wrapt in /opt/homebrew/Caskroom/miniconda/base/envs/spade/lib/python3.12/site-packages (from smart-open<8.0.0,>=5.2.1->weasel<0.5.0,>=0.1.0->spacy->-r requirements.txt (line 3)) (1.17.2)\n",
      "Note: you may need to restart the kernel to use updated packages.\n"
     ]
    }
   ],
   "source": [
    "# install dependencies\n",
    "%pip install -r requirements.txt "
   ]
  },
  {
   "cell_type": "markdown",
   "id": "c6366d56",
   "metadata": {},
   "source": [
    "# Basic Usage Demos"
   ]
  },
  {
   "cell_type": "markdown",
   "id": "71427222",
   "metadata": {},
   "source": [
    "## Datasets\n",
    "\n",
    "We should make different datasets for different pipelines. For this basic usage section, the datasets are fake and chosen unrealistically to demonstrate the shape of the inputs and outputs of the steps and pipelines. We'll need a dataset with no truths (true labels are called \"truths\" in this library) for clustering and extractive labeling (n.b. this is not strictly necessary, clustering and extractive labeling methods will simply ignore truths, so including them here is likely to be confusing), one with classes for classification, and one with lists of labels as truths for labeling."
   ]
  },
  {
   "cell_type": "code",
   "execution_count": 2,
   "id": "0e188325",
   "metadata": {},
   "outputs": [],
   "source": [
    "from nlp_pipelines.dataset import Dataset\n",
    "\n",
    "# methods which do not need truths of any form get the unlabeled_dataset.\n",
    "texts_1 = [\n",
    "    \"I love hiking in the mountains.\",\n",
    "    \"The sun is shining bright today.\",\n",
    "    \"Reading books is my favorite hobby.\",\n",
    "    \"I enjoy outdoor activities like camping.\",\n",
    "    \"It's a beautiful day for a walk in the park.\",\n",
    "    \"I prefer staying indoors and watching movies.\",\n",
    "    \"Cooking new recipes is always fun.\"\n",
    "]\n",
    "\n",
    "unlabeled_dataset = Dataset(texts_1)\n",
    "\n",
    "# methods which need truth clases (exactly one per document) get the classed_dataset.\n",
    "texts_2 = [\n",
    "    \"I love this movie\",\n",
    "    \"This is terrible\",\n",
    "    \"Fantastic work\",\n",
    "    \"Awful experience\",\n",
    "    \"My favorite film ever\",\n",
    "    \"A waste of my time\",\n",
    "    \"Not enough people have seen this masterpiece\"\n",
    "    ]\n",
    "classes = [\n",
    "    \"positive\",\n",
    "    \"negative\",\n",
    "    \"positive\",\n",
    "    \"negative\",\n",
    "    \"positive\",\n",
    "    \"negative\",\n",
    "    \"positive\"\n",
    "    ]\n",
    "classed_dataset = Dataset(texts_2, classes)\n",
    "\n",
    "# methods which need truth label sets (0 to n per document) get the labeled_dataset.\n",
    "texts_3 = [\n",
    "    \"I love baking with things from my garden.\",\n",
    "    \"Here's a recipe for lasagna.\",\n",
    "    \"I enjoy hiking in the mountains and camping.\",\n",
    "    \"I have recenly learned how to cook good food when hiking.\",\n",
    "    \"I spent the weekend building a treehouse.\",\n",
    "    \"Cooking dinner with fresh ingredients is a joy.\",\n",
    "    \"I often take long walks in the park during summer to get inspired on what I should plant.\"\n",
    "]\n",
    "\n",
    "labels = [\n",
    "    [\"cooking\", \"gardening\"],\n",
    "    [\"cooking\"],\n",
    "    [\"outdoors\"],\n",
    "    [\"outdoors\", \"cooking\"],\n",
    "    [\"outdoors\"],\n",
    "    [\"cooking\"],\n",
    "    [\"outdoors\", \"gardening\"]\n",
    "]\n",
    "\n",
    "labeled_dataset = Dataset(texts_3, labels)\n",
    "\n",
    "#also, for convenience, let's add an explicit list of possible_labels\n",
    "possible_labels = [\"gardening\", \"cooking\", \"outdoors\"]\n",
    "\n",
    "\n"
   ]
  },
  {
   "cell_type": "markdown",
   "id": "191f8f8c",
   "metadata": {},
   "source": [
    "## Usage of the library as individual methods\n",
    "\n",
    "Now, let's try to get some results for our toy data.\n",
    "\n"
   ]
  },
  {
   "cell_type": "markdown",
   "id": "d8311467",
   "metadata": {},
   "source": [
    "### Clustering\n",
    "As a reminder, we want to apply clusters on the unlabeled dataset.\n",
    "For now, we'll judge the results on what *feels* right for such a small dataset with no truth for comparison; proper evaluation will be explored in the next section on real data."
   ]
  },
  {
   "cell_type": "code",
   "execution_count": 3,
   "id": "2dc54522",
   "metadata": {},
   "outputs": [
    {
     "name": "stderr",
     "output_type": "stream",
     "text": [
      "/opt/homebrew/Caskroom/miniconda/base/envs/spade/lib/python3.12/site-packages/tqdm/auto.py:21: TqdmWarning: IProgress not found. Please update jupyter and ipywidgets. See https://ipywidgets.readthedocs.io/en/stable/user_install.html\n",
      "  from .autonotebook import tqdm as notebook_tqdm\n"
     ]
    },
    {
     "name": "stdout",
     "output_type": "stream",
     "text": [
      "initial data: <Dataset with 7 texts\n",
      "Texts: ['I love hiking in the mountains.', 'The sun is shining bright today.']... +5 more>\n",
      "after stopword remove: <Dataset with 7 texts\n",
      "Texts: ['love hiking mountains', 'sun shining bright today']... +5 more>\n",
      "after stemming: <Dataset with 7 texts\n",
      "Texts: ['love hike mountain', 'sun shine bright today']... +5 more>\n",
      "after vectorization: <Dataset with 7 texts, vectors: 384-dim\n",
      "Texts: ['love hike mountain', 'sun shine bright today']... +5 more>\n",
      "after k-means: <Dataset with 7 texts, vectors: 384-dim, results: 7 items\n",
      "Texts: ['love hike mountain', 'sun shine bright today']... +5 more\n",
      "Results: [1 1]... +5 more>\n",
      "original text: ['I love hiking in the mountains.', 'The sun is shining bright today.', 'Reading books is my favorite hobby.', 'I enjoy outdoor activities like camping.', \"It's a beautiful day for a walk in the park.\", 'I prefer staying indoors and watching movies.', 'Cooking new recipes is always fun.']\n",
      "cluster results: [1 1 1 0 1 0 0]\n"
     ]
    },
    {
     "name": "stderr",
     "output_type": "stream",
     "text": [
      "/opt/homebrew/Caskroom/miniconda/base/envs/spade/lib/python3.12/site-packages/torch/nn/modules/module.py:1762: FutureWarning: `encoder_attention_mask` is deprecated and will be removed in version 4.55.0 for `BertSdpaSelfAttention.forward`.\n",
      "  return forward_call(*args, **kwargs)\n",
      "huggingface/tokenizers: The current process just got forked, after parallelism has already been used. Disabling parallelism to avoid deadlocks...\n",
      "To disable this warning, you can either:\n",
      "\t- Avoid using `tokenizers` before the fork if possible\n",
      "\t- Explicitly set the environment variable TOKENIZERS_PARALLELISM=(true | false)\n"
     ]
    }
   ],
   "source": [
    "\n",
    "# let's make a copy of our data as not to interfere with any other runs\n",
    "import copy\n",
    "\n",
    "cluster_dataset = copy.deepcopy(unlabeled_dataset)\n",
    "\n",
    "#Our goal is to see which clusters the data is in, rather than to use the clusters to classify new data, so we can use the same data to fit and predict without splitting, just using cluster_dataset\n",
    "\n",
    "# we need a vectorizer to put this into a form which we can do math on. So we can use one thing for all, we'll use the sentence embedding model ('all-MiniLM-L6-v2)\n",
    "\n",
    "# import\n",
    "from nlp_pipelines.vectorizer import SentenceEmbedding\n",
    "\n",
    "# initialize\n",
    "embedding_model = SentenceEmbedding(model_name='all-MiniLM-L6-v2') # \"all-MiniLM-L6-v2\" is the default for this method, but let's make it explicit\n",
    "# this is a pretrained embedding model which uses context to take a chunk of text and return a vector which is meant to represent the text in some high dimensional space. See (https://huggingface.co/sentence-transformers/all-MiniLM-L6-v2) for details of this particular model; the website should also have other options for sentence embeddings, which may be more well suited to particular tasks, possibly with computational tradeoffs.\n",
    "\n",
    "# while sentence embeddings typically do well with the full sentence uncleaned, we'll also remove uninformative words and stem, to make the sentences simpler.\n",
    "\n",
    "# import\n",
    "from nlp_pipelines.preprocess import StopwordRemove, Stem\n",
    "\n",
    "# initalize\n",
    "stopword_remover = StopwordRemove() # remove uninformative words\n",
    "stemmer = Stem() # find the roots of words\n",
    "\n",
    "# let's use k-means with k=2 for the clustering\n",
    "\n",
    "#import\n",
    "from nlp_pipelines.clusterer import Kmeans\n",
    "\n",
    "# initalize\n",
    "kmeans_model = Kmeans(num_clusters=2, random_state=101) # picks 2 points in embedding space as centroids; documents are assigned to closest centroid\n",
    "\n",
    "# ok, now we need to run these on the dataset in order. Preprocess, then vectorize, then cluster.\n",
    "\n",
    "# each of the methods needs to be fit and transoformed/predicted on the data.\n",
    "print(\"initial data:\", cluster_dataset)\n",
    "stopword_remover.fit(cluster_dataset)\n",
    "cluster_dataset = stopword_remover.transform(cluster_dataset) # keep working on this object \"cluster_dataset\" step by step\n",
    "print(\"after stopword remove:\", cluster_dataset)\n",
    "stemmer.fit(cluster_dataset)\n",
    "cluster_dataset = stemmer.transform(cluster_dataset)\n",
    "print(\"after stemming:\", cluster_dataset)\n",
    "embedding_model.fit(cluster_dataset)\n",
    "cluster_dataset = embedding_model.transform(cluster_dataset)\n",
    "print(\"after vectorization:\", cluster_dataset)\n",
    "kmeans_model.fit(cluster_dataset)\n",
    "cluster_dataset = kmeans_model.predict(cluster_dataset)\n",
    "print(\"after k-means:\", cluster_dataset)\n",
    "\n",
    "# finally, let's just look at the results and original texts side by side\n",
    "print(\"original text:\", cluster_dataset.original_texts)\n",
    "print(\"cluster results:\", cluster_dataset.results)\n"
   ]
  },
  {
   "cell_type": "markdown",
   "id": "a37b388e",
   "metadata": {},
   "source": [
    "### Extractive Labeling (Keyword Extraction)\n",
    "\n",
    "Labeling is getting 0+ \"labels\" per document. the simpler version of this is extractive labeling, more commonly referred to as keyword extraction. The problem is usually framed as having a large text and wanting to get especially important/informative keywords. These are not picked from a user-supplied set, and are extracted from the text. Since the text is extracted, and there are multiple labels per document, I've called this extractive labeling for internal naming consistency.\n",
    "\n",
    "Anyway, we can do the same preprocessing as we did, but we don't need to vectorize, since this method works on the text itself, rather than in an embedding space. We /could/ reuse the same dataset which already has these transformations and overwrite the results, but for now, let's do it from scratch for clarity."
   ]
  },
  {
   "cell_type": "code",
   "execution_count": 4,
   "id": "dd299d41",
   "metadata": {},
   "outputs": [
    {
     "name": "stdout",
     "output_type": "stream",
     "text": [
      "initial data: <Dataset with 7 texts\n",
      "Texts: ['I love hiking in the mountains.', 'The sun is shining bright today.']... +5 more>\n",
      "after stopword remove: <Dataset with 7 texts\n",
      "Texts: ['love hiking mountains', 'sun shining bright today']... +5 more>\n",
      "after stemming: <Dataset with 7 texts\n",
      "Texts: ['love hike mountain', 'sun shine bright today']... +5 more>\n",
      "after labeling: <Dataset with 7 texts, results: 7 items\n",
      "Texts: ['love hike mountain', 'sun shine bright today']... +5 more\n",
      "Results: [['love', 'mountain'], ['bright today', 'sun shine']]... +5 more>\n",
      "original text: ['I love hiking in the mountains.', 'The sun is shining bright today.', 'Reading books is my favorite hobby.', 'I enjoy outdoor activities like camping.', \"It's a beautiful day for a walk in the park.\", 'I prefer staying indoors and watching movies.', 'Cooking new recipes is always fun.']\n",
      "labeling results: [['love', 'mountain'], ['bright today', 'sun shine'], ['read book', 'book'], ['activ', 'camp'], ['day walk park', 'walk park'], ['watch movi', 'stay indoor'], ['cook new recip', 'new']]\n"
     ]
    }
   ],
   "source": [
    "# preprocessing methods were already imported above, let's re-initialize them for clarity (agin we don't /need/ to do this, we could simply fit to overwrite any information the methods got during preprocessing [in this case there's none]).\n",
    "\n",
    "stopword_remover = StopwordRemove() # remove uninformative words\n",
    "stemmer = Stem() # find the roots of words\n",
    "\n",
    "# TfidfTopN is a method which uses Term Frequency Inverse Document (corpus) frequency to find informative words, then just picks the top N on that score.\n",
    "# more or less, think of this mathod as returning words which are rare across the corpus but generally but show up in this document a lot.\n",
    "\n",
    "from nlp_pipelines.labeler import TfidfTopN\n",
    "\n",
    "# initalize\n",
    "tfidf_labeler = TfidfTopN(top_k=2, ngram_range=(1,3)) # 2 keywords per thing, up to 3gram keywords\n",
    "\n",
    "# a fresh copy of the source dataset again\n",
    "extractive_dataset = copy.deepcopy(unlabeled_dataset)\n",
    "\n",
    "# fit and transform/predict each method\n",
    "\n",
    "print(\"initial data:\", extractive_dataset)\n",
    "stopword_remover.fit(extractive_dataset)\n",
    "extractive_dataset = stopword_remover.transform(extractive_dataset) # keep working on this object \"cluster_dataset\" step by step\n",
    "print(\"after stopword remove:\", extractive_dataset)\n",
    "stemmer.fit(extractive_dataset)\n",
    "extractive_dataset = stemmer.transform(extractive_dataset)\n",
    "print(\"after stemming:\", extractive_dataset)\n",
    "tfidf_labeler.fit(extractive_dataset)\n",
    "extractive_dataset = tfidf_labeler.predict(extractive_dataset)\n",
    "print(\"after labeling:\", extractive_dataset)\n",
    "\n",
    "# finally, let's just look at the results and original texts side by side\n",
    "print(\"original text:\", extractive_dataset.original_texts)\n",
    "print(\"labeling results:\", extractive_dataset.results)"
   ]
  },
  {
   "cell_type": "markdown",
   "id": "e0496f4c",
   "metadata": {},
   "source": [
    "### Classification\n",
    "\n",
    "The pattern for classification is straightforward: one document gets one class. It's much like clustering, but we expect it to match the meaning of the class, rather than just membership. \n",
    "\n",
    "This time, however, let's use a supervised method. This also means we should split the dataset into test and train."
   ]
  },
  {
   "cell_type": "code",
   "execution_count": 5,
   "id": "977c4034",
   "metadata": {},
   "outputs": [
    {
     "name": "stdout",
     "output_type": "stream",
     "text": [
      "train split: <Dataset with 3 texts\n",
      "Texts: ['This is terrible', 'My favorite film ever']... +1 more\n",
      "Truths: ['negative', 'positive']... +1 more>\n",
      "test split: <Dataset with 4 texts\n",
      "Texts: ['I love this movie', 'Fantastic work']... +2 more\n",
      "Truths: ['positive', 'positive']... +2 more>\n",
      "original text for test split: ['I love this movie', 'Fantastic work', 'Awful experience', 'A waste of my time']\n",
      "results from label propagation:  ['negative' 'negative' 'negative' 'negative']\n",
      "comparison: set truths ['positive', 'positive', 'negative', 'negative']\n",
      "Result evaluation {'accuracy': 0.5, 'precision_macro': 0.25, 'recall_macro': 0.5, 'f1_macro': 0.3333333333333333}\n"
     ]
    }
   ],
   "source": [
    "train, test = classed_dataset.split(count=3, seed=101) # 3 in train, the other four in test\n",
    "\n",
    "print(\"train split:\", train)\n",
    "print(\"test split:\", test)\n",
    "\n",
    "# we've already seen preprocessing, but once more:\n",
    "stopword_remover = StopwordRemove() # remove uninformative words\n",
    "stemmer = Stem() # find the roots of words\n",
    "\n",
    "# let's use a bag of words embedding this time. This is not pretrained, so fit will actually learn something about the data. This does, however, mean that words/tokens in the test/predict data which were not in the train data will essentially be ignored under embedding. In real applciations, use a well-rounded train set.\n",
    "\n",
    "from nlp_pipelines.vectorizer import BagOfWords\n",
    "\n",
    "bag_of_words_embed = BagOfWords() # no arguments, just counts! Bag of words assigns each word/token an index for all vectors, and its value is the number of times it appears.\n",
    "\n",
    "# let's use label propogation. This is usually referred to as semi-supervised, but we can fit it on the train data then use the space of those labeled documents in the vector space to label the new documents.\n",
    "\n",
    "from nlp_pipelines.classifier import LabelProp\n",
    "\n",
    "label_prop_model = LabelProp(n_neighbors=2, kernel=\"rbf\") #by default, the kernel is knn which is probably good enough, but we're customizing here to show how to do so\n",
    "\n",
    "# ok, let's fit the train data.\n",
    "stopword_remover.fit(train)\n",
    "train = stopword_remover.transform(train)\n",
    "stemmer.fit(train)\n",
    "train = stemmer.transform(train)\n",
    "bag_of_words_embed.fit(train)\n",
    "train = bag_of_words_embed.transform(train)\n",
    "train = stemmer.transform(train)\n",
    "label_prop_model.fit(train)\n",
    "# no point in transforming, each would map to itself.\n",
    "\n",
    "# now we have each of these fit, we run it again for the test data\n",
    "test = stopword_remover.transform(test)\n",
    "test = stemmer.transform(test)\n",
    "test = bag_of_words_embed.transform(test)\n",
    "test = label_prop_model.predict(test)\n",
    "\n",
    "# look at the results\n",
    "print(\"original text for test split:\", test.original_texts)\n",
    "print(\"results from label propagation: \", test.results)\n",
    "print(\"comparison: set truths\", test.truths)\n",
    "\n",
    "# also, we can evaluate, since our results and truths are speaking the same language \n",
    "\n",
    "from nlp_pipelines.evaluate import evaluate\n",
    "\n",
    "print(\"Result evaluation\", evaluate(test))\n"
   ]
  },
  {
   "cell_type": "markdown",
   "id": "691ced61",
   "metadata": {},
   "source": [
    "## Usage of the pipeline constructor"
   ]
  },
  {
   "cell_type": "markdown",
   "id": "5113e00f",
   "metadata": {},
   "source": [
    "In the last part, we had a series of operations which needed to be fit then transformed. That's workable when we have all of the data at once, but we'd probably like to be able to do more later. We should save our method! However, like this this means that we'd have to save every step, and when we wanted to use it again, we'd need to use them in the same order. Remember that our methods which rely on a particular embedding space would likely break under another.\n",
    "\n",
    "To solve this, and also to make using this easier, a helper class \"Pipeline\" is used. This makes saving/loading pretrained pipelines much more workable. Also, I think it's easier to read and does not distract from the core of what the pipeline is doing.\n",
    "\n",
    "For a quick demo, let's remake the previous pipelines using Pipeline objects."
   ]
  },
  {
   "cell_type": "code",
   "execution_count": 6,
   "id": "26cacf66",
   "metadata": {},
   "outputs": [
    {
     "name": "stdout",
     "output_type": "stream",
     "text": [
      "original text: ['I love hiking in the mountains.', 'The sun is shining bright today.', 'Reading books is my favorite hobby.', 'I enjoy outdoor activities like camping.', \"It's a beautiful day for a walk in the park.\", 'I prefer staying indoors and watching movies.', 'Cooking new recipes is always fun.']\n",
      "preprocessed text: ['love hike mountain', 'sun shine bright today', 'read book favorit hobbi', 'enjoy outdoor activ like camp', 'beauti day walk park', 'prefer stay indoor watch movi', 'cook new recip fun']\n",
      "resulting clusters: [1 1 1 0 1 0 0]\n"
     ]
    }
   ],
   "source": [
    "from nlp_pipelines.pipeline import Pipeline\n",
    "\n",
    "# clustering from previous subsecton reproduced!\n",
    "\n",
    "cluster_pipeline = Pipeline([\n",
    "    {\"name\": \"preprocess_1\", \"method\": \"preprocess.StopwordRemove\"}, # each line has the method,  the name field is just for readability\n",
    "    {\"name\": \"preprocess_2\", \"method\": \"preprocess.Stem\"}, # the method names are very similar to how the methods were imported; from nlp_pipelines.X import Y becomes X.Y for X and Y. The methods are listed in README.md\n",
    "    {\"name\": \"vectorize\", \"method\":\"vectorizer.SentenceEmbedding\", \"params\":{\"model_name\":'all-MiniLM-L6-v2'}}, # the parameters passed when initializing the method are passed as \"params\" if needed\n",
    "    {\"name\": \"kmeans\", \"method\": \"clusterer.Kmeans\", \"params\":{\"num_clusters\":2, \"random_state\":101}}\n",
    "])\n",
    "\n",
    "cluster_dataset = copy.deepcopy(unlabeled_dataset)\n",
    "\n",
    "cluster_pipeline.set_data(train_data=cluster_dataset, run_data=cluster_dataset) # same train and run data for now\n",
    "\n",
    "# run it! This is an alias for .fit and .predict\n",
    "cluster_pipeline.run()\n",
    "# get the results from the run_data\n",
    "print(\"original text:\", cluster_pipeline.run_data.original_texts)\n",
    "print(\"preprocessed text:\", cluster_pipeline.run_data.texts)\n",
    "print(\"resulting clusters:\", cluster_pipeline.run_data.results)"
   ]
  },
  {
   "cell_type": "code",
   "execution_count": 7,
   "id": "166ccf9a",
   "metadata": {},
   "outputs": [
    {
     "name": "stdout",
     "output_type": "stream",
     "text": [
      "original text: ['I love hiking in the mountains.', 'The sun is shining bright today.', 'Reading books is my favorite hobby.', 'I enjoy outdoor activities like camping.', \"It's a beautiful day for a walk in the park.\", 'I prefer staying indoors and watching movies.', 'Cooking new recipes is always fun.']\n",
      "preprocessed text: ['love hike mountain', 'sun shine bright today', 'read book favorit hobbi', 'enjoy outdoor activ like camp', 'beauti day walk park', 'prefer stay indoor watch movi', 'cook new recip fun']\n",
      "resulting keyword sets: [['love', 'day walk'], ['today', 'sun'], ['watching movies', 'day walk'], ['like', 'outdoor'], ['day walk', 'walk park'], ['prefer', 'watching movies'], ['new', 'fun']]\n"
     ]
    }
   ],
   "source": [
    "# extractive labeling from previous subsecton reproduced!\n",
    "\n",
    "extract_pipeline = Pipeline([\n",
    "    {\"name\": \"preprocess_1\", \"method\": \"preprocess.StopwordRemove\"},\n",
    "    {\"name\": \"preprocess_2\", \"method\": \"preprocess.Stem\"},\n",
    "    {\"name\": \"tfidf keyword extract\", \"method\": \"labeler.TfidfTopN\", \"params\":{\"top_k\":2, \"ngram_range\":(1,3)}}\n",
    "])\n",
    "\n",
    "extractive_dataset = copy.deepcopy(unlabeled_dataset)\n",
    "\n",
    "extract_pipeline.set_data(train_data=extractive_dataset, run_data=extractive_dataset) # same train and run data for now, again since no split\n",
    "\n",
    "# run it! This is an alias for .fit and .predict\n",
    "extract_pipeline.run()\n",
    "# get the results from the run_data\n",
    "print(\"original text:\", extract_pipeline.run_data.original_texts)\n",
    "print(\"preprocessed text:\", extract_pipeline.run_data.texts)\n",
    "print(\"resulting keyword sets:\", extract_pipeline.run_data.results)"
   ]
  },
  {
   "cell_type": "markdown",
   "id": "55810042",
   "metadata": {},
   "source": [
    "## Saving and loading trained pipeline\n",
    "\n",
    "For the classifier, we had to fit a lot! It's a good case to save and load a pipeline: there's seprate data, and both the vectorizer and the model have changed from .fit. Let's do the same thing this time though let's pretend we're picking it up after some time and save/load the pipeline."
   ]
  },
  {
   "cell_type": "code",
   "execution_count": 8,
   "id": "2672cad0",
   "metadata": {},
   "outputs": [
    {
     "name": "stdout",
     "output_type": "stream",
     "text": [
      "original text: ['I love this movie', 'Fantastic work', 'Awful experience', 'A waste of my time']\n",
      "preprocessed text: ['love movi', 'fantast work', 'aw experi', 'wast time']\n",
      "resulting classes: ['negative' 'negative' 'negative' 'negative']\n",
      "true classes: ['positive', 'positive', 'negative', 'negative']\n",
      "evaluation of classes: {'accuracy': 0.5, 'precision_macro': 0.25, 'recall_macro': 0.5, 'f1_macro': 0.3333333333333333}\n"
     ]
    }
   ],
   "source": [
    "# classification from previous subsecton reproduced!\n",
    "\n",
    "extract_pipeline = Pipeline([\n",
    "    {\"name\": \"preprocess_1\", \"method\": \"preprocess.StopwordRemove\"},\n",
    "    {\"name\": \"preprocess_2\", \"method\": \"preprocess.Stem\"},\n",
    "    {\"name\": \"bow vectorize\", \"method\": \"vectorizer.BagOfWords\"},\n",
    "    {\"name\": \"classifier labelprop\", \"method\": \"classifier.LabelProp\", \"params\":{\"n_neighbors\":2, \"kernel\":\"rbf\"}}\n",
    "])\n",
    "\n",
    "train, test = classed_dataset.split(count=3, seed=101)\n",
    "\n",
    "extract_pipeline.set_data(train_data=train) # just need train data to train\n",
    "extract_pipeline.train()\n",
    "\n",
    "extract_pipeline.save(\"./demo_data/toy_classifier.pickle\")\n",
    "\n",
    "# let's load it\n",
    "loaded_pipeline = Pipeline.load(\"./demo_data/toy_classifier.pickle\")\n",
    "# now let's load the test data and run the saved pretrained pipeline on that\n",
    "loaded_pipeline.set_data(run_data=test)\n",
    "loaded_pipeline.predict()\n",
    "\n",
    "# get the results from the run_data\n",
    "print(\"original text:\", loaded_pipeline.run_data.original_texts)\n",
    "print(\"preprocessed text:\", loaded_pipeline.run_data.texts)\n",
    "print(\"resulting classes:\", loaded_pipeline.run_data.results)\n",
    "print(\"true classes:\", loaded_pipeline.run_data.truths)\n",
    "\n",
    "# and again, evaluate\n",
    "print(\"evaluation of classes:\", evaluate(loaded_pipeline.run_data))\n",
    "\n",
    "# see, just the same! but easier!"
   ]
  },
  {
   "cell_type": "markdown",
   "id": "e3d4fef7",
   "metadata": {},
   "source": [
    "# Practical Demos"
   ]
  },
  {
   "cell_type": "markdown",
   "id": "ca9b1df5",
   "metadata": {},
   "source": [
    "Let's load some real data (`./demo_data`)\n",
    "\n",
    "`sample_5_newsgroup_text.parquet` contains text posted in 5 newsgroups, with labels; adapted from [SetFit/20_newsgroups](https://huggingface.co/datasets/SetFit/20_newsgroups). The text is a given post in the group, and the class is the source newsgroup. There are some semantic overlaps (e.g. multiple are about computers), so it's more challenging than an artificial clean dataset.\n",
    "\n",
    "`springer-127-parsed.json` contains abstracts and keywords from the journal [Social Psychiatry and Psychiatric Epidemiology](https://link.springer.com/journal/127). There are a number of abstract terms, and as a result the assigned keywords are likely to be much broader than subsets we consider, though preprocessing the labels could help with that.\n",
    "\n",
    "Unlike the above, these demos are not as much to show how to use the methods, but are more of a real-time attempt at genuine problemsolving."
   ]
  },
  {
   "cell_type": "code",
   "execution_count": 9,
   "id": "4fdacbe4",
   "metadata": {},
   "outputs": [],
   "source": [
    "# the newsgroups are in a parquet file, which is like a compressed csv but not directly human readable.\n",
    "newsgroups = Dataset.from_parquet(\"./demo_data/sample_5_newsgroup_text.parquet\", text_field=\"text\", truth_field=\"label_text\")\n",
    "\n",
    "# the abstracts are in a json file, which is a usual web serialization\n",
    "abstracts = Dataset.from_json(\"./demo_data/springer-127-parsed.json\", text_field=\"abstract\", truth_field=\"keywords\")"
   ]
  },
  {
   "cell_type": "markdown",
   "id": "c8c09249",
   "metadata": {},
   "source": [
    "## Clustering"
   ]
  },
  {
   "cell_type": "markdown",
   "id": "927b3a22",
   "metadata": {},
   "source": [
    "The best choice to do clustering is the newsgroups data, as the methods here only cluster into a single class.\n",
    "The evaluate function can still be used here, it will just map the \"best\" case between labels and clusters, essentially giving the cluster results the benefit of the doubt. Though, it seems reasonable that if we had n clusters and n labels, we'd pick the best match anyway.\n",
    "\n",
    "Thinking more about the design of this pipeline, there's room for a bigger comparison. Previous work on this combined methods with vectorizations. But, we can now keep the same method and compare results between different vectorizations. (Note: It's also entirely possible that the dimension could be the core of the difference, I'm saying in advance of actually running things, but this could be explored further later).\n",
    "\n",
    "So, from my understanding of the sentence embedding, it does better with raw information; it's meant to feed a BERT model, which as a transformer LLM is likely to perform better with sentences than stemmed words or stopwords removed.\n",
    "\n",
    "However, for comparison, we can use the simplest embedding, BagOfWords. To get more out of this, we'll lean more on preprocessing.\n",
    "\n",
    "(For later consideration, further expirements seem interesting in comparison more like to like: how much better does a bigger pretrained sentence embedding do all else the same? Does my reasoning about preprocessing actually hold true?)\n",
    "\n",
    "Anyway, let's use a very simple clustering method: K-means, trained and evaluated on the same dataset but of course different embedding spaces."
   ]
  },
  {
   "cell_type": "code",
   "execution_count": 10,
   "id": "9cf74134",
   "metadata": {},
   "outputs": [
    {
     "name": "stdout",
     "output_type": "stream",
     "text": [
      "Train split: <Dataset with 100 texts\n",
      "Texts: ['We are working on gas-solid adsorption air-con system for auto applications.\\nIn this kind of system, the energy for regenerating the adsorbent is from \\nthe exhaust gas.  Anyone interested in this mail email me or follow up this\\nthread, we may have a discussion on prospects of this technology.\\n\\nMax \\n', 'My boss is considering the purchase of a Powerbook or Duo. He is leaning\\ntowards a 180, because of the math coprocessor (for Mathematica), but would\\nget a Duo if he could find a Mini-Dock with a coprocessor. Have any\\nthird-parties announced such a beast?\\n']... +98 more\n",
      "Truths: ['rec.autos', 'comp.sys.mac.hardware']... +98 more> \n",
      "\n",
      "Test split: <Dataset with 400 texts\n",
      "Texts: [\"\\n\\n\\n\\n\\n\\nIt's a fair stretch of anyone's imagination to expect them to\\nattach any credibility to anything written in Time magazine in\\nthe past twenty years, I'd imagine.  The Enquirer at least gets\\nthe names attached to the right body parts.\\n\\n=Mark\\n--\", ' \\n \\n \\n   So, how did you guys *learn* this? Is it something you were\\nborn with, or did you make horrible grinding noises the first few\\ntimes? (how many times?)\\n \\n   I would think you\\'d have to have a certain amount of \"feel\"\\nfor it to begin with. Some people would never get it, and others\\n(like me) would never have the guts to try it, unless maybe you\\nwere planning to buy a new transmission anyway...\\n \\n   (BTW, I\\'ve heard that quite a few truckers and race car\\ndrivers shift this way).']... +398 more\n",
      "Truths: ['talk.politics.guns', 'rec.autos']... +398 more> \n",
      "\n",
      "Embed Pipeline Results: \n",
      " {'adjusted_rand_index': 0.5836570036205047, 'normalized_mutual_info': 0.5889319444134291, 'v_measure': 0.588931944413429, 'fowlkes_mallows': 0.6669401782295032, 'accuracy': 0.805, 'f1_macro': 0.8023618280211465} \n",
      "\n",
      "Bag of words Pipeline Results: \n",
      " {'adjusted_rand_index': 0.000167280812336369, 'normalized_mutual_info': 0.01939704337462054, 'v_measure': 0.01939704337462054, 'fowlkes_mallows': 0.4423714935493105, 'accuracy': 0.235, 'f1_macro': 0.08537887631325178} \n",
      "\n"
     ]
    }
   ],
   "source": [
    "train, test = newsgroups.split(ratio=0.8, labeled=True, splitLabeled=True, seed=101) # discard all non-labeled data, from both train and test.\n",
    "\n",
    "print(\"Train split:\", train, \"\\n\")\n",
    "print(\"Test split:\", test, \"\\n\")\n",
    "\n",
    "# also, I think python copies by reference, and these pipelines will both want to write to .results. Let's make a copy for each. \n",
    "train_1 = copy.deepcopy(train)\n",
    "test_1 = copy.deepcopy(test)\n",
    "train_2 = copy.deepcopy(train)\n",
    "test_2 = copy.deepcopy(test)\n",
    "\n",
    "embed_pipeline = Pipeline([\n",
    "    {\"name\": \"vectorize\", \"method\":\"vectorizer.SentenceEmbedding\", \"params\":{\"model_name\":'all-MiniLM-L6-v2'}},\n",
    "    {\"name\": \"kmeans\", \"method\": \"clusterer.Kmeans\", \"params\":{\"num_clusters\":5, \"random_state\":101}}\n",
    "])\n",
    "\n",
    "embed_pipeline.set_data(train_data=train_1, run_data=test_1)\n",
    "\n",
    "bow_pipeline = Pipeline([\n",
    "    {\"name\": \"preprocess_1\", \"method\": \"preprocess.StopwordRemove\"},\n",
    "    {\"name\": \"preprocess_2\", \"method\": \"preprocess.Stem\"},\n",
    "    {\"name\": \"bow vectorize\", \"method\": \"vectorizer.BagOfWords\"},\n",
    "    {\"name\": \"kmeans\", \"method\": \"clusterer.Kmeans\", \"params\":{\"num_clusters\":5, \"random_state\":101}}\n",
    "])\n",
    "\n",
    "bow_pipeline.set_data(train_data=train_2, run_data=test_2)\n",
    "\n",
    "embed_pipeline.run()\n",
    "bow_pipeline.run()\n",
    "\n",
    "print(\"Embed Pipeline Results: \\n\", evaluate(embed_pipeline.run_data, cluster_mode=True), \"\\n\")\n",
    "print(\"Bag of words Pipeline Results: \\n\", evaluate(bow_pipeline.run_data, cluster_mode=True), \"\\n\")"
   ]
  },
  {
   "cell_type": "markdown",
   "id": "9f40a2aa",
   "metadata": {},
   "source": [
    "Wow, honestly I thought it'd be a little closer!\n",
    "\n",
    "In any case, we have some new and old metrics. We needn't focus on all of them practically, but as a review:\n",
    "\n",
    "* Expected Metrics\n",
    "  * accuracy: How many were right?\n",
    "  * f1_macro: the average across each class of the f1 scores, where the f1 score is the harmonic mean of precision and recall.\n",
    "* Cluster Metrics\n",
    "  * Adjusted Rand Index (ARI): How similar the results are to the truths, adjusted such that the expectation of ARI for random assignment is 0 (so it can be negative if worse than expected by random chance!). Quick way to tell how the results compare to random noise.\n",
    "  * Normalized Mutual Information (NMI): Shared information between clusrters, also normalized (but still [0,1]).\n",
    "  * V measure: Harmonic mean of homogeneity (each cluster contains one class) and completeness (all class members in one cluster). Captures/generalizes purity information.\n",
    "  * Fowlkes-Mallows: Geometric mean of precision and recall for clustering pairs. "
   ]
  },
  {
   "cell_type": "markdown",
   "id": "885856c8",
   "metadata": {},
   "source": [
    "## Classification"
   ]
  },
  {
   "cell_type": "markdown",
   "id": "ffbbd3fb",
   "metadata": {},
   "source": [
    "I want to take this as an opportunity to contextualize prior results to a (reasonably simple) deep learning model. We haven't had much data here, but NNs can be powerful. Let's compare a simple NN (new class: two layer NN with a dropout term) to both label propagation and the xgboost method. Using the same embedding with no major preprocessing."
   ]
  },
  {
   "cell_type": "code",
   "execution_count": 11,
   "id": "749e0d40",
   "metadata": {},
   "outputs": [
    {
     "name": "stdout",
     "output_type": "stream",
     "text": [
      "['rec.autos', 'sci.space', 'comp.graphics', 'comp.sys.mac.hardware', 'talk.politics.guns']\n"
     ]
    }
   ],
   "source": [
    "# first, let's get the possible labels for this dataset\n",
    "\n",
    "newsgroup_labels = list(set(newsgroups.truths)) # quick way to get all unique labels in a flat list!\n",
    "print(newsgroup_labels)"
   ]
  },
  {
   "cell_type": "code",
   "execution_count": 12,
   "id": "70b6ccf7",
   "metadata": {},
   "outputs": [],
   "source": [
    "# again, out of an abundance of caution making copies.\n",
    "train_3 = copy.deepcopy(train)\n",
    "test_3 = copy.deepcopy(test)\n",
    "train_4 = copy.deepcopy(train)\n",
    "test_4 = copy.deepcopy(test)\n",
    "train_5 = copy.deepcopy(train)\n",
    "test_5 = copy.deepcopy(test)\n",
    "\n",
    "nn_pipeline = Pipeline([\n",
    "    {\"name\": \"vectorize\", \"method\":\"vectorizer.SentenceEmbedding\", \"params\":{\"model_name\":'all-MiniLM-L6-v2'}},\n",
    "    {\"name\": \"nn\", \"method\": \"classifier.SimpleNNClassifier\"}\n",
    "])\n",
    "\n",
    "nn_pipeline.set_data(train_data=train_3, run_data=test_3, possible_labels=newsgroup_labels)\n",
    "\n",
    "labelprop_pipeline = Pipeline([\n",
    "    {\"name\": \"vectorize\", \"method\":\"vectorizer.SentenceEmbedding\", \"params\":{\"model_name\":'all-MiniLM-L6-v2'}},\n",
    "    {\"name\": \"labelprop\", \"method\": \"classifier.LabelProp\"}\n",
    "])\n",
    "\n",
    "labelprop_pipeline.set_data(train_data=train_4, run_data=test_4, possible_labels=newsgroup_labels)\n",
    "\n",
    "xgboost_pipeline = Pipeline([\n",
    "    {\"name\": \"vectorize\", \"method\":\"vectorizer.SentenceEmbedding\", \"params\":{\"model_name\":'all-MiniLM-L6-v2'}},\n",
    "    {\"name\": \"xgboost\", \"method\": \"classifier.Xgboost\"}\n",
    "])\n",
    "\n",
    "xgboost_pipeline.set_data(train_data=train_5, run_data=test_5, possible_labels=newsgroup_labels)\n",
    "\n",
    "\n",
    "nn_pipeline.run()\n",
    "labelprop_pipeline.run()\n",
    "xgboost_pipeline.run()"
   ]
  },
  {
   "cell_type": "code",
   "execution_count": 13,
   "id": "f62be199",
   "metadata": {},
   "outputs": [
    {
     "name": "stdout",
     "output_type": "stream",
     "text": [
      "Neural Net Pipeline Results: \n",
      " {'accuracy': 0.5075, 'precision_macro': 0.5250816229763599, 'recall_macro': 0.5252549941245593, 'f1_macro': 0.39630672387823945} \n",
      "\n",
      "Label Propagation Pipeline Results: \n",
      " {'accuracy': 0.7625, 'precision_macro': 0.7786128740012235, 'recall_macro': 0.7654396508309552, 'f1_macro': 0.7624544524195012} \n",
      "\n",
      "Xgboost Pipeline Results: \n",
      " {'accuracy': 0.6475, 'precision_macro': 0.6477712904911181, 'recall_macro': 0.6449753231492362, 'f1_macro': 0.6424181929441555} \n",
      "\n"
     ]
    }
   ],
   "source": [
    "print(\"Neural Net Pipeline Results: \\n\", evaluate(nn_pipeline.run_data), \"\\n\")\n",
    "print(\"Label Propagation Pipeline Results: \\n\", evaluate(labelprop_pipeline.run_data), \"\\n\")\n",
    "print(\"Xgboost Pipeline Results: \\n\", evaluate(xgboost_pipeline.run_data), \"\\n\")"
   ]
  },
  {
   "cell_type": "markdown",
   "id": "1bb6d793",
   "metadata": {},
   "source": [
    "(And again, _macro means we averaged across classes, not just documents.)"
   ]
  },
  {
   "cell_type": "markdown",
   "id": "925cd745",
   "metadata": {},
   "source": [
    "## Extractive Labeling"
   ]
  },
  {
   "cell_type": "markdown",
   "id": "f295b3f1",
   "metadata": {},
   "source": [
    "Extractive labeling is simply picking words from a document which seem especially important. It's typically used for keyword extraction, and could be seen as a special kind of summarization. I'm curious about the difference across the corpus of extracted keywords versus the \"true\" keywords. I'm also curious how essential filtering out words in a step of preprocessing is"
   ]
  },
  {
   "cell_type": "code",
   "execution_count": 16,
   "id": "f0cdbc7b",
   "metadata": {},
   "outputs": [
    {
     "data": {
      "text/plain": [
       "<Dataset with 500 texts, results: 500 items\n",
       "Texts: ['purpose Disparities mental health sexual orientation group young adult long discuss aim cross sectional study investigate moderate effect sexual orientation association social factor depressive symptom suicidal ideation young adult method study include participant age 18–25y French EpiCov cohort outcome variable depressive symptom suicidal ideation Poisson regression robust error variance perform investigate association social factor outcome accord sexual orientation lesbian gay bisexual defining accord sexuality sexual minority SM heterosexual wishing answer belong SM NSM result prevalence depressive symptom suicidal ideation high SM NSM group depressive symptom significant moderate effect sexual orientation observe female vs male sex NSM adjust prevalence ratio apr 1.58[1.28–1.95 SM apr 1.03[0.78–1.36 age category 22–25y vs 21y nsm apr 1.32[1.05–1.67 sm apr 0.78[0.59–1.03 suicidal ideation significant moderate effect observe vs relationship NSM apr 1.55[1.14–2.12 SM apr 0.82[0.59–1.13 conclusion study conduct know social risk factor mental problem explain high prevalence depressive symptom suicidal ideation young SM group study need understand specific challenge face young people', 'background Sleep duration physical activity associate internalize problem genetic confound measurement error introduce bias assess genetic confound association modifiable lifestyle internalize problem device base questionnaire assessment estimate share genetic risk different assessment adolescent Methods preregistere study Adolescents Brain Cognitive Development cohort include european adolescent self report device base sleep duration N = moderate vigorous physical activity MVPA day week n = Brief Problem Monitor assess self report internalize problem score genetic sensitivity analysis conduct assess genetic confound combine polygenic score molecular base heritability internalize problem result long sleep duration associate lower internalize problem self report sd SE = SD objective sd SE = SD assessment frequent mvpa associate lower internalize problem self report sd SE = sd device base SD SE = SD assessment substantial genetic confounding find self report sleep duration internalize problem predominantly boy clear evidence genetic confound find association device base sleep duration measure mvpa internalize problem Conclusion observe negative relationship report child sleep duration internalize problem partly genetic confound particularly boy genetic influence likely capture reporting measurement error share method variance impact adolescent sleep duration internalize problem overestimate self report especially boy association physical activity genetically confound']... +498 more\n",
       "Truths: [['Depressive symptoms', 'Epidemiology', 'Sexual orientation', 'Social factors', 'Suicidal ideation', 'Young adults'], ['Genetic confounding', 'Modifiable lifestyle', 'Shared method variance', 'Adolescent internalizing problems']]... +498 more\n",
       "Results: [['suicidal', 'depressive', 'heterosexual', 'sexuality', 'bisexual'], ['questionnaire', 'adolescents', 'sleep', 'assessment', 'genetic']]... +498 more>"
      ]
     },
     "execution_count": 16,
     "metadata": {},
     "output_type": "execute_result"
    }
   ],
   "source": [
    "# make copies of abstracts\n",
    "abstracts_1 = copy.deepcopy(abstracts)\n",
    "abstracts_2 = copy.deepcopy(abstracts)\n",
    "\n",
    "# pipeline 1: lemmatize, keyword extract\n",
    "lemmatize_pipeline = Pipeline([\n",
    "    {\"name\": \"lemmatize\", \"method\":\"preprocess.Lemmatize\"},\n",
    "    {\"name\": \"keywords\", \"method\": \"labeler.KeyBert\"}\n",
    "])\n",
    "\n",
    "lemmatize_pipeline.set_data(train_data=abstracts_1, run_data=abstracts_1)\n",
    "\n",
    "# pipeline 2: filter out some kinds of words, lemmatize, keyword extract\n",
    "filter_pipeline = Pipeline([\n",
    "    {\"name\": \"filter\", \"method\":\"preprocess.TokenFilter\", \"params\":{\"remove_if\":[\"is_stop\", \"is_punct\", \"is_space\", \"like_num\", \"like_url\"]}}, # see https://spacy.io/api/token/#attributes\n",
    "    {\"name\": \"lemmatize\", \"method\":\"preprocess.Lemmatize\"},\n",
    "    {\"name\": \"keywords\", \"method\": \"labeler.KeyBert\"} \n",
    "])\n",
    "\n",
    "filter_pipeline.set_data(train_data=abstracts_2, run_data=abstracts_2)\n",
    "\n",
    "lemmatize_pipeline.run()\n",
    "filter_pipeline.run()"
   ]
  },
  {
   "cell_type": "markdown",
   "id": "be1346ad",
   "metadata": {},
   "source": [
    "Ok, now let's look at these pipelines comared to each other, and to the true labels. \n"
   ]
  },
  {
   "cell_type": "code",
   "execution_count": 24,
   "id": "ea8108db",
   "metadata": {},
   "outputs": [
    {
     "name": "stdout",
     "output_type": "stream",
     "text": [
      "Number of keywords only in Results: 555\n",
      "Number of keywords only in Truths: 1230\n",
      "Number of keywords in both Results and Truths (intersection): 209\n",
      "\n",
      "Top keywords in Results by count:\n",
      "depression: 81\n",
      "psychiatric: 48\n",
      "depressive: 47\n",
      "suicide: 46\n",
      "adolescent: 46\n",
      "prevalence: 39\n",
      "anxiety: 36\n",
      "schizophrenia: 35\n",
      "psychosis: 34\n",
      "health: 32\n",
      "\n",
      "Top keywords in Truths by count:\n",
      "mental health: 75\n",
      "depression: 65\n",
      "schizophrenia: 32\n",
      "covid-19: 29\n",
      "suicide: 29\n",
      "anxiety: 26\n",
      "loneliness: 23\n",
      "psychosis: 19\n",
      "epidemiology: 18\n",
      "mental disorders: 17\n"
     ]
    },
    {
     "data": {
      "image/png": "[encoded data removed]",
      "text/plain": [
       "<Figure size 1200x600 with 2 Axes>"
      ]
     },
     "metadata": {},
     "output_type": "display_data"
    }
   ],
   "source": [
    "import matplotlib.pyplot as plt\n",
    "from collections import Counter\n",
    "\n",
    "# Flatten the lists of lists into single lists, make lowercase\n",
    "flat_a = [item.lower() for sublist in lemmatize_pipeline.run_data.results for item in sublist]\n",
    "flat_b = [item.lower() for sublist in lemmatize_pipeline.run_data.truths for item in sublist]\n",
    "\n",
    "set_a = set(flat_a)\n",
    "set_b = set(flat_b)\n",
    "\n",
    "intersection = set_a & set_b\n",
    "only_a = set_a - set_b\n",
    "only_b = set_b - set_a\n",
    "\n",
    "# how many distinct keywords are in results, truths, and both\n",
    "print(f\"Number of keywords only in Results: {len(only_a)}\")\n",
    "print(f\"Number of keywords only in Truths: {len(only_b)}\")\n",
    "print(f\"Number of keywords in both Results and Truths (intersection): {len(intersection)}\\n\")\n",
    "\n",
    "# Count occurrences of keywords\n",
    "count_a = Counter(flat_a)\n",
    "count_b = Counter(flat_b)\n",
    "\n",
    "n = 10\n",
    "\n",
    "# Display the top n keywords by count for results\n",
    "print(\"Top keywords in Results by count:\")\n",
    "top_a = count_a.most_common(n)\n",
    "for keyword, count in top_a:\n",
    "    print(f\"{keyword}: {count}\")\n",
    "\n",
    "# Display the top 5 keywords by count for truths\n",
    "print(\"\\nTop keywords in Truths by count:\")\n",
    "top_b = count_b.most_common(n)\n",
    "for keyword, count in top_b:\n",
    "    print(f\"{keyword}: {count}\")\n",
    "\n",
    "# Create bar charts for top 5 keywords in each\n",
    "fig, ax = plt.subplots(2,1, figsize=(12, 6))\n",
    "\n",
    "# Plot for each list\n",
    "ax[0].bar([item[0] for item in top_a], [item[1] for item in top_a], color='blue')\n",
    "ax[0].set_title(f\"Top {n} Keywords in Results\")\n",
    "ax[0].set_xlabel(\"Keyword\")\n",
    "ax[0].set_ylabel(\"Count\")\n",
    "\n",
    "ax[1].bar([item[0] for item in top_b], [item[1] for item in top_b], color='green')\n",
    "ax[1].set_title(f\"Top {n} Keywords in Truths\")\n",
    "ax[1].set_xlabel(\"Keyword\")\n",
    "ax[1].set_ylabel(\"Count\")\n",
    "\n",
    "# Show the plots\n",
    "plt.tight_layout()\n",
    "plt.show()\n"
   ]
  },
  {
   "cell_type": "code",
   "execution_count": 25,
   "id": "fe17131a",
   "metadata": {},
   "outputs": [
    {
     "name": "stdout",
     "output_type": "stream",
     "text": [
      "Number of keywords only in Lemmatize Only Pipeline: 225\n",
      "Number of keywords only in Filtered Pipeline: 150\n",
      "Number of keywords in both (intersection): 539\n",
      "\n",
      "Top keywords in Lemmatize by count:\n",
      "depression: 81\n",
      "psychiatric: 48\n",
      "depressive: 47\n",
      "suicide: 46\n",
      "adolescent: 46\n",
      "prevalence: 39\n",
      "anxiety: 36\n",
      "schizophrenia: 35\n",
      "psychosis: 34\n",
      "health: 32\n",
      "\n",
      "Top keywords in Filtered by count:\n",
      "depression: 82\n",
      "health: 70\n",
      "psychiatric: 54\n",
      "depressive: 51\n",
      "adolescent: 47\n",
      "prevalence: 46\n",
      "questionnaire: 43\n",
      "suicide: 41\n",
      "anxiety: 39\n",
      "social: 37\n"
     ]
    },
    {
     "data": {
      "image/png": "[encoded data removed]",
      "text/plain": [
       "<Figure size 1200x600 with 2 Axes>"
      ]
     },
     "metadata": {},
     "output_type": "display_data"
    }
   ],
   "source": [
    "# same thing again, but what did the token filter do?\n",
    "\n",
    "flat_a = [item.lower() for sublist in lemmatize_pipeline.run_data.results for item in sublist]\n",
    "flat_b = [item.lower() for sublist in filter_pipeline.run_data.results for item in sublist]\n",
    "\n",
    "set_a = set(flat_a)\n",
    "set_b = set(flat_b)\n",
    "\n",
    "intersection = set_a & set_b\n",
    "only_a = set_a - set_b\n",
    "only_b = set_b - set_a\n",
    "\n",
    "# how many distinct keywords are in each pipeline\n",
    "print(f\"Number of keywords only in Lemmatize Only Pipeline: {len(only_a)}\")\n",
    "print(f\"Number of keywords only in Filtered Pipeline: {len(only_b)}\")\n",
    "print(f\"Number of keywords in both (intersection): {len(intersection)}\\n\")\n",
    "\n",
    "# Count occurrences of keywords\n",
    "count_a = Counter(flat_a)\n",
    "count_b = Counter(flat_b)\n",
    "\n",
    "n = 10\n",
    "\n",
    "# Display the top n keywords by count for results\n",
    "print(\"Top keywords in Lemmatize by count:\")\n",
    "top_a = count_a.most_common(n)\n",
    "for keyword, count in top_a:\n",
    "    print(f\"{keyword}: {count}\")\n",
    "\n",
    "# Display the top 5 keywords by count for truths\n",
    "print(\"\\nTop keywords in Filtered by count:\")\n",
    "top_b = count_b.most_common(n)\n",
    "for keyword, count in top_b:\n",
    "    print(f\"{keyword}: {count}\")\n",
    "\n",
    "# Create bar charts for top 5 keywords in each\n",
    "fig, ax = plt.subplots(2,1, figsize=(12, 6))\n",
    "\n",
    "# Plot for each list\n",
    "ax[0].bar([item[0] for item in top_a], [item[1] for item in top_a], color='blue')\n",
    "ax[0].set_title(f\"Top {n} Keywords in Lemmatize\")\n",
    "ax[0].set_xlabel(\"Keyword\")\n",
    "ax[0].set_ylabel(\"Count\")\n",
    "\n",
    "ax[1].bar([item[0] for item in top_b], [item[1] for item in top_b], color='green')\n",
    "ax[1].set_title(f\"Top {n} Keywords in Filtered\")\n",
    "ax[1].set_xlabel(\"Keyword\")\n",
    "ax[1].set_ylabel(\"Count\")\n",
    "\n",
    "# Show the plots\n",
    "plt.tight_layout()\n",
    "plt.show()"
   ]
  },
  {
   "cell_type": "markdown",
   "id": "cc54c0c8",
   "metadata": {},
   "source": [
    "## Predictive Labeling"
   ]
  },
  {
   "cell_type": "markdown",
   "id": "fbc01ea8",
   "metadata": {},
   "source": [
    "From the above tests, we at least have a pretty good picture of the top 10 keywords in the \"truths\". since we're trying to match the truths in our performance metrics, let's use those as our possible labels.\n",
    "\n",
    "Also, we haven't tested the new predictive labeling tools much yet. How does the MultiLogistic compare to the deep learning labeler? (Omitting the threshold vector similarity method for now since I haven't picked a good way to do threshold automatically yet).\n"
   ]
  },
  {
   "cell_type": "code",
   "execution_count": 31,
   "id": "c942e722",
   "metadata": {},
   "outputs": [
    {
     "name": "stdout",
     "output_type": "stream",
     "text": [
      "Neural Net Results\n",
      "{'precision_macro': 0.0, 'recall_macro': 0.0, 'f1_macro': 0.0, 'jaccard': 0.0525, 'exact_match_ratio': 0.0525}\n",
      "[(), (), ()]\n",
      "[['Depressive symptoms', 'Epidemiology', 'Sexual orientation', 'Social factors', 'Suicidal ideation', 'Young adults'], ['Genetic confounding', 'Modifiable lifestyle', 'Shared method variance', 'Adolescent internalizing problems'], ['Resilience', 'COVID-19', 'Mental health', 'Depression', 'Alzheimer’s disease']]\n"
     ]
    }
   ],
   "source": [
    "# top 10 true keywords\n",
    "possible_labels = [\"mental health\", \"depression\", \"schizophrenia\",\n",
    " \"covid-19\", \"suicide\", \"anxiety\", \"loneliness\",\n",
    " \"psychosis\", \"epidemiology\", \"mental disorders\"]\n",
    "\n",
    "# make copies of abstracts\n",
    "train, test = abstracts.split(ratio=0.3, seed=101)\n",
    "train_1 = copy.deepcopy(train)\n",
    "test_1 = copy.deepcopy(test)\n",
    "train_2 = copy.deepcopy(train)\n",
    "test_2 = copy.deepcopy(test)\n",
    "\n",
    "# logistic regression pipeline\n",
    "\n",
    "logistic_pipeline = Pipeline([\n",
    "    {\"name\": \"lemmatize\", \"method\":\"preprocess.Lemmatize\"},\n",
    "    {\"name\": \"vectorize\", \"method\":\"vectorizer.SentenceEmbedding\", \"params\":{\"model_name\":'all-MiniLM-L6-v2'}},\n",
    "    {\"name\": \"logistic\", \"method\": \"labeler.MultiLogistic\"}\n",
    "])\n",
    "\n",
    "logistic_pipeline.set_data(train_data=train_1, run_data=test_1, possible_labels=possible_labels)\n",
    "\n",
    "nn_pipeline = Pipeline([\n",
    "    {\"name\": \"lemmatize\", \"method\":\"preprocess.Lemmatize\"},\n",
    "    {\"name\": \"vectorize\", \"method\":\"vectorizer.SentenceEmbedding\", \"params\":{\"model_name\":'all-MiniLM-L6-v2'}},\n",
    "    {\"name\": \"logistic\", \"method\": \"labeler.SimpleNNLabeler\"}\n",
    "])\n",
    "\n",
    "nn_pipeline.set_data(train_data=train_2, run_data=test_2, possible_labels=possible_labels)\n",
    "\n",
    "#logistic_pipeline.run()\n",
    "nn_pipeline.run()\n",
    "\n",
    "#print(\"Logistic Regression Results\")\n",
    "#print(evaluate(logistic_pipeline.run_data))\n",
    "\n",
    "print(\"Neural Net Results\")\n",
    "print(evaluate(nn_pipeline.run_data))\n",
    "\n",
    "print(nn_pipeline.run_data.results[0:3])\n",
    "print(nn_pipeline.run_data.truths[0:3])"
   ]
  },
  {
   "cell_type": "markdown",
   "id": "b200e57a",
   "metadata": {},
   "source": [
    "Well, at this moment we're at a point where the neural net learned to geneally never predict anything, and where the logistic regression has a bug. These need to be resolved, because this is not a good result or demo at all."
   ]
  }
 ],
 "metadata": {
  "kernelspec": {
   "display_name": "spade",
   "language": "python",
   "name": "python3"
  },
  "language_info": {
   "codemirror_mode": {
    "name": "ipython",
    "version": 3
   },
   "file_extension": ".py",
   "mimetype": "text/x-python",
   "name": "python",
   "nbconvert_exporter": "python",
   "pygments_lexer": "ipython3",
   "version": "3.12.9"
  }
 },
 "nbformat": 4,
 "nbformat_minor": 5
}
