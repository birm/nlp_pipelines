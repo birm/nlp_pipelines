{
 "cells": [
  {
   "cell_type": "markdown",
   "id": "cfda0955",
   "metadata": {},
   "source": [
    "# Comparisons File\n",
    "\n",
    "For our two real datasets, let's go through the different combinations of pipeline and compare the results."
   ]
  },
  {
   "cell_type": "markdown",
   "id": "01a8351a",
   "metadata": {},
   "source": [
    "## Setup\n",
    "\n",
    "Import the library components, construct the datasets, and get the lists of methods."
   ]
  },
  {
   "cell_type": "code",
   "execution_count": 1,
   "id": "b9598155",
   "metadata": {},
   "outputs": [],
   "source": [
    "# imports\n",
    "from nlp_pipelines.pipeline import Pipeline\n",
    "from nlp_pipelines.evaluate import evaluate\n",
    "from nlp_pipelines.dataset import Dataset"
   ]
  },
  {
   "cell_type": "code",
   "execution_count": 2,
   "id": "e03f8589",
   "metadata": {},
   "outputs": [],
   "source": [
    "# datasets\n",
    "\n",
    "newsgroups = Dataset.from_parquet(\"./demo_data/sample_5_newsgroup_text.parquet\", text_field=\"text\", truth_field=\"label_text\")\n",
    "\n",
    "abstracts = Dataset.from_json(\"./demo_data/springer-127-parsed.json\", text_field=\"abstract\", truth_field=\"keywords\")"
   ]
  },
  {
   "cell_type": "code",
   "execution_count": 3,
   "id": "c1bd09e6",
   "metadata": {},
   "outputs": [
    {
     "name": "stderr",
     "output_type": "stream",
     "text": [
      "/opt/homebrew/Caskroom/miniconda/base/envs/spade/lib/python3.12/site-packages/tqdm/auto.py:21: TqdmWarning: IProgress not found. Please update jupyter and ipywidgets. See https://ipywidgets.readthedocs.io/en/stable/user_install.html\n",
      "  from .autonotebook import tqdm as notebook_tqdm\n"
     ]
    }
   ],
   "source": [
    "# get the lists of methods\n",
    "\n",
    "# vectorizers\n",
    "from nlp_pipelines.vectorizer import __all__ as vectorizers\n",
    "\n",
    "# classifiers\n",
    "from nlp_pipelines.classifier import __all__ as classifiers\n",
    "\n",
    "# clusterers\n",
    "from nlp_pipelines.clusterer import __all__ as clusterers\n",
    "\n",
    "# labelers\n",
    "from nlp_pipelines.labeler import __all__ as labelers\n",
    "\n",
    "# preprocesors\n",
    "from nlp_pipelines.preprocess import __all__ as preprocessors\n",
    "preprocessors.append(None)"
   ]
  },
  {
   "cell_type": "markdown",
   "id": "07a82c27",
   "metadata": {},
   "source": [
    "## Clustering\n",
    "\n",
    "Clustering is assigning each datapoint to a cluster, where the cluster meaning is not predefined."
   ]
  },
  {
   "cell_type": "code",
   "execution_count": 4,
   "id": "f9033f61",
   "metadata": {},
   "outputs": [
    {
     "name": "stdout",
     "output_type": "stream",
     "text": [
      "ERROR in Lemmatize.Tfidf.UmapHdbscan Mix of label input types (string and number)\n"
     ]
    },
    {
     "name": "stderr",
     "output_type": "stream",
     "text": [
      "/opt/homebrew/Caskroom/miniconda/base/envs/spade/lib/python3.12/site-packages/sklearn/manifold/_spectral_embedding.py:328: UserWarning: Graph is not fully connected, spectral embedding may not work as expected.\n",
      "  warnings.warn(\n",
      "/opt/homebrew/Caskroom/miniconda/base/envs/spade/lib/python3.12/site-packages/sklearn/manifold/_spectral_embedding.py:328: UserWarning: Graph is not fully connected, spectral embedding may not work as expected.\n",
      "  warnings.warn(\n",
      "/opt/homebrew/Caskroom/miniconda/base/envs/spade/lib/python3.12/site-packages/sklearn/manifold/_spectral_embedding.py:328: UserWarning: Graph is not fully connected, spectral embedding may not work as expected.\n",
      "  warnings.warn(\n",
      "/opt/homebrew/Caskroom/miniconda/base/envs/spade/lib/python3.12/site-packages/sklearn/manifold/_spectral_embedding.py:328: UserWarning: Graph is not fully connected, spectral embedding may not work as expected.\n",
      "  warnings.warn(\n",
      "Read 0M words\n",
      "Number of words:  2086\n",
      "Number of labels: 0\n",
      "Progress: 100.0% words/sec/thread:  131569 lr:  0.000000 avg.loss:  2.705948 ETA:   0h 0m 0s\n",
      "Read 0M words\n",
      "Number of words:  2086\n",
      "Number of labels: 0\n",
      "Progress: 100.0% words/sec/thread:  131374 lr:  0.000000 avg.loss:  2.704229 ETA:   0h 0m 0s\n",
      "/opt/homebrew/Caskroom/miniconda/base/envs/spade/lib/python3.12/site-packages/sklearn/manifold/_spectral_embedding.py:328: UserWarning: Graph is not fully connected, spectral embedding may not work as expected.\n",
      "  warnings.warn(\n",
      "/opt/homebrew/Caskroom/miniconda/base/envs/spade/lib/python3.12/site-packages/sklearn/manifold/_spectral_embedding.py:328: UserWarning: Graph is not fully connected, spectral embedding may not work as expected.\n",
      "  warnings.warn(\n",
      "Read 0M words\n",
      "Number of words:  2086\n",
      "Number of labels: 0\n",
      "Progress: 100.0% words/sec/thread:  133761 lr:  0.000000 avg.loss:  2.668200 ETA:   0h 0m 0s\n",
      "Read 0M words\n",
      "Number of words:  2086\n",
      "Number of labels: 0\n",
      "Progress: 100.0% words/sec/thread:  132890 lr:  0.000000 avg.loss:  2.679577 ETA:   0h 0m 0s\n",
      "/opt/homebrew/Caskroom/miniconda/base/envs/spade/lib/python3.12/site-packages/scipy/sparse/csgraph/_laplacian.py:554: RuntimeWarning: invalid value encountered in sqrt\n",
      "  w = np.where(isolated_node_mask, 1, np.sqrt(w))\n"
     ]
    },
    {
     "name": "stdout",
     "output_type": "stream",
     "text": [
      "ERROR in Lemmatize.SentenceEmbedding.GraphAffinity Input contains NaN.\n",
      "ERROR in PosRemoval.Tfidf.UmapHdbscan Mix of label input types (string and number)\n"
     ]
    },
    {
     "name": "stderr",
     "output_type": "stream",
     "text": [
      "/opt/homebrew/Caskroom/miniconda/base/envs/spade/lib/python3.12/site-packages/sklearn/manifold/_spectral_embedding.py:328: UserWarning: Graph is not fully connected, spectral embedding may not work as expected.\n",
      "  warnings.warn(\n",
      "/opt/homebrew/Caskroom/miniconda/base/envs/spade/lib/python3.12/site-packages/sklearn/manifold/_spectral_embedding.py:328: UserWarning: Graph is not fully connected, spectral embedding may not work as expected.\n",
      "  warnings.warn(\n"
     ]
    },
    {
     "name": "stdout",
     "output_type": "stream",
     "text": [
      "ERROR in PosRemoval.BagOfWords.UmapHdbscan Mix of label input types (string and number)\n"
     ]
    },
    {
     "name": "stderr",
     "output_type": "stream",
     "text": [
      "/opt/homebrew/Caskroom/miniconda/base/envs/spade/lib/python3.12/site-packages/sklearn/manifold/_spectral_embedding.py:328: UserWarning: Graph is not fully connected, spectral embedding may not work as expected.\n",
      "  warnings.warn(\n",
      "/opt/homebrew/Caskroom/miniconda/base/envs/spade/lib/python3.12/site-packages/sklearn/manifold/_spectral_embedding.py:328: UserWarning: Graph is not fully connected, spectral embedding may not work as expected.\n",
      "  warnings.warn(\n",
      "Read 0M words\n",
      "Number of words:  2086\n",
      "Number of labels: 0\n",
      "Progress: 100.0% words/sec/thread:  131899 lr:  0.000000 avg.loss:  2.697429 ETA:   0h 0m 0s\n",
      "Read 0M words\n",
      "Number of words:  2086\n",
      "Number of labels: 0\n",
      "Progress: 100.0% words/sec/thread:  131688 lr:  0.000000 avg.loss:  2.640370 ETA:   0h 0m 0s\n",
      "/opt/homebrew/Caskroom/miniconda/base/envs/spade/lib/python3.12/site-packages/sklearn/manifold/_spectral_embedding.py:328: UserWarning: Graph is not fully connected, spectral embedding may not work as expected.\n",
      "  warnings.warn(\n",
      "/opt/homebrew/Caskroom/miniconda/base/envs/spade/lib/python3.12/site-packages/sklearn/manifold/_spectral_embedding.py:328: UserWarning: Graph is not fully connected, spectral embedding may not work as expected.\n",
      "  warnings.warn(\n",
      "Read 0M words\n",
      "Number of words:  2086\n",
      "Number of labels: 0\n",
      "Progress: 100.0% words/sec/thread:  132664 lr:  0.000000 avg.loss:  2.700014 ETA:   0h 0m 0s\n",
      "Read 0M words\n",
      "Number of words:  2086\n",
      "Number of labels: 0\n",
      "Progress: 100.0% words/sec/thread:  132222 lr:  0.000000 avg.loss:  2.693625 ETA:   0h 0m 0s\n",
      "/opt/homebrew/Caskroom/miniconda/base/envs/spade/lib/python3.12/site-packages/scipy/sparse/csgraph/_laplacian.py:554: RuntimeWarning: invalid value encountered in sqrt\n",
      "  w = np.where(isolated_node_mask, 1, np.sqrt(w))\n"
     ]
    },
    {
     "name": "stdout",
     "output_type": "stream",
     "text": [
      "ERROR in PosRemoval.SentenceEmbedding.GraphAffinity Input contains NaN.\n"
     ]
    },
    {
     "name": "stderr",
     "output_type": "stream",
     "text": [
      "/opt/homebrew/Caskroom/miniconda/base/envs/spade/lib/python3.12/site-packages/sklearn/manifold/_spectral_embedding.py:328: UserWarning: Graph is not fully connected, spectral embedding may not work as expected.\n",
      "  warnings.warn(\n",
      "/opt/homebrew/Caskroom/miniconda/base/envs/spade/lib/python3.12/site-packages/sklearn/manifold/_spectral_embedding.py:328: UserWarning: Graph is not fully connected, spectral embedding may not work as expected.\n",
      "  warnings.warn(\n",
      "/opt/homebrew/Caskroom/miniconda/base/envs/spade/lib/python3.12/site-packages/sklearn/manifold/_spectral_embedding.py:328: UserWarning: Graph is not fully connected, spectral embedding may not work as expected.\n",
      "  warnings.warn(\n",
      "/opt/homebrew/Caskroom/miniconda/base/envs/spade/lib/python3.12/site-packages/sklearn/manifold/_spectral_embedding.py:328: UserWarning: Graph is not fully connected, spectral embedding may not work as expected.\n",
      "  warnings.warn(\n",
      "Read 0M words\n",
      "Number of words:  2086\n",
      "Number of labels: 0\n",
      "Progress: 100.0% words/sec/thread:  133236 lr:  0.000000 avg.loss:  2.652409 ETA:   0h 0m 0s\n",
      "Read 0M words\n",
      "Number of words:  2086\n",
      "Number of labels: 0\n",
      "Progress: 100.0% words/sec/thread:  131165 lr:  0.000000 avg.loss:  2.643854 ETA:   0h 0m 0s\n",
      "/opt/homebrew/Caskroom/miniconda/base/envs/spade/lib/python3.12/site-packages/sklearn/manifold/_spectral_embedding.py:328: UserWarning: Graph is not fully connected, spectral embedding may not work as expected.\n",
      "  warnings.warn(\n",
      "/opt/homebrew/Caskroom/miniconda/base/envs/spade/lib/python3.12/site-packages/sklearn/manifold/_spectral_embedding.py:328: UserWarning: Graph is not fully connected, spectral embedding may not work as expected.\n",
      "  warnings.warn(\n",
      "Read 0M words\n",
      "Number of words:  2086\n",
      "Number of labels: 0\n",
      "Progress: 100.0% words/sec/thread:  133768 lr:  0.000000 avg.loss:  2.692045 ETA:   0h 0m 0s\n",
      "Read 0M words\n",
      "Number of words:  2086\n",
      "Number of labels: 0\n",
      "Progress: 100.0% words/sec/thread:  131222 lr:  0.000000 avg.loss:  2.690133 ETA:   0h 0m 0s\n",
      "/opt/homebrew/Caskroom/miniconda/base/envs/spade/lib/python3.12/site-packages/scipy/sparse/csgraph/_laplacian.py:554: RuntimeWarning: invalid value encountered in sqrt\n",
      "  w = np.where(isolated_node_mask, 1, np.sqrt(w))\n"
     ]
    },
    {
     "name": "stdout",
     "output_type": "stream",
     "text": [
      "ERROR in Stem.SentenceEmbedding.GraphAffinity Input contains NaN.\n"
     ]
    },
    {
     "name": "stderr",
     "output_type": "stream",
     "text": [
      "/opt/homebrew/Caskroom/miniconda/base/envs/spade/lib/python3.12/site-packages/sklearn/manifold/_spectral_embedding.py:328: UserWarning: Graph is not fully connected, spectral embedding may not work as expected.\n",
      "  warnings.warn(\n",
      "/opt/homebrew/Caskroom/miniconda/base/envs/spade/lib/python3.12/site-packages/sklearn/manifold/_spectral_embedding.py:328: UserWarning: Graph is not fully connected, spectral embedding may not work as expected.\n",
      "  warnings.warn(\n"
     ]
    },
    {
     "name": "stdout",
     "output_type": "stream",
     "text": [
      "ERROR in StopwordRemove.BagOfWords.UmapHdbscan Mix of label input types (string and number)\n"
     ]
    },
    {
     "name": "stderr",
     "output_type": "stream",
     "text": [
      "/opt/homebrew/Caskroom/miniconda/base/envs/spade/lib/python3.12/site-packages/sklearn/manifold/_spectral_embedding.py:328: UserWarning: Graph is not fully connected, spectral embedding may not work as expected.\n",
      "  warnings.warn(\n",
      "/opt/homebrew/Caskroom/miniconda/base/envs/spade/lib/python3.12/site-packages/sklearn/manifold/_spectral_embedding.py:328: UserWarning: Graph is not fully connected, spectral embedding may not work as expected.\n",
      "  warnings.warn(\n",
      "Read 0M words\n",
      "Number of words:  2086\n",
      "Number of labels: 0\n",
      "Progress: 100.0% words/sec/thread:  131763 lr:  0.000000 avg.loss:  2.689323 ETA:   0h 0m 0s\n",
      "Read 0M words\n",
      "Number of words:  2086\n",
      "Number of labels: 0\n",
      "Progress: 100.0% words/sec/thread:  131451 lr:  0.000000 avg.loss:  2.687964 ETA:   0h 0m 0s\n",
      "/opt/homebrew/Caskroom/miniconda/base/envs/spade/lib/python3.12/site-packages/sklearn/manifold/_spectral_embedding.py:328: UserWarning: Graph is not fully connected, spectral embedding may not work as expected.\n",
      "  warnings.warn(\n",
      "/opt/homebrew/Caskroom/miniconda/base/envs/spade/lib/python3.12/site-packages/sklearn/manifold/_spectral_embedding.py:328: UserWarning: Graph is not fully connected, spectral embedding may not work as expected.\n",
      "  warnings.warn(\n",
      "Read 0M words\n",
      "Number of words:  2086\n",
      "Number of labels: 0\n",
      "Progress: 100.0% words/sec/thread:  132880 lr:  0.000000 avg.loss:  2.689950 ETA:   0h 0m 0s\n",
      "Read 0M words\n",
      "Number of words:  2086\n",
      "Number of labels: 0\n",
      "Progress: 100.0% words/sec/thread:  131047 lr:  0.000000 avg.loss:  2.702494 ETA:   0h 0m 0s\n",
      "/opt/homebrew/Caskroom/miniconda/base/envs/spade/lib/python3.12/site-packages/scipy/sparse/csgraph/_laplacian.py:554: RuntimeWarning: invalid value encountered in sqrt\n",
      "  w = np.where(isolated_node_mask, 1, np.sqrt(w))\n"
     ]
    },
    {
     "name": "stdout",
     "output_type": "stream",
     "text": [
      "ERROR in StopwordRemove.SentenceEmbedding.GraphAffinity Input contains NaN.\n"
     ]
    },
    {
     "name": "stderr",
     "output_type": "stream",
     "text": [
      "/opt/homebrew/Caskroom/miniconda/base/envs/spade/lib/python3.12/site-packages/sklearn/manifold/_spectral_embedding.py:328: UserWarning: Graph is not fully connected, spectral embedding may not work as expected.\n",
      "  warnings.warn(\n",
      "/opt/homebrew/Caskroom/miniconda/base/envs/spade/lib/python3.12/site-packages/sklearn/manifold/_spectral_embedding.py:328: UserWarning: Graph is not fully connected, spectral embedding may not work as expected.\n",
      "  warnings.warn(\n"
     ]
    },
    {
     "name": "stdout",
     "output_type": "stream",
     "text": [
      "ERROR in TokenFilter.BagOfWords.UmapHdbscan Mix of label input types (string and number)\n"
     ]
    },
    {
     "name": "stderr",
     "output_type": "stream",
     "text": [
      "/opt/homebrew/Caskroom/miniconda/base/envs/spade/lib/python3.12/site-packages/sklearn/manifold/_spectral_embedding.py:328: UserWarning: Graph is not fully connected, spectral embedding may not work as expected.\n",
      "  warnings.warn(\n",
      "/opt/homebrew/Caskroom/miniconda/base/envs/spade/lib/python3.12/site-packages/sklearn/manifold/_spectral_embedding.py:328: UserWarning: Graph is not fully connected, spectral embedding may not work as expected.\n",
      "  warnings.warn(\n",
      "Read 0M words\n",
      "Number of words:  2086\n",
      "Number of labels: 0\n",
      "Progress: 100.0% words/sec/thread:  134036 lr:  0.000000 avg.loss:  2.695890 ETA:   0h 0m 0s\n",
      "Read 0M words\n",
      "Number of words:  2086\n",
      "Number of labels: 0\n",
      "Progress: 100.0% words/sec/thread:  131145 lr:  0.000000 avg.loss:  2.697594 ETA:   0h 0m 0s\n",
      "/opt/homebrew/Caskroom/miniconda/base/envs/spade/lib/python3.12/site-packages/sklearn/manifold/_spectral_embedding.py:328: UserWarning: Graph is not fully connected, spectral embedding may not work as expected.\n",
      "  warnings.warn(\n",
      "/opt/homebrew/Caskroom/miniconda/base/envs/spade/lib/python3.12/site-packages/sklearn/manifold/_spectral_embedding.py:328: UserWarning: Graph is not fully connected, spectral embedding may not work as expected.\n",
      "  warnings.warn(\n",
      "Read 0M words\n",
      "Number of words:  2086\n",
      "Number of labels: 0\n",
      "Progress: 100.0% words/sec/thread:  131123 lr:  0.000000 avg.loss:  2.673788 ETA:   0h 0m 0s\n",
      "Read 0M words\n",
      "Number of words:  2086\n",
      "Number of labels: 0\n",
      "Progress: 100.0% words/sec/thread:  132034 lr:  0.000000 avg.loss:  2.682243 ETA:   0h 0m 0s\n",
      "/opt/homebrew/Caskroom/miniconda/base/envs/spade/lib/python3.12/site-packages/scipy/sparse/csgraph/_laplacian.py:554: RuntimeWarning: invalid value encountered in sqrt\n",
      "  w = np.where(isolated_node_mask, 1, np.sqrt(w))\n"
     ]
    },
    {
     "name": "stdout",
     "output_type": "stream",
     "text": [
      "ERROR in TokenFilter.SentenceEmbedding.GraphAffinity Input contains NaN.\n",
      "ERROR in None.Tfidf.UmapHdbscan Mix of label input types (string and number)\n"
     ]
    },
    {
     "name": "stderr",
     "output_type": "stream",
     "text": [
      "/opt/homebrew/Caskroom/miniconda/base/envs/spade/lib/python3.12/site-packages/sklearn/manifold/_spectral_embedding.py:328: UserWarning: Graph is not fully connected, spectral embedding may not work as expected.\n",
      "  warnings.warn(\n",
      "/opt/homebrew/Caskroom/miniconda/base/envs/spade/lib/python3.12/site-packages/sklearn/manifold/_spectral_embedding.py:328: UserWarning: Graph is not fully connected, spectral embedding may not work as expected.\n",
      "  warnings.warn(\n"
     ]
    },
    {
     "name": "stdout",
     "output_type": "stream",
     "text": [
      "ERROR in None.BagOfWords.UmapHdbscan Mix of label input types (string and number)\n"
     ]
    },
    {
     "name": "stderr",
     "output_type": "stream",
     "text": [
      "/opt/homebrew/Caskroom/miniconda/base/envs/spade/lib/python3.12/site-packages/sklearn/manifold/_spectral_embedding.py:328: UserWarning: Graph is not fully connected, spectral embedding may not work as expected.\n",
      "  warnings.warn(\n",
      "/opt/homebrew/Caskroom/miniconda/base/envs/spade/lib/python3.12/site-packages/sklearn/manifold/_spectral_embedding.py:328: UserWarning: Graph is not fully connected, spectral embedding may not work as expected.\n",
      "  warnings.warn(\n",
      "Read 0M words\n",
      "Number of words:  2086\n",
      "Number of labels: 0\n",
      "Progress: 100.0% words/sec/thread:  132985 lr:  0.000000 avg.loss:  2.675301 ETA:   0h 0m 0s\n",
      "Read 0M words\n",
      "Number of words:  2086\n",
      "Number of labels: 0\n",
      "Progress: 100.0% words/sec/thread:  130367 lr:  0.000000 avg.loss:  2.691245 ETA:   0h 0m 0s\n",
      "/opt/homebrew/Caskroom/miniconda/base/envs/spade/lib/python3.12/site-packages/sklearn/manifold/_spectral_embedding.py:328: UserWarning: Graph is not fully connected, spectral embedding may not work as expected.\n",
      "  warnings.warn(\n",
      "/opt/homebrew/Caskroom/miniconda/base/envs/spade/lib/python3.12/site-packages/sklearn/manifold/_spectral_embedding.py:328: UserWarning: Graph is not fully connected, spectral embedding may not work as expected.\n",
      "  warnings.warn(\n",
      "Read 0M words\n",
      "Number of words:  2086\n",
      "Number of labels: 0\n",
      "Progress: 100.0% words/sec/thread:  128791 lr:  0.000000 avg.loss:  2.700564 ETA:   0h 0m 0s\n",
      "Read 0M words\n",
      "Number of words:  2086\n",
      "Number of labels: 0\n",
      "Progress: 100.0% words/sec/thread:  129073 lr:  0.000000 avg.loss:  2.699965 ETA:   0h 0m 0s\n",
      "/opt/homebrew/Caskroom/miniconda/base/envs/spade/lib/python3.12/site-packages/scipy/sparse/csgraph/_laplacian.py:554: RuntimeWarning: invalid value encountered in sqrt\n",
      "  w = np.where(isolated_node_mask, 1, np.sqrt(w))\n"
     ]
    },
    {
     "name": "stdout",
     "output_type": "stream",
     "text": [
      "ERROR in None.SentenceEmbedding.GraphAffinity Input contains NaN.\n"
     ]
    }
   ],
   "source": [
    "cluster_test_results = {}\n",
    "\n",
    "# combinations of preprocessor or none, vectorizer, clusterer\n",
    "import itertools\n",
    "import copy\n",
    "\n",
    "combinations = itertools.product(preprocessors, vectorizers, clusterers) # pick one from each list (including None for preprocess)\n",
    "\n",
    "# same test, train, val split\n",
    "cluster_test, cluster_train = newsgroups.split(ratio=0.8, labeled=True, splitLabeled=True)\n",
    "for x in combinations:\n",
    "    preproc, vec, method = x\n",
    "    key = f\"{str(preproc)}.{vec}.{method}\"\n",
    "    try:\n",
    "        m = {\"name\": \"cluster\", \"method\": f\"clusterer.{method}\"}\n",
    "        if method in ['Kmeans, GraphAffinity']:\n",
    "            m['params'] = {'num_clusters': 5}\n",
    "        pipeline_list = [\n",
    "            {\"name\": \"vectorize\", \"method\": f\"vectorizer.{vec}\"},\n",
    "            m\n",
    "        ]\n",
    "        if preproc is not None:\n",
    "            pipeline_list = [{\"name\": \"preprocess\", \"method\": f\"preprocess.{preproc}\"}] + pipeline_list\n",
    "        # construct pipeline\n",
    "        pipeline = Pipeline(pipeline_list)\n",
    "        # copy data\n",
    "        train = copy.deepcopy(cluster_train)\n",
    "        test = copy.deepcopy(cluster_test)\n",
    "        # set data\n",
    "        pipeline.set_data(train_data=train, run_data=test)\n",
    "        # run\n",
    "        pipeline.run()\n",
    "        # evaluate\n",
    "        cluster_test_results[key] = evaluate(pipeline.run_data, cluster_mode=True)\n",
    "    except BaseException as e:\n",
    "        print(f\"ERROR in {key}\", e)\n",
    "\n"
   ]
  },
  {
   "cell_type": "code",
   "execution_count": 5,
   "id": "b3de1a05",
   "metadata": {},
   "outputs": [
    {
     "name": "stdout",
     "output_type": "stream",
     "text": [
      " 1. Lemmatize.SentenceEmbedding.Kmeans       | F1 Macro: 0.3869 | Accuracy: 0.5500\n",
      " 2. StopwordRemove.SentenceEmbedding.Kmeans  | F1 Macro: 0.3807 | Accuracy: 0.5200\n",
      " 3. TokenFilter.SentenceEmbedding.Kmeans     | F1 Macro: 0.3447 | Accuracy: 0.4700\n",
      " 4. None.SentenceEmbedding.Kmeans            | F1 Macro: 0.3240 | Accuracy: 0.4500\n",
      " 5. PosRemoval.SentenceEmbedding.Kmeans      | F1 Macro: 0.2943 | Accuracy: 0.4300\n",
      " 6. Stem.SentenceEmbedding.Kmeans            | F1 Macro: 0.2789 | Accuracy: 0.4000\n",
      " 7. StopwordRemove.Tfidf.Kmeans              | F1 Macro: 0.2603 | Accuracy: 0.3500\n",
      " 8. Lemmatize.Tfidf.Kmeans                   | F1 Macro: 0.2280 | Accuracy: 0.3300\n",
      " 9. None.SentenceEmbedding.UmapHdbscan       | F1 Macro: 0.2122 | Accuracy: 0.4500\n",
      "10. TokenFilter.FastText.Kmeans              | F1 Macro: 0.2089 | Accuracy: 0.3300\n",
      "11. Stem.SentenceEmbedding.UmapHdbscan       | F1 Macro: 0.2065 | Accuracy: 0.4100\n",
      "12. Lemmatize.SentenceEmbedding.UmapHdbscan  | F1 Macro: 0.2056 | Accuracy: 0.4400\n",
      "13. PosRemoval.SentenceEmbedding.UmapHdbscan | F1 Macro: 0.2056 | Accuracy: 0.4500\n",
      "14. None.Tfidf.Kmeans                        | F1 Macro: 0.2039 | Accuracy: 0.3000\n",
      "15. TokenFilter.Tfidf.GraphAffinity          | F1 Macro: 0.2027 | Accuracy: 0.3700\n",
      "16. StopwordRemove.SentenceEmbedding.UmapHdbscan | F1 Macro: 0.2016 | Accuracy: 0.4300\n",
      "17. PosRemoval.Tfidf.Kmeans                  | F1 Macro: 0.2013 | Accuracy: 0.2700\n",
      "18. None.Tfidf.GraphAffinity                 | F1 Macro: 0.2010 | Accuracy: 0.3700\n",
      "19. PosRemoval.Tfidf.GraphAffinity           | F1 Macro: 0.2002 | Accuracy: 0.3700\n",
      "20. StopwordRemove.Tfidf.GraphAffinity       | F1 Macro: 0.1995 | Accuracy: 0.3700\n",
      "21. TokenFilter.Tfidf.Kmeans                 | F1 Macro: 0.1978 | Accuracy: 0.2800\n",
      "22. Stem.Tfidf.Kmeans                        | F1 Macro: 0.1925 | Accuracy: 0.2800\n",
      "23. StopwordRemove.FastText.Kmeans           | F1 Macro: 0.1888 | Accuracy: 0.3000\n",
      "24. TokenFilter.SentenceEmbedding.UmapHdbscan | F1 Macro: 0.1864 | Accuracy: 0.3300\n",
      "25. None.FastText.UmapHdbscan                | F1 Macro: 0.1838 | Accuracy: 0.2900\n",
      "26. Lemmatize.Tfidf.GraphAffinity            | F1 Macro: 0.1838 | Accuracy: 0.3400\n",
      "27. TokenFilter.FastText.GraphAffinity       | F1 Macro: 0.1832 | Accuracy: 0.3400\n",
      "28. PosRemoval.FastText.Kmeans               | F1 Macro: 0.1726 | Accuracy: 0.2900\n",
      "29. Lemmatize.FastText.Kmeans                | F1 Macro: 0.1715 | Accuracy: 0.2800\n",
      "30. Stem.FastText.UmapHdbscan                | F1 Macro: 0.1713 | Accuracy: 0.1900\n",
      "31. TokenFilter.BagOfWords.GraphAffinity     | F1 Macro: 0.1705 | Accuracy: 0.3200\n",
      "32. None.FastText.Kmeans                     | F1 Macro: 0.1660 | Accuracy: 0.2800\n",
      "33. StopwordRemove.BagOfWords.GraphAffinity  | F1 Macro: 0.1657 | Accuracy: 0.3100\n",
      "34. Stem.Tfidf.GraphAffinity                 | F1 Macro: 0.1656 | Accuracy: 0.3100\n",
      "35. Lemmatize.FastText.UmapHdbscan           | F1 Macro: 0.1613 | Accuracy: 0.2900\n",
      "36. Stem.FastText.Kmeans                     | F1 Macro: 0.1538 | Accuracy: 0.2600\n",
      "37. PosRemoval.BagOfWords.GraphAffinity      | F1 Macro: 0.1496 | Accuracy: 0.2800\n",
      "38. Lemmatize.BagOfWords.GraphAffinity       | F1 Macro: 0.1475 | Accuracy: 0.2700\n",
      "39. Stem.BagOfWords.GraphAffinity            | F1 Macro: 0.1445 | Accuracy: 0.2700\n",
      "40. None.BagOfWords.GraphAffinity            | F1 Macro: 0.1445 | Accuracy: 0.2700\n",
      "41. Lemmatize.BagOfWords.Kmeans              | F1 Macro: 0.1443 | Accuracy: 0.2900\n",
      "42. StopwordRemove.FastText.UmapHdbscan      | F1 Macro: 0.1412 | Accuracy: 0.3000\n",
      "43. TokenFilter.Tfidf.UmapHdbscan            | F1 Macro: 0.1310 | Accuracy: 0.1500\n",
      "44. PosRemoval.BagOfWords.Kmeans             | F1 Macro: 0.1287 | Accuracy: 0.2700\n",
      "45. Stem.BagOfWords.Kmeans                   | F1 Macro: 0.1287 | Accuracy: 0.2700\n",
      "46. None.BagOfWords.Kmeans                   | F1 Macro: 0.1287 | Accuracy: 0.2700\n",
      "47. PosRemoval.FastText.UmapHdbscan          | F1 Macro: 0.1284 | Accuracy: 0.2600\n",
      "48. StopwordRemove.Tfidf.UmapHdbscan         | F1 Macro: 0.1251 | Accuracy: 0.1600\n",
      "49. TokenFilter.FastText.UmapHdbscan         | F1 Macro: 0.1227 | Accuracy: 0.1600\n",
      "50. Stem.BagOfWords.UmapHdbscan              | F1 Macro: 0.1073 | Accuracy: 0.1600\n",
      "51. Lemmatize.FastText.GraphAffinity         | F1 Macro: 0.1022 | Accuracy: 0.2700\n",
      "52. None.FastText.GraphAffinity              | F1 Macro: 0.1022 | Accuracy: 0.2700\n",
      "53. StopwordRemove.FastText.GraphAffinity    | F1 Macro: 0.1021 | Accuracy: 0.2700\n",
      "54. TokenFilter.BagOfWords.Kmeans            | F1 Macro: 0.1005 | Accuracy: 0.2700\n",
      "55. Lemmatize.BagOfWords.UmapHdbscan         | F1 Macro: 0.1004 | Accuracy: 0.1300\n",
      "56. PosRemoval.FastText.GraphAffinity        | F1 Macro: 0.0999 | Accuracy: 0.2700\n",
      "57. Stem.FastText.GraphAffinity              | F1 Macro: 0.0999 | Accuracy: 0.2700\n",
      "58. StopwordRemove.BagOfWords.Kmeans         | F1 Macro: 0.0973 | Accuracy: 0.2600\n",
      "59. Stem.Tfidf.UmapHdbscan                   | F1 Macro: 0.0889 | Accuracy: 0.1000\n",
      "60. PosRemoval.SentenceEmbedding.Svm         | F1 Macro: 0.0782 | Accuracy: 0.1900\n",
      "61. None.SentenceEmbedding.Svm               | F1 Macro: 0.0756 | Accuracy: 0.1700\n",
      "62. TokenFilter.FastText.Svm                 | F1 Macro: 0.0746 | Accuracy: 0.1700\n",
      "63. None.FastText.Svm                        | F1 Macro: 0.0746 | Accuracy: 0.1700\n",
      "64. Lemmatize.SentenceEmbedding.Svm          | F1 Macro: 0.0711 | Accuracy: 0.1600\n",
      "65. StopwordRemove.FastText.Svm              | F1 Macro: 0.0711 | Accuracy: 0.1600\n",
      "66. Stem.FastText.Svm                        | F1 Macro: 0.0702 | Accuracy: 0.1600\n",
      "67. None.Tfidf.Svm                           | F1 Macro: 0.0676 | Accuracy: 0.1500\n",
      "68. StopwordRemove.SentenceEmbedding.Svm     | F1 Macro: 0.0667 | Accuracy: 0.1400\n",
      "69. Stem.SentenceEmbedding.Svm               | F1 Macro: 0.0657 | Accuracy: 0.1400\n",
      "70. Lemmatize.FastText.Svm                   | F1 Macro: 0.0639 | Accuracy: 0.1400\n",
      "71. TokenFilter.Tfidf.Svm                    | F1 Macro: 0.0625 | Accuracy: 0.1500\n",
      "72. PosRemoval.BagOfWords.Svm                | F1 Macro: 0.0619 | Accuracy: 0.1300\n",
      "73. Stem.BagOfWords.Svm                      | F1 Macro: 0.0619 | Accuracy: 0.1300\n",
      "74. None.BagOfWords.Svm                      | F1 Macro: 0.0619 | Accuracy: 0.1300\n",
      "75. Lemmatize.Tfidf.Svm                      | F1 Macro: 0.0610 | Accuracy: 0.1500\n",
      "76. PosRemoval.FastText.Svm                  | F1 Macro: 0.0606 | Accuracy: 0.1400\n",
      "77. TokenFilter.BagOfWords.Svm               | F1 Macro: 0.0606 | Accuracy: 0.1400\n",
      "78. TokenFilter.SentenceEmbedding.Svm        | F1 Macro: 0.0602 | Accuracy: 0.1300\n",
      "79. Lemmatize.BagOfWords.Svm                 | F1 Macro: 0.0563 | Accuracy: 0.1300\n",
      "80. StopwordRemove.Tfidf.Svm                 | F1 Macro: 0.0561 | Accuracy: 0.1600\n",
      "81. Stem.Tfidf.Svm                           | F1 Macro: 0.0542 | Accuracy: 0.1300\n",
      "82. PosRemoval.Tfidf.Svm                     | F1 Macro: 0.0531 | Accuracy: 0.1100\n",
      "83. StopwordRemove.BagOfWords.Svm            | F1 Macro: 0.0526 | Accuracy: 0.1200\n"
     ]
    }
   ],
   "source": [
    "sorted_results = sorted(cluster_test_results.items(), key=lambda x: x[1]['f1_macro'], reverse=True)\n",
    "for rank, (config, score) in enumerate(sorted_results, start=1):\n",
    "    print(f\"{rank:2}. {config:<40} | F1 Macro: {score['f1_macro']:.4f} | Accuracy: {score['accuracy']:.4f}\")\n"
   ]
  },
  {
   "cell_type": "markdown",
   "id": "c9330290",
   "metadata": {},
   "source": [
    "# Classification\n",
    "\n",
    "Like clusters, but with predefined classes."
   ]
  },
  {
   "cell_type": "code",
   "execution_count": 6,
   "id": "f31941b6",
   "metadata": {},
   "outputs": [
    {
     "name": "stderr",
     "output_type": "stream",
     "text": [
      "Device set to use mps:0\n"
     ]
    },
    {
     "name": "stdout",
     "output_type": "stream",
     "text": [
      "ERROR in Lemmatize.Tfidf.BartTag Length of `truths` and `results` must match.\n"
     ]
    },
    {
     "name": "stderr",
     "output_type": "stream",
     "text": [
      "Device set to use mps:0\n"
     ]
    },
    {
     "name": "stdout",
     "output_type": "stream",
     "text": [
      "ERROR in Lemmatize.BagOfWords.BartTag Length of `truths` and `results` must match.\n"
     ]
    },
    {
     "name": "stderr",
     "output_type": "stream",
     "text": [
      "Read 0M words\n",
      "Number of words:  2105\n",
      "Number of labels: 0\n",
      "Progress: 100.0% words/sec/thread:  126137 lr:  0.000000 avg.loss:  2.733311 ETA:   0h 0m 0s\n",
      "Read 0M words\n",
      "Number of words:  2105\n",
      "Number of labels: 0\n",
      "Progress: 100.0% words/sec/thread:  127073 lr:  0.000000 avg.loss:  2.716863 ETA:   0h 0m 0s\n",
      "Device set to use mps:0\n",
      "Read 0M words\n",
      "Number of words:  2105\n",
      "Number of labels: 0\n",
      "Progress: 100.0% words/sec/thread:  129403 lr:  0.000000 avg.loss:  2.693324 ETA:   0h 0m 0s\n"
     ]
    },
    {
     "name": "stdout",
     "output_type": "stream",
     "text": [
      "ERROR in Lemmatize.FastText.BartTag Length of `truths` and `results` must match.\n"
     ]
    },
    {
     "name": "stderr",
     "output_type": "stream",
     "text": [
      "Read 0M words\n",
      "Number of words:  2105\n",
      "Number of labels: 0\n",
      "Progress: 100.0% words/sec/thread:  127687 lr:  0.000000 avg.loss:  2.683336 ETA:   0h 0m 0s\n",
      "Device set to use mps:0\n"
     ]
    },
    {
     "name": "stdout",
     "output_type": "stream",
     "text": [
      "ERROR in Lemmatize.SentenceEmbedding.BartTag Length of `truths` and `results` must match.\n"
     ]
    },
    {
     "name": "stderr",
     "output_type": "stream",
     "text": [
      "Device set to use mps:0\n"
     ]
    },
    {
     "name": "stdout",
     "output_type": "stream",
     "text": [
      "ERROR in PosRemoval.Tfidf.BartTag Length of `truths` and `results` must match.\n"
     ]
    },
    {
     "name": "stderr",
     "output_type": "stream",
     "text": [
      "Device set to use mps:0\n"
     ]
    },
    {
     "name": "stdout",
     "output_type": "stream",
     "text": [
      "ERROR in PosRemoval.BagOfWords.BartTag Length of `truths` and `results` must match.\n"
     ]
    },
    {
     "name": "stderr",
     "output_type": "stream",
     "text": [
      "Read 0M words\n",
      "Number of words:  2105\n",
      "Number of labels: 0\n",
      "Progress: 100.0% words/sec/thread:  128147 lr:  0.000000 avg.loss:  2.694401 ETA:   0h 0m 0s\n",
      "Read 0M words\n",
      "Number of words:  2105\n",
      "Number of labels: 0\n",
      "Progress: 100.0% words/sec/thread:  125778 lr:  0.000000 avg.loss:  2.682763 ETA:   0h 0m 0s\n",
      "Device set to use mps:0\n",
      "Read 0M words\n",
      "Number of words:  2105\n",
      "Number of labels: 0\n",
      "Progress: 100.0% words/sec/thread:  125669 lr:  0.000000 avg.loss:  2.689538 ETA:   0h 0m 0s\n"
     ]
    },
    {
     "name": "stdout",
     "output_type": "stream",
     "text": [
      "ERROR in PosRemoval.FastText.BartTag Length of `truths` and `results` must match.\n"
     ]
    },
    {
     "name": "stderr",
     "output_type": "stream",
     "text": [
      "Read 0M words\n",
      "Number of words:  2105\n",
      "Number of labels: 0\n",
      "Progress: 100.0% words/sec/thread:  127671 lr:  0.000000 avg.loss:  2.692022 ETA:   0h 0m 0s\n",
      "Device set to use mps:0\n"
     ]
    },
    {
     "name": "stdout",
     "output_type": "stream",
     "text": [
      "ERROR in PosRemoval.SentenceEmbedding.BartTag Length of `truths` and `results` must match.\n"
     ]
    },
    {
     "name": "stderr",
     "output_type": "stream",
     "text": [
      "Device set to use mps:0\n"
     ]
    },
    {
     "name": "stdout",
     "output_type": "stream",
     "text": [
      "ERROR in Stem.Tfidf.BartTag Length of `truths` and `results` must match.\n"
     ]
    },
    {
     "name": "stderr",
     "output_type": "stream",
     "text": [
      "Device set to use mps:0\n"
     ]
    },
    {
     "name": "stdout",
     "output_type": "stream",
     "text": [
      "ERROR in Stem.BagOfWords.BartTag Length of `truths` and `results` must match.\n"
     ]
    },
    {
     "name": "stderr",
     "output_type": "stream",
     "text": [
      "Read 0M words\n",
      "Number of words:  2105\n",
      "Number of labels: 0\n",
      "Progress: 100.0% words/sec/thread:  124659 lr:  0.000000 avg.loss:  2.710859 ETA:   0h 0m 0s\n",
      "Read 0M words\n",
      "Number of words:  2105\n",
      "Number of labels: 0\n",
      "Progress: 100.0% words/sec/thread:  125826 lr:  0.000000 avg.loss:  2.675167 ETA:   0h 0m 0s\n",
      "Device set to use mps:0\n",
      "Read 0M words\n",
      "Number of words:  2105\n",
      "Number of labels: 0\n",
      "Progress: 100.0% words/sec/thread:  126191 lr:  0.000000 avg.loss:  2.687732 ETA:   0h 0m 0s\n"
     ]
    },
    {
     "name": "stdout",
     "output_type": "stream",
     "text": [
      "ERROR in Stem.FastText.BartTag Length of `truths` and `results` must match.\n"
     ]
    },
    {
     "name": "stderr",
     "output_type": "stream",
     "text": [
      "Read 0M words\n",
      "Number of words:  2105\n",
      "Number of labels: 0\n",
      "Progress: 100.0% words/sec/thread:  127166 lr:  0.000000 avg.loss:  2.696028 ETA:   0h 0m 0s\n",
      "Device set to use mps:0\n"
     ]
    },
    {
     "name": "stdout",
     "output_type": "stream",
     "text": [
      "ERROR in Stem.SentenceEmbedding.BartTag Length of `truths` and `results` must match.\n"
     ]
    },
    {
     "name": "stderr",
     "output_type": "stream",
     "text": [
      "Device set to use mps:0\n"
     ]
    },
    {
     "name": "stdout",
     "output_type": "stream",
     "text": [
      "ERROR in StopwordRemove.Tfidf.BartTag Length of `truths` and `results` must match.\n"
     ]
    },
    {
     "name": "stderr",
     "output_type": "stream",
     "text": [
      "Device set to use mps:0\n"
     ]
    },
    {
     "name": "stdout",
     "output_type": "stream",
     "text": [
      "ERROR in StopwordRemove.BagOfWords.BartTag Length of `truths` and `results` must match.\n"
     ]
    },
    {
     "name": "stderr",
     "output_type": "stream",
     "text": [
      "Read 0M words\n",
      "Number of words:  2105\n",
      "Number of labels: 0\n",
      "Progress: 100.0% words/sec/thread:  126402 lr:  0.000000 avg.loss:  2.696874 ETA:   0h 0m 0s\n",
      "Read 0M words\n",
      "Number of words:  2105\n",
      "Number of labels: 0\n",
      "Progress: 100.0% words/sec/thread:  127681 lr:  0.000000 avg.loss:  2.681041 ETA:   0h 0m 0s\n",
      "Device set to use mps:0\n",
      "Read 0M words\n",
      "Number of words:  2105\n",
      "Number of labels: 0\n",
      "Progress: 100.0% words/sec/thread:  125901 lr:  0.000000 avg.loss:  2.684826 ETA:   0h 0m 0s\n"
     ]
    },
    {
     "name": "stdout",
     "output_type": "stream",
     "text": [
      "ERROR in StopwordRemove.FastText.BartTag Length of `truths` and `results` must match.\n"
     ]
    },
    {
     "name": "stderr",
     "output_type": "stream",
     "text": [
      "Read 0M words\n",
      "Number of words:  2105\n",
      "Number of labels: 0\n",
      "Progress: 100.0% words/sec/thread:  123689 lr:  0.000000 avg.loss:  2.719604 ETA:   0h 0m 0s\n",
      "Device set to use mps:0\n"
     ]
    },
    {
     "name": "stdout",
     "output_type": "stream",
     "text": [
      "ERROR in StopwordRemove.SentenceEmbedding.BartTag Length of `truths` and `results` must match.\n"
     ]
    },
    {
     "name": "stderr",
     "output_type": "stream",
     "text": [
      "Device set to use mps:0\n"
     ]
    },
    {
     "name": "stdout",
     "output_type": "stream",
     "text": [
      "ERROR in TokenFilter.Tfidf.BartTag Length of `truths` and `results` must match.\n"
     ]
    },
    {
     "name": "stderr",
     "output_type": "stream",
     "text": [
      "Device set to use mps:0\n"
     ]
    },
    {
     "name": "stdout",
     "output_type": "stream",
     "text": [
      "ERROR in TokenFilter.BagOfWords.BartTag Length of `truths` and `results` must match.\n"
     ]
    },
    {
     "name": "stderr",
     "output_type": "stream",
     "text": [
      "Read 0M words\n",
      "Number of words:  2105\n",
      "Number of labels: 0\n",
      "Progress: 100.0% words/sec/thread:  126127 lr:  0.000000 avg.loss:  2.717223 ETA:   0h 0m 0s\n",
      "Read 0M words\n",
      "Number of words:  2105\n",
      "Number of labels: 0\n",
      "Progress: 100.0% words/sec/thread:  130660 lr:  0.000000 avg.loss:  2.718211 ETA:   0h 0m 0s\n",
      "Device set to use mps:0\n",
      "Read 0M words\n",
      "Number of words:  2105\n",
      "Number of labels: 0\n",
      "Progress: 100.0% words/sec/thread:  126989 lr:  0.000000 avg.loss:  2.684438 ETA:   0h 0m 0s\n"
     ]
    },
    {
     "name": "stdout",
     "output_type": "stream",
     "text": [
      "ERROR in TokenFilter.FastText.BartTag Length of `truths` and `results` must match.\n"
     ]
    },
    {
     "name": "stderr",
     "output_type": "stream",
     "text": [
      "Read 0M words\n",
      "Number of words:  2105\n",
      "Number of labels: 0\n",
      "Progress: 100.0% words/sec/thread:   99816 lr:  0.000000 avg.loss:  2.700806 ETA:   0h 0m 0s\n",
      "Device set to use mps:0\n"
     ]
    },
    {
     "name": "stdout",
     "output_type": "stream",
     "text": [
      "ERROR in TokenFilter.SentenceEmbedding.BartTag Length of `truths` and `results` must match.\n"
     ]
    },
    {
     "name": "stderr",
     "output_type": "stream",
     "text": [
      "Device set to use mps:0\n"
     ]
    },
    {
     "name": "stdout",
     "output_type": "stream",
     "text": [
      "ERROR in None.Tfidf.BartTag Length of `truths` and `results` must match.\n"
     ]
    },
    {
     "name": "stderr",
     "output_type": "stream",
     "text": [
      "Device set to use mps:0\n"
     ]
    },
    {
     "name": "stdout",
     "output_type": "stream",
     "text": [
      "ERROR in None.BagOfWords.BartTag Length of `truths` and `results` must match.\n"
     ]
    },
    {
     "name": "stderr",
     "output_type": "stream",
     "text": [
      "Read 0M words\n",
      "Number of words:  2105\n",
      "Number of labels: 0\n",
      "Progress: 100.0% words/sec/thread:  135684 lr:  0.000000 avg.loss:  2.683640 ETA:   0h 0m 0s\n",
      "Read 0M words\n",
      "Number of words:  2105\n",
      "Number of labels: 0\n",
      "Progress: 100.0% words/sec/thread:  131980 lr:  0.000000 avg.loss:  2.689818 ETA:   0h 0m 0s\n",
      "Device set to use mps:0\n",
      "Read 0M words\n",
      "Number of words:  2105\n",
      "Number of labels: 0\n",
      "Progress: 100.0% words/sec/thread:  132671 lr:  0.000000 avg.loss:  2.698976 ETA:   0h 0m 0s\n"
     ]
    },
    {
     "name": "stdout",
     "output_type": "stream",
     "text": [
      "ERROR in None.FastText.BartTag Length of `truths` and `results` must match.\n"
     ]
    },
    {
     "name": "stderr",
     "output_type": "stream",
     "text": [
      "Read 0M words\n",
      "Number of words:  2105\n",
      "Number of labels: 0\n",
      "Progress: 100.0% words/sec/thread:   98782 lr:  0.000000 avg.loss:  2.699819 ETA:   0h 0m 0s\n",
      "Device set to use mps:0\n"
     ]
    },
    {
     "name": "stdout",
     "output_type": "stream",
     "text": [
      "ERROR in None.SentenceEmbedding.BartTag Length of `truths` and `results` must match.\n"
     ]
    }
   ],
   "source": [
    "class_test_results = {}\n",
    "\n",
    "newsgroup_labels = list(set(newsgroups.truths))\n",
    "\n",
    "combinations = itertools.product(preprocessors, vectorizers, classifiers) # pick one from each list (including None for preprocess)\n",
    "\n",
    "# same test train split within loop\n",
    "class_test, class_train = newsgroups.split(ratio=0.8, labeled=True, splitLabeled=True)\n",
    "for x in combinations:\n",
    "    preproc, vec, method = x\n",
    "    key = f\"{str(preproc)}.{vec}.{method}\"\n",
    "    try:\n",
    "        pipeline_list = [\n",
    "            {\"name\": \"vectorize\", \"method\": f\"vectorizer.{vec}\"},\n",
    "            {\"name\": \"classifier\", \"method\": f\"classifier.{method}\"}\n",
    "        ]\n",
    "        if preproc is not None:\n",
    "            pipeline_list = [{\"name\": \"preprocess\", \"method\": f\"preprocess.{preproc}\"}] + pipeline_list\n",
    "        # construct pipeline\n",
    "        pipeline = Pipeline(pipeline_list)\n",
    "        # copy data\n",
    "        train = copy.deepcopy(class_train)\n",
    "        test = copy.deepcopy(class_test)\n",
    "        # set data\n",
    "        pipeline.set_data(train_data=train, run_data=test, possible_labels=newsgroup_labels)\n",
    "        # run\n",
    "        pipeline.run()\n",
    "        # evaluate\n",
    "        class_test_results[key] = evaluate(pipeline.run_data)\n",
    "    except BaseException as e:\n",
    "        print(f\"ERROR in {key}\", e)\n",
    "\n"
   ]
  },
  {
   "cell_type": "code",
   "execution_count": 7,
   "id": "3b28a720",
   "metadata": {},
   "outputs": [
    {
     "name": "stdout",
     "output_type": "stream",
     "text": [
      " 1. PosRemoval.SentenceEmbedding.LabelProp   | F1 Macro: 0.8501 | Accuracy: 0.8500\n",
      " 2. None.SentenceEmbedding.LabelProp         | F1 Macro: 0.8406 | Accuracy: 0.8400\n",
      " 3. PosRemoval.SentenceEmbedding.SimpleNNClassifier | F1 Macro: 0.8392 | Accuracy: 0.8400\n",
      " 4. None.SentenceEmbedding.SimpleNNClassifier | F1 Macro: 0.8392 | Accuracy: 0.8400\n",
      " 5. TokenFilter.SentenceEmbedding.LabelProp  | F1 Macro: 0.8323 | Accuracy: 0.8300\n",
      " 6. Lemmatize.SentenceEmbedding.SimpleNNClassifier | F1 Macro: 0.8301 | Accuracy: 0.8300\n",
      " 7. StopwordRemove.SentenceEmbedding.LabelProp | F1 Macro: 0.8225 | Accuracy: 0.8200\n",
      " 8. Lemmatize.SentenceEmbedding.LabelProp    | F1 Macro: 0.8206 | Accuracy: 0.8200\n",
      " 9. TokenFilter.SentenceEmbedding.SimpleNNClassifier | F1 Macro: 0.8102 | Accuracy: 0.8100\n",
      "10. Stem.SentenceEmbedding.SimpleNNClassifier | F1 Macro: 0.8002 | Accuracy: 0.8000\n",
      "11. Stem.SentenceEmbedding.LabelProp         | F1 Macro: 0.7952 | Accuracy: 0.7900\n",
      "12. StopwordRemove.SentenceEmbedding.SimpleNNClassifier | F1 Macro: 0.7898 | Accuracy: 0.7900\n",
      "13. TokenFilter.BagOfWords.SimpleNNClassifier | F1 Macro: 0.7380 | Accuracy: 0.7400\n",
      "14. TokenFilter.Tfidf.SimpleNNClassifier     | F1 Macro: 0.7376 | Accuracy: 0.7400\n",
      "15. Stem.Tfidf.SimpleNNClassifier            | F1 Macro: 0.7360 | Accuracy: 0.7400\n",
      "16. StopwordRemove.Tfidf.SimpleNNClassifier  | F1 Macro: 0.7313 | Accuracy: 0.7300\n",
      "17. PosRemoval.Tfidf.SimpleNNClassifier      | F1 Macro: 0.7267 | Accuracy: 0.7300\n",
      "18. Lemmatize.Tfidf.SimpleNNClassifier       | F1 Macro: 0.7264 | Accuracy: 0.7300\n",
      "19. None.Tfidf.SimpleNNClassifier            | F1 Macro: 0.7224 | Accuracy: 0.7300\n",
      "20. PosRemoval.BagOfWords.SimpleNNClassifier | F1 Macro: 0.7218 | Accuracy: 0.7200\n",
      "21. None.BagOfWords.SimpleNNClassifier       | F1 Macro: 0.7200 | Accuracy: 0.7100\n",
      "22. PosRemoval.SentenceEmbedding.Xgboost     | F1 Macro: 0.7186 | Accuracy: 0.7200\n",
      "23. StopwordRemove.SentenceEmbedding.Xgboost | F1 Macro: 0.7184 | Accuracy: 0.7200\n",
      "24. Lemmatize.SentenceEmbedding.Xgboost      | F1 Macro: 0.7105 | Accuracy: 0.7100\n",
      "25. None.SentenceEmbedding.Xgboost           | F1 Macro: 0.7072 | Accuracy: 0.7100\n",
      "26. StopwordRemove.BagOfWords.SimpleNNClassifier | F1 Macro: 0.7062 | Accuracy: 0.7100\n",
      "27. Stem.SentenceEmbedding.Xgboost           | F1 Macro: 0.6881 | Accuracy: 0.6900\n",
      "28. TokenFilter.SentenceEmbedding.Xgboost    | F1 Macro: 0.6791 | Accuracy: 0.6800\n",
      "29. Lemmatize.BagOfWords.SimpleNNClassifier  | F1 Macro: 0.6635 | Accuracy: 0.6600\n",
      "30. Stem.BagOfWords.SimpleNNClassifier       | F1 Macro: 0.6504 | Accuracy: 0.6600\n",
      "31. Lemmatize.BagOfWords.Xgboost             | F1 Macro: 0.5923 | Accuracy: 0.5800\n",
      "32. StopwordRemove.BagOfWords.Xgboost        | F1 Macro: 0.5881 | Accuracy: 0.5800\n",
      "33. TokenFilter.BagOfWords.Xgboost           | F1 Macro: 0.5881 | Accuracy: 0.5800\n",
      "34. Stem.BagOfWords.Xgboost                  | F1 Macro: 0.5740 | Accuracy: 0.5700\n",
      "35. StopwordRemove.Tfidf.Xgboost             | F1 Macro: 0.5703 | Accuracy: 0.5600\n",
      "36. TokenFilter.Tfidf.Xgboost                | F1 Macro: 0.5703 | Accuracy: 0.5600\n",
      "37. PosRemoval.BagOfWords.Xgboost            | F1 Macro: 0.5596 | Accuracy: 0.5500\n",
      "38. Lemmatize.Tfidf.Xgboost                  | F1 Macro: 0.5531 | Accuracy: 0.5500\n",
      "39. PosRemoval.Tfidf.Xgboost                 | F1 Macro: 0.5466 | Accuracy: 0.5400\n",
      "40. None.BagOfWords.Xgboost                  | F1 Macro: 0.5402 | Accuracy: 0.5300\n",
      "41. Stem.Tfidf.Xgboost                       | F1 Macro: 0.5395 | Accuracy: 0.5400\n",
      "42. None.Tfidf.Xgboost                       | F1 Macro: 0.5360 | Accuracy: 0.5300\n",
      "43. PosRemoval.FastText.LabelProp            | F1 Macro: 0.4256 | Accuracy: 0.4200\n",
      "44. Lemmatize.FastText.Xgboost               | F1 Macro: 0.4080 | Accuracy: 0.4200\n",
      "45. Stem.FastText.Xgboost                    | F1 Macro: 0.3831 | Accuracy: 0.3900\n",
      "46. PosRemoval.FastText.Xgboost              | F1 Macro: 0.3819 | Accuracy: 0.3800\n",
      "47. None.FastText.Xgboost                    | F1 Macro: 0.3528 | Accuracy: 0.3500\n",
      "48. Stem.FastText.LabelProp                  | F1 Macro: 0.3513 | Accuracy: 0.3500\n",
      "49. Lemmatize.FastText.LabelProp             | F1 Macro: 0.3329 | Accuracy: 0.3300\n",
      "50. None.FastText.LabelProp                  | F1 Macro: 0.3099 | Accuracy: 0.3100\n",
      "51. PosRemoval.BagOfWords.LabelProp          | F1 Macro: 0.2747 | Accuracy: 0.2800\n",
      "52. Lemmatize.BagOfWords.LabelProp           | F1 Macro: 0.2710 | Accuracy: 0.2800\n",
      "53. Stem.BagOfWords.LabelProp                | F1 Macro: 0.2671 | Accuracy: 0.2800\n",
      "54. None.BagOfWords.LabelProp                | F1 Macro: 0.2648 | Accuracy: 0.2700\n",
      "55. TokenFilter.FastText.Xgboost             | F1 Macro: 0.2551 | Accuracy: 0.3100\n",
      "56. StopwordRemove.FastText.LabelProp        | F1 Macro: 0.2363 | Accuracy: 0.3200\n",
      "57. TokenFilter.FastText.LabelProp           | F1 Macro: 0.2090 | Accuracy: 0.2800\n",
      "58. StopwordRemove.FastText.Xgboost          | F1 Macro: 0.2076 | Accuracy: 0.2800\n",
      "59. TokenFilter.FastText.SimpleNNClassifier  | F1 Macro: 0.1722 | Accuracy: 0.2200\n",
      "60. StopwordRemove.BagOfWords.LabelProp      | F1 Macro: 0.1570 | Accuracy: 0.2300\n",
      "61. TokenFilter.BagOfWords.LabelProp         | F1 Macro: 0.1570 | Accuracy: 0.2300\n",
      "62. None.FastText.SimpleNNClassifier         | F1 Macro: 0.1486 | Accuracy: 0.2300\n",
      "63. PosRemoval.FastText.SimpleNNClassifier   | F1 Macro: 0.1468 | Accuracy: 0.2100\n",
      "64. Stem.FastText.SimpleNNClassifier         | F1 Macro: 0.1058 | Accuracy: 0.2000\n",
      "65. Lemmatize.FastText.SimpleNNClassifier    | F1 Macro: 0.0794 | Accuracy: 0.1900\n",
      "66. StopwordRemove.FastText.SimpleNNClassifier | F1 Macro: 0.0639 | Accuracy: 0.1900\n",
      "67. Lemmatize.Tfidf.LabelProp                | F1 Macro: 0.0581 | Accuracy: 0.1700\n",
      "68. PosRemoval.Tfidf.LabelProp               | F1 Macro: 0.0581 | Accuracy: 0.1700\n",
      "69. Stem.Tfidf.LabelProp                     | F1 Macro: 0.0581 | Accuracy: 0.1700\n",
      "70. StopwordRemove.Tfidf.LabelProp           | F1 Macro: 0.0581 | Accuracy: 0.1700\n",
      "71. TokenFilter.Tfidf.LabelProp              | F1 Macro: 0.0581 | Accuracy: 0.1700\n",
      "72. None.Tfidf.LabelProp                     | F1 Macro: 0.0581 | Accuracy: 0.1700\n"
     ]
    }
   ],
   "source": [
    "sorted_results = sorted(class_test_results.items(), key=lambda x: x[1]['f1_macro'], reverse=True)\n",
    "for rank, (config, score) in enumerate(sorted_results, start=1):\n",
    "    print(f\"{rank:2}. {config:<40} | F1 Macro: {score['f1_macro']:.4f} | Accuracy: {score['accuracy']:.4f}\")\n"
   ]
  }
 ],
 "metadata": {
  "kernelspec": {
   "display_name": "spade",
   "language": "python",
   "name": "python3"
  },
  "language_info": {
   "codemirror_mode": {
    "name": "ipython",
    "version": 3
   },
   "file_extension": ".py",
   "mimetype": "text/x-python",
   "name": "python",
   "nbconvert_exporter": "python",
   "pygments_lexer": "ipython3",
   "version": "3.12.9"
  }
 },
 "nbformat": 4,
 "nbformat_minor": 5
}
